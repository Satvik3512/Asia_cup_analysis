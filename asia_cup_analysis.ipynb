{
 "cells": [
  {
   "cell_type": "markdown",
   "id": "6f0356bc",
   "metadata": {},
   "source": [
    "Firstly, importing the required libraries "
   ]
  },
  {
   "cell_type": "code",
   "execution_count": 1,
   "id": "31521cbe",
   "metadata": {},
   "outputs": [],
   "source": [
    "import pandas as pd\n",
    "import numpy as np\n",
    "import matplotlib.pyplot as plt\n",
    "import seaborn as sns\n",
    "%matplotlib inline"
   ]
  },
  {
   "cell_type": "markdown",
   "id": "129a7202",
   "metadata": {},
   "source": [
    "Now, loading all the required files"
   ]
  },
  {
   "cell_type": "code",
   "execution_count": 37,
   "id": "74637c18",
   "metadata": {},
   "outputs": [],
   "source": [
    "asia_cup=pd.read_csv(\"C:\\\\Users\\\\91893\\\\Downloads\\\\my_datasets\\\\cricket_datasets\\\\asia_cup_data\\\\asiacup.csv\")\n",
    "batsman_odi=pd.read_csv(\"C:\\\\Users\\\\91893\\\\Downloads\\\\my_datasets\\\\cricket_datasets\\\\asia_cup_data\\\\batsman data odi.csv\")\n",
    "batsman_t20=pd.read_csv(\"C:\\\\Users\\\\91893\\\\Downloads\\\\my_datasets\\\\cricket_datasets\\\\asia_cup_data\\\\batsman data t20i.csv\")\n",
    "bowler_odi=pd.read_csv(\"C:\\\\Users\\\\91893\\\\Downloads\\\\my_datasets\\\\cricket_datasets\\\\asia_cup_data\\\\bowler data odi.csv\")\n",
    "bowler_t20=pd.read_csv(\"C:\\\\Users\\\\91893\\\\Downloads\\\\my_datasets\\\\cricket_datasets\\\\asia_cup_data\\\\bowler data t20i.csv\")\n",
    "champion=pd.read_csv(\"C:\\\\Users\\\\91893\\\\Downloads\\\\my_datasets\\\\cricket_datasets\\\\asia_cup_data\\\\champion.csv\")\n",
    "wk_odi=pd.read_csv(\"C:\\\\Users\\\\91893\\\\Downloads\\\\my_datasets\\\\cricket_datasets\\\\asia_cup_data\\\\wicketkeeper data odi.csv\")\n",
    "wk_t20=pd.read_csv(\"C:\\\\Users\\\\91893\\\\Downloads\\\\my_datasets\\\\cricket_datasets\\\\asia_cup_data\\\\wicketkeeper data t20i.csv\")"
   ]
  },
  {
   "cell_type": "markdown",
   "id": "fd16d5f3",
   "metadata": {},
   "source": [
    "Now, let us explore the data contained in these files"
   ]
  },
  {
   "cell_type": "code",
   "execution_count": 203,
   "id": "c65051a4",
   "metadata": {},
   "outputs": [
    {
     "data": {
      "text/html": [
       "<div>\n",
       "<style scoped>\n",
       "    .dataframe tbody tr th:only-of-type {\n",
       "        vertical-align: middle;\n",
       "    }\n",
       "\n",
       "    .dataframe tbody tr th {\n",
       "        vertical-align: top;\n",
       "    }\n",
       "\n",
       "    .dataframe thead th {\n",
       "        text-align: right;\n",
       "    }\n",
       "</style>\n",
       "<table border=\"1\" class=\"dataframe\">\n",
       "  <thead>\n",
       "    <tr style=\"text-align: right;\">\n",
       "      <th></th>\n",
       "      <th>Team</th>\n",
       "      <th>Opponent</th>\n",
       "      <th>Format</th>\n",
       "      <th>Ground</th>\n",
       "      <th>Year</th>\n",
       "      <th>Toss</th>\n",
       "      <th>Selection</th>\n",
       "      <th>Run Scored</th>\n",
       "      <th>Wicket Lost</th>\n",
       "      <th>Fours</th>\n",
       "      <th>Sixes</th>\n",
       "      <th>Extras</th>\n",
       "      <th>Run Rate</th>\n",
       "      <th>Avg Bat Strike Rate</th>\n",
       "      <th>Highest Score</th>\n",
       "      <th>Wicket Taken</th>\n",
       "      <th>Given Extras</th>\n",
       "      <th>Highest Individual wicket</th>\n",
       "      <th>Player Of The Match</th>\n",
       "      <th>Result</th>\n",
       "    </tr>\n",
       "  </thead>\n",
       "  <tbody>\n",
       "    <tr>\n",
       "      <th>0</th>\n",
       "      <td>Pakistan</td>\n",
       "      <td>Sri Lanka</td>\n",
       "      <td>ODI</td>\n",
       "      <td>Sharjah</td>\n",
       "      <td>1984</td>\n",
       "      <td>Lose</td>\n",
       "      <td>Batting</td>\n",
       "      <td>187.0</td>\n",
       "      <td>9.0</td>\n",
       "      <td>9.0</td>\n",
       "      <td>3.0</td>\n",
       "      <td>21.0</td>\n",
       "      <td>4.06</td>\n",
       "      <td>52.04</td>\n",
       "      <td>47.0</td>\n",
       "      <td>5.0</td>\n",
       "      <td>26.0</td>\n",
       "      <td>2.0</td>\n",
       "      <td>Roy Dias</td>\n",
       "      <td>Lose</td>\n",
       "    </tr>\n",
       "    <tr>\n",
       "      <th>1</th>\n",
       "      <td>Sri Lanka</td>\n",
       "      <td>Pakistan</td>\n",
       "      <td>ODI</td>\n",
       "      <td>Sharjah</td>\n",
       "      <td>1984</td>\n",
       "      <td>Win</td>\n",
       "      <td>Bowling</td>\n",
       "      <td>190.0</td>\n",
       "      <td>5.0</td>\n",
       "      <td>11.0</td>\n",
       "      <td>1.0</td>\n",
       "      <td>26.0</td>\n",
       "      <td>4.36</td>\n",
       "      <td>68.51</td>\n",
       "      <td>57.0</td>\n",
       "      <td>9.0</td>\n",
       "      <td>21.0</td>\n",
       "      <td>3.0</td>\n",
       "      <td>Roy Dias</td>\n",
       "      <td>Win</td>\n",
       "    </tr>\n",
       "    <tr>\n",
       "      <th>2</th>\n",
       "      <td>India</td>\n",
       "      <td>Sri Lanka</td>\n",
       "      <td>ODI</td>\n",
       "      <td>Sharjah</td>\n",
       "      <td>1984</td>\n",
       "      <td>Win</td>\n",
       "      <td>Bowling</td>\n",
       "      <td>97.0</td>\n",
       "      <td>0.0</td>\n",
       "      <td>9.0</td>\n",
       "      <td>0.0</td>\n",
       "      <td>14.0</td>\n",
       "      <td>4.47</td>\n",
       "      <td>60.48</td>\n",
       "      <td>51.0</td>\n",
       "      <td>10.0</td>\n",
       "      <td>8.0</td>\n",
       "      <td>3.0</td>\n",
       "      <td>Surinder Khanna</td>\n",
       "      <td>Win</td>\n",
       "    </tr>\n",
       "    <tr>\n",
       "      <th>3</th>\n",
       "      <td>Sri Lanka</td>\n",
       "      <td>India</td>\n",
       "      <td>ODI</td>\n",
       "      <td>Sharjah</td>\n",
       "      <td>1984</td>\n",
       "      <td>Lose</td>\n",
       "      <td>Batting</td>\n",
       "      <td>96.0</td>\n",
       "      <td>10.0</td>\n",
       "      <td>7.0</td>\n",
       "      <td>0.0</td>\n",
       "      <td>8.0</td>\n",
       "      <td>2.34</td>\n",
       "      <td>25.74</td>\n",
       "      <td>38.0</td>\n",
       "      <td>0.0</td>\n",
       "      <td>14.0</td>\n",
       "      <td>0.0</td>\n",
       "      <td>Surinder Khanna</td>\n",
       "      <td>Lose</td>\n",
       "    </tr>\n",
       "    <tr>\n",
       "      <th>4</th>\n",
       "      <td>India</td>\n",
       "      <td>Pakistan</td>\n",
       "      <td>ODI</td>\n",
       "      <td>Sharjah</td>\n",
       "      <td>1984</td>\n",
       "      <td>Win</td>\n",
       "      <td>Batting</td>\n",
       "      <td>188.0</td>\n",
       "      <td>4.0</td>\n",
       "      <td>13.0</td>\n",
       "      <td>3.0</td>\n",
       "      <td>17.0</td>\n",
       "      <td>4.08</td>\n",
       "      <td>60.21</td>\n",
       "      <td>56.0</td>\n",
       "      <td>10.0</td>\n",
       "      <td>5.0</td>\n",
       "      <td>3.0</td>\n",
       "      <td>Surinder Khanna</td>\n",
       "      <td>Win</td>\n",
       "    </tr>\n",
       "  </tbody>\n",
       "</table>\n",
       "</div>"
      ],
      "text/plain": [
       "        Team   Opponent Format   Ground  Year  Toss Selection  Run Scored  \\\n",
       "0   Pakistan  Sri Lanka    ODI  Sharjah  1984  Lose   Batting       187.0   \n",
       "1  Sri Lanka   Pakistan    ODI  Sharjah  1984   Win   Bowling       190.0   \n",
       "2      India  Sri Lanka    ODI  Sharjah  1984   Win   Bowling        97.0   \n",
       "3  Sri Lanka      India    ODI  Sharjah  1984  Lose   Batting        96.0   \n",
       "4      India   Pakistan    ODI  Sharjah  1984   Win   Batting       188.0   \n",
       "\n",
       "   Wicket Lost  Fours  Sixes  Extras  Run Rate  Avg Bat Strike Rate  \\\n",
       "0          9.0    9.0    3.0    21.0      4.06                52.04   \n",
       "1          5.0   11.0    1.0    26.0      4.36                68.51   \n",
       "2          0.0    9.0    0.0    14.0      4.47                60.48   \n",
       "3         10.0    7.0    0.0     8.0      2.34                25.74   \n",
       "4          4.0   13.0    3.0    17.0      4.08                60.21   \n",
       "\n",
       "   Highest Score  Wicket Taken  Given Extras  Highest Individual wicket  \\\n",
       "0           47.0           5.0          26.0                        2.0   \n",
       "1           57.0           9.0          21.0                        3.0   \n",
       "2           51.0          10.0           8.0                        3.0   \n",
       "3           38.0           0.0          14.0                        0.0   \n",
       "4           56.0          10.0           5.0                        3.0   \n",
       "\n",
       "  Player Of The Match Result  \n",
       "0            Roy Dias   Lose  \n",
       "1            Roy Dias    Win  \n",
       "2     Surinder Khanna    Win  \n",
       "3     Surinder Khanna   Lose  \n",
       "4     Surinder Khanna    Win  "
      ]
     },
     "execution_count": 203,
     "metadata": {},
     "output_type": "execute_result"
    }
   ],
   "source": [
    "asia_cup.head()"
   ]
  },
  {
   "cell_type": "code",
   "execution_count": 7,
   "id": "28e3bb74",
   "metadata": {},
   "outputs": [
    {
     "name": "stdout",
     "output_type": "stream",
     "text": [
      "<class 'pandas.core.frame.DataFrame'>\n",
      "RangeIndex: 254 entries, 0 to 253\n",
      "Data columns (total 20 columns):\n",
      " #   Column                     Non-Null Count  Dtype  \n",
      "---  ------                     --------------  -----  \n",
      " 0   Team                       254 non-null    object \n",
      " 1   Opponent                   254 non-null    object \n",
      " 2   Format                     254 non-null    object \n",
      " 3   Ground                     254 non-null    object \n",
      " 4   Year                       254 non-null    int64  \n",
      " 5   Toss                       254 non-null    object \n",
      " 6   Selection                  254 non-null    object \n",
      " 7   Run Scored                 252 non-null    float64\n",
      " 8   Wicket Lost                252 non-null    float64\n",
      " 9   Fours                      252 non-null    float64\n",
      " 10  Sixes                      252 non-null    float64\n",
      " 11  Extras                     252 non-null    float64\n",
      " 12  Run Rate                   252 non-null    float64\n",
      " 13  Avg Bat Strike Rate        252 non-null    float64\n",
      " 14  Highest Score              252 non-null    float64\n",
      " 15  Wicket Taken               252 non-null    float64\n",
      " 16  Given Extras               252 non-null    float64\n",
      " 17  Highest Individual wicket  252 non-null    float64\n",
      " 18  Player Of The Match        252 non-null    object \n",
      " 19  Result                     254 non-null    object \n",
      "dtypes: float64(11), int64(1), object(8)\n",
      "memory usage: 39.8+ KB\n"
     ]
    }
   ],
   "source": [
    "asia_cup.info()"
   ]
  },
  {
   "cell_type": "code",
   "execution_count": 16,
   "id": "919a74e5",
   "metadata": {},
   "outputs": [
    {
     "name": "stdout",
     "output_type": "stream",
     "text": [
      "teams : ['Pakistan' 'Sri Lanka' 'India' 'Bangladesh' 'Hong Kong' 'UAE'\n",
      " 'Afghanistan']\n",
      "formats : ['ODI' 'T20I']\n",
      "edition : [1984 1986 1988 1990 1991 1995 1997 2000 2004 2008 2010 2012 2014 2016\n",
      " 2018 2022]\n"
     ]
    }
   ],
   "source": [
    "print('teams :', asia_cup['Team'].unique())\n",
    "print('formats :', asia_cup['Format'].unique())\n",
    "print('edition :', asia_cup['Year'].unique())\n"
   ]
  },
  {
   "cell_type": "markdown",
   "id": "6ada5dc2",
   "metadata": {},
   "source": [
    "# Batsman(ODI) stats"
   ]
  },
  {
   "cell_type": "code",
   "execution_count": 321,
   "id": "e1afef06",
   "metadata": {},
   "outputs": [
    {
     "data": {
      "text/html": [
       "<div>\n",
       "<style scoped>\n",
       "    .dataframe tbody tr th:only-of-type {\n",
       "        vertical-align: middle;\n",
       "    }\n",
       "\n",
       "    .dataframe tbody tr th {\n",
       "        vertical-align: top;\n",
       "    }\n",
       "\n",
       "    .dataframe thead th {\n",
       "        text-align: right;\n",
       "    }\n",
       "</style>\n",
       "<table border=\"1\" class=\"dataframe\">\n",
       "  <thead>\n",
       "    <tr style=\"text-align: right;\">\n",
       "      <th></th>\n",
       "      <th>Player Name</th>\n",
       "      <th>Country</th>\n",
       "      <th>Time Period</th>\n",
       "      <th>Matches</th>\n",
       "      <th>Played</th>\n",
       "      <th>Not Outs</th>\n",
       "      <th>Runs</th>\n",
       "      <th>Highest Score</th>\n",
       "      <th>Batting Average</th>\n",
       "      <th>Balls Faced</th>\n",
       "      <th>Strike Rate</th>\n",
       "      <th>Centuries</th>\n",
       "      <th>Fifties</th>\n",
       "      <th>Ducks</th>\n",
       "      <th>Fours</th>\n",
       "      <th>Sixes</th>\n",
       "    </tr>\n",
       "  </thead>\n",
       "  <tbody>\n",
       "    <tr>\n",
       "      <th>0</th>\n",
       "      <td>ST Jayasuriya</td>\n",
       "      <td>Sri Lanka</td>\n",
       "      <td>1990-2008</td>\n",
       "      <td>25</td>\n",
       "      <td>24</td>\n",
       "      <td>1</td>\n",
       "      <td>1220</td>\n",
       "      <td>130</td>\n",
       "      <td>53.04</td>\n",
       "      <td>1190</td>\n",
       "      <td>102.52</td>\n",
       "      <td>6</td>\n",
       "      <td>3</td>\n",
       "      <td>1</td>\n",
       "      <td>139</td>\n",
       "      <td>23</td>\n",
       "    </tr>\n",
       "    <tr>\n",
       "      <th>1</th>\n",
       "      <td>KC Sangakkara</td>\n",
       "      <td>Sri Lanka</td>\n",
       "      <td>2004-2014</td>\n",
       "      <td>24</td>\n",
       "      <td>23</td>\n",
       "      <td>1</td>\n",
       "      <td>1075</td>\n",
       "      <td>121</td>\n",
       "      <td>48.86</td>\n",
       "      <td>1272</td>\n",
       "      <td>84.51</td>\n",
       "      <td>4</td>\n",
       "      <td>8</td>\n",
       "      <td>2</td>\n",
       "      <td>107</td>\n",
       "      <td>7</td>\n",
       "    </tr>\n",
       "    <tr>\n",
       "      <th>2</th>\n",
       "      <td>SR Tendulkar</td>\n",
       "      <td>India</td>\n",
       "      <td>1990-2012</td>\n",
       "      <td>23</td>\n",
       "      <td>21</td>\n",
       "      <td>2</td>\n",
       "      <td>971</td>\n",
       "      <td>114</td>\n",
       "      <td>51.10</td>\n",
       "      <td>1136</td>\n",
       "      <td>85.47</td>\n",
       "      <td>2</td>\n",
       "      <td>7</td>\n",
       "      <td>0</td>\n",
       "      <td>108</td>\n",
       "      <td>8</td>\n",
       "    </tr>\n",
       "    <tr>\n",
       "      <th>3</th>\n",
       "      <td>Shoaib Malik</td>\n",
       "      <td>Pakistan</td>\n",
       "      <td>2000-2018</td>\n",
       "      <td>17</td>\n",
       "      <td>15</td>\n",
       "      <td>3</td>\n",
       "      <td>786</td>\n",
       "      <td>143</td>\n",
       "      <td>65.50</td>\n",
       "      <td>867</td>\n",
       "      <td>90.65</td>\n",
       "      <td>3</td>\n",
       "      <td>3</td>\n",
       "      <td>0</td>\n",
       "      <td>76</td>\n",
       "      <td>8</td>\n",
       "    </tr>\n",
       "    <tr>\n",
       "      <th>4</th>\n",
       "      <td>RG Sharma</td>\n",
       "      <td>India</td>\n",
       "      <td>2008-2018</td>\n",
       "      <td>22</td>\n",
       "      <td>21</td>\n",
       "      <td>5</td>\n",
       "      <td>745</td>\n",
       "      <td>111</td>\n",
       "      <td>46.56</td>\n",
       "      <td>877</td>\n",
       "      <td>84.94</td>\n",
       "      <td>1</td>\n",
       "      <td>6</td>\n",
       "      <td>1</td>\n",
       "      <td>60</td>\n",
       "      <td>17</td>\n",
       "    </tr>\n",
       "  </tbody>\n",
       "</table>\n",
       "</div>"
      ],
      "text/plain": [
       "      Player Name    Country Time Period  Matches  Played  Not Outs  Runs  \\\n",
       "0  ST Jayasuriya   Sri Lanka   1990-2008       25      24         1  1220   \n",
       "1  KC Sangakkara   Sri Lanka   2004-2014       24      23         1  1075   \n",
       "2   SR Tendulkar       India   1990-2012       23      21         2   971   \n",
       "3   Shoaib Malik    Pakistan   2000-2018       17      15         3   786   \n",
       "4      RG Sharma       India   2008-2018       22      21         5   745   \n",
       "\n",
       "   Highest Score  Batting Average  Balls Faced  Strike Rate  Centuries  \\\n",
       "0            130            53.04         1190       102.52          6   \n",
       "1            121            48.86         1272        84.51          4   \n",
       "2            114            51.10         1136        85.47          2   \n",
       "3            143            65.50          867        90.65          3   \n",
       "4            111            46.56          877        84.94          1   \n",
       "\n",
       "   Fifties  Ducks  Fours  Sixes  \n",
       "0        3      1    139     23  \n",
       "1        8      2    107      7  \n",
       "2        7      0    108      8  \n",
       "3        3      0     76      8  \n",
       "4        6      1     60     17  "
      ]
     },
     "execution_count": 321,
     "metadata": {},
     "output_type": "execute_result"
    }
   ],
   "source": [
    "batsman_odi.head()\n"
   ]
  },
  {
   "cell_type": "code",
   "execution_count": 309,
   "id": "54b93162",
   "metadata": {},
   "outputs": [
    {
     "data": {
      "text/plain": [
       "Text(0.5, 1.0, 'top 10 batsmen in Asia Cup(ODI)')"
      ]
     },
     "execution_count": 309,
     "metadata": {},
     "output_type": "execute_result"
    },
    {
     "data": {
      "image/png": "[encoded data removed]",
      "text/plain": [
       "<Figure size 432x288 with 1 Axes>"
      ]
     },
     "metadata": {
      "needs_background": "light"
     },
     "output_type": "display_data"
    }
   ],
   "source": [
    "top_10_batsman=batsman_odi.sort_values(by='Runs',ascending=False).head(10)\n",
    "names=top_10_batsman['Player Name']\n",
    "runs=top_10_batsman['Runs']\n",
    "plt.barh(names,runs)\n",
    "plt.ylabel('Player')\n",
    "plt.xlabel('Runs')\n",
    "plt.title('top 10 batsmen in Asia Cup(ODI)')"
   ]
  },
  {
   "cell_type": "code",
   "execution_count": 19,
   "id": "b72526f8",
   "metadata": {},
   "outputs": [],
   "source": [
    "from pandasql import sqldf as sql"
   ]
  },
  {
   "cell_type": "code",
   "execution_count": 322,
   "id": "687d4f21",
   "metadata": {},
   "outputs": [
    {
     "name": "stdout",
     "output_type": "stream",
     "text": [
      "        Player Name     Country  Matches  Sixes\n",
      "0    Shahid Afridi     Pakistan       23     26\n",
      "1    ST Jayasuriya    Sri Lanka       25     23\n",
      "2         SK Raina        India       13     18\n",
      "3        RG Sharma        India       22     17\n",
      "4       SC Ganguly        India       13     13\n",
      "5         MS Dhoni        India       19     12\n",
      "6   Inzamam-ul-Haq     Pakistan       15     12\n",
      "7         V Sehwag        India       13     12\n",
      "8  Mushfiqur Rahim   Bangladesh       21     10\n",
      "9    Misbah-ul-Haq     Pakistan       14     10\n"
     ]
    },
    {
     "data": {
      "text/plain": [
       "Text(0.5, 1.0, 'top 10 batsmen in Asia Cup(ODI) with most sixes')"
      ]
     },
     "execution_count": 322,
     "metadata": {},
     "output_type": "execute_result"
    },
    {
     "data": {
      "image/png": "[encoded data removed]",
      "text/plain": [
       "<Figure size 432x288 with 1 Axes>"
      ]
     },
     "metadata": {
      "needs_background": "light"
     },
     "output_type": "display_data"
    }
   ],
   "source": [
    "query=\"select [Player Name],Country,Matches,Sixes from batsman_odi order by Sixes desc limit 10\"\n",
    "pysqldf=lambda q: sql(q,globals())\n",
    "result_df=pysqldf(query)\n",
    "print(result_df)\n",
    "most_sixes=batsman_odi.sort_values(by='Sixes',ascending=False).head(10)\n",
    "names=most_sixes['Player Name']\n",
    "six=most_sixes['Sixes']\n",
    "plt.barh(names,six)\n",
    "plt.ylabel('Player')\n",
    "plt.xlabel('Sixes')\n",
    "plt.title('top 10 batsmen in Asia Cup(ODI) with most sixes')"
   ]
  },
  {
   "cell_type": "code",
   "execution_count": 72,
   "id": "b33ba8da",
   "metadata": {},
   "outputs": [
    {
     "name": "stdout",
     "output_type": "stream",
     "text": [
      "number of odi matches :    count(*)\n",
      "0       206\n",
      "number of t20 matches :    count(*)\n",
      "0        48\n"
     ]
    }
   ],
   "source": [
    "odi=\"select count(*) from asia_cup where Format is 'ODI'\"\n",
    "t20=\"select count(*) from asia_cup where Format is 'T20I'\"\n",
    "print(\"number of odi matches :\",pysqldf(odi))\n",
    "print(\"number of t20 matches :\",pysqldf(t20))"
   ]
  },
  {
   "cell_type": "code",
   "execution_count": 74,
   "id": "05f85e83",
   "metadata": {},
   "outputs": [
    {
     "name": "stdout",
     "output_type": "stream",
     "text": [
      "number of odi matches :    count(distinct(Year))\n",
      "0                     14\n",
      "number of t20 matches :    count(distinct(Year))\n",
      "0                      2\n"
     ]
    }
   ],
   "source": [
    "odi_edition=\"select count(distinct(Year)) from asia_cup where Format is 'ODI'\"\n",
    "t20_edition=\"select count(distinct(Year)) from asia_cup where Format is 'T20I'\"\n",
    "print(\"number of odi matches :\",pysqldf(odi_edition))\n",
    "print(\"number of t20 matches :\",pysqldf(t20_edition))"
   ]
  },
  {
   "cell_type": "code",
   "execution_count": 323,
   "id": "b963289b",
   "metadata": {},
   "outputs": [
    {
     "name": "stdout",
     "output_type": "stream",
     "text": [
      "             Player Name      Country  Matches  Runs  Batting Average\n",
      "0            Fawad Alam      Pakistan        4   251           251.00\n",
      "1            AD Mathews     Sri Lanka       11   331            82.75\n",
      "2         Nasir Jamshed      Pakistan        6   298            74.50\n",
      "3              NS Sidhu         India       14   530            66.25\n",
      "4  Hashmatullah Shahidi   Afghanistan        5   263            65.75\n",
      "5          Shoaib Malik      Pakistan       17   786            65.50\n",
      "6              MS Dhoni         India       19   648            64.80\n",
      "7           MS Atapattu     Sri Lanka       13   642            64.20\n",
      "8               V Kohli         India       11   613            61.30\n",
      "9              SK Raina         India       13   547            60.77\n"
     ]
    },
    {
     "data": {
      "text/plain": [
       "Text(0.5, 1.0, 'top 10 batsmen in Asia Cup(ODI) with best average')"
      ]
     },
     "execution_count": 323,
     "metadata": {},
     "output_type": "execute_result"
    },
    {
     "data": {
      "image/png": "[encoded data removed]",
      "text/plain": [
       "<Figure size 432x288 with 1 Axes>"
      ]
     },
     "metadata": {
      "needs_background": "light"
     },
     "output_type": "display_data"
    }
   ],
   "source": [
    "query2=\"select [Player Name],Country, Matches,Runs, [Batting Average] from batsman_odi order by [Batting Average] desc limit 10\"\n",
    "print(pysqldf(query2))\n",
    "best_avg=batsman_odi.sort_values(by='Batting Average',ascending=False).head(10)\n",
    "names=best_avg['Player Name']\n",
    "avg=best_avg['Batting Average']\n",
    "plt.barh(names,avg)\n",
    "plt.ylabel('Player')\n",
    "plt.xlabel('Batting Average')\n",
    "plt.title('top 10 batsmen in Asia Cup(ODI) with best average')"
   ]
  },
  {
   "cell_type": "code",
   "execution_count": 324,
   "id": "9f6381e2",
   "metadata": {},
   "outputs": [
    {
     "name": "stdout",
     "output_type": "stream",
     "text": [
      "         Player Name      Country  Matches  Runs  Highest Score\n",
      "0           V Kohli         India       11   613            183\n",
      "1   Mushfiqur Rahim    Bangladesh       21   699            144\n",
      "2       Younis Khan      Pakistan       14   546            144\n",
      "3      Shoaib Malik      Pakistan       17   786            143\n",
      "4        SC Ganguly         India       13   518            135\n",
      "5       A Ranatunga     Sri Lanka       19   741            131\n",
      "6     ST Jayasuriya     Sri Lanka       25  1220            130\n",
      "7          S Dhawan         India        9   534            127\n",
      "8     Shahid Afridi      Pakistan       23   532            124\n",
      "9  Mohammad Shahzad   Afghanistan        9   308            124\n"
     ]
    },
    {
     "data": {
      "text/plain": [
       "Text(0.5, 1.0, 'Highest individual score in Asia Cup(ODI)')"
      ]
     },
     "execution_count": 324,
     "metadata": {},
     "output_type": "execute_result"
    },
    {
     "data": {
      "image/png": "[encoded data removed]",
      "text/plain": [
       "<Figure size 432x288 with 1 Axes>"
      ]
     },
     "metadata": {
      "needs_background": "light"
     },
     "output_type": "display_data"
    }
   ],
   "source": [
    "query3=\"select [Player Name],Country,Matches,Runs,[Highest Score] from batsman_odi order by [Highest Score] desc limit 10\"\n",
    "print(pysqldf(query3))\n",
    "HS=batsman_odi.sort_values(by='Highest Score',ascending=False).head(10)\n",
    "names=HS['Player Name']\n",
    "hs=HS['Highest Score']\n",
    "plt.barh(names,hs)\n",
    "plt.ylabel('Player')\n",
    "plt.xlabel('Highest Score')\n",
    "plt.title('Highest individual score in Asia Cup(ODI)')"
   ]
  },
  {
   "cell_type": "code",
   "execution_count": 325,
   "id": "fad9f046",
   "metadata": {},
   "outputs": [
    {
     "name": "stdout",
     "output_type": "stream",
     "text": [
      "        Player Name     Country  Matches  Runs  Centuries\n",
      "0    ST Jayasuriya    Sri Lanka       25  1220          6\n",
      "1    KC Sangakkara    Sri Lanka       24  1075          4\n",
      "2     Shoaib Malik     Pakistan       17   786          3\n",
      "3          V Kohli        India       11   613          3\n",
      "4     SR Tendulkar        India       23   971          2\n",
      "5  Mushfiqur Rahim   Bangladesh       21   699          2\n",
      "6         SK Raina        India       13   547          2\n",
      "7      Younis Khan     Pakistan       14   546          2\n",
      "8         S Dhawan        India        9   534          2\n",
      "9    Shahid Afridi     Pakistan       23   532          2\n"
     ]
    },
    {
     "data": {
      "text/plain": [
       "Text(0.5, 1.0, 'top 10 batsmen in Asia Cup(ODI) with most 100s')"
      ]
     },
     "execution_count": 325,
     "metadata": {},
     "output_type": "execute_result"
    },
    {
     "data": {
      "image/png": "[encoded data removed]",
      "text/plain": [
       "<Figure size 432x288 with 1 Axes>"
      ]
     },
     "metadata": {
      "needs_background": "light"
     },
     "output_type": "display_data"
    }
   ],
   "source": [
    "query3=\"select [Player Name],Country,Matches,Runs,Centuries from batsman_odi order by Centuries desc limit 10\"\n",
    "print(pysqldf(query3))\n",
    "most_100=batsman_odi.sort_values(by='Centuries',ascending=False).head(10)\n",
    "names=most_100['Player Name']\n",
    "cents=most_100['Centuries']\n",
    "plt.barh(names,cents)\n",
    "plt.ylabel('Player')\n",
    "plt.xlabel('Centuries')\n",
    "plt.title('top 10 batsmen in Asia Cup(ODI) with most 100s')"
   ]
  },
  {
   "cell_type": "code",
   "execution_count": 33,
   "id": "002515c4",
   "metadata": {},
   "outputs": [
    {
     "name": "stdout",
     "output_type": "stream",
     "text": [
      "         Player Name    Country  Matches  Runs  Centuries  Fifties\n",
      "0     KC Sangakkara   Sri Lanka       24  1075          4        8\n",
      "1     ST Jayasuriya   Sri Lanka       25  1220          6        3\n",
      "2      SR Tendulkar       India       23   971          2        7\n",
      "3         RG Sharma       India       22   745          1        6\n",
      "4       A Ranatunga   Sri Lanka       19   741          1        6\n",
      "5  DPMD Jayawardene   Sri Lanka       28   674          0        7\n",
      "6       MS Atapattu   Sri Lanka       13   642          1        6\n",
      "7          NS Sidhu       India       14   530          1        6\n",
      "8      Shoaib Malik    Pakistan       17   786          3        3\n",
      "9    Inzamam-ul-Haq    Pakistan       15   591          0        6\n"
     ]
    }
   ],
   "source": [
    "query3=\"select [Player Name],Country,Matches,Runs,Centuries,Fifties from batsman_odi order by Centuries+Fifties desc limit 10\"\n",
    "print(pysqldf(query3))"
   ]
  },
  {
   "cell_type": "code",
   "execution_count": 34,
   "id": "7f1c177d",
   "metadata": {},
   "outputs": [
    {
     "name": "stdout",
     "output_type": "stream",
     "text": [
      "         Player Name     Country  Matches  Runs  Centuries  Fifties\n",
      "0     ST Jayasuriya    Sri Lanka       25  1220          6        3\n",
      "1     KC Sangakkara    Sri Lanka       24  1075          4        8\n",
      "2      SR Tendulkar        India       23   971          2        7\n",
      "3      Shoaib Malik     Pakistan       17   786          3        3\n",
      "4         RG Sharma        India       22   745          1        6\n",
      "5       A Ranatunga    Sri Lanka       19   741          1        6\n",
      "6   Mushfiqur Rahim   Bangladesh       21   699          2        2\n",
      "7  DPMD Jayawardene    Sri Lanka       28   674          0        7\n",
      "8          MS Dhoni        India       19   648          1        3\n",
      "9       PA de Silva    Sri Lanka       24   645          0        4\n"
     ]
    }
   ],
   "source": [
    "query3=\"select [Player Name],Country,Matches,Runs,Centuries,Fifties from batsman_odi order by Runs desc limit 10\"\n",
    "print(pysqldf(query3))"
   ]
  },
  {
   "cell_type": "code",
   "execution_count": 326,
   "id": "42dea698",
   "metadata": {},
   "outputs": [
    {
     "name": "stdout",
     "output_type": "stream",
     "text": [
      "         Player Name     Country  Matches  Runs  Centuries  Fifties  Ducks\n",
      "0  DPMD Jayawardene    Sri Lanka       28   674          0        7      3\n",
      "1     KC Sangakkara    Sri Lanka       24  1075          4        8      2\n",
      "2     Shahid Afridi     Pakistan       23   532          2        1      2\n",
      "3   Shakib Al Hasan   Bangladesh       13   402          0        3      2\n",
      "4     ST Jayasuriya    Sri Lanka       25  1220          6        3      1\n",
      "5         RG Sharma        India       22   745          1        6      1\n",
      "6          MS Dhoni        India       19   648          1        3      1\n",
      "7    Inzamam-ul-Haq     Pakistan       15   591          0        6      1\n",
      "8         G Gambhir        India       13   573          1        5      1\n",
      "9          V Sehwag        India       13   509          1        3      1\n"
     ]
    },
    {
     "data": {
      "text/plain": [
       "Text(0.5, 1.0, 'top 10 batsmen in Asia Cup(ODI) with most ducks')"
      ]
     },
     "execution_count": 326,
     "metadata": {},
     "output_type": "execute_result"
    },
    {
     "data": {
      "image/png": "[encoded data removed]",
      "text/plain": [
       "<Figure size 432x288 with 1 Axes>"
      ]
     },
     "metadata": {
      "needs_background": "light"
     },
     "output_type": "display_data"
    }
   ],
   "source": [
    "query3=\"select [Player Name],Country,Matches,Runs,Centuries,Fifties,Ducks from batsman_odi order by Ducks desc limit 10\"\n",
    "print(pysqldf(query3))\n",
    "most_ducks=batsman_odi.sort_values(by='Ducks',ascending=False).head(10)\n",
    "names=best_avg['Player Name']\n",
    "ducks=most_ducks['Ducks']\n",
    "plt.barh(names,ducks)\n",
    "plt.ylabel('Player')\n",
    "plt.xlabel('Ducks')\n",
    "plt.title('top 10 batsmen in Asia Cup(ODI) with most ducks')"
   ]
  },
  {
   "cell_type": "markdown",
   "id": "2710c955",
   "metadata": {},
   "source": [
    "# Batsman(t20I) stats"
   ]
  },
  {
   "cell_type": "code",
   "execution_count": 38,
   "id": "8f24671b",
   "metadata": {},
   "outputs": [
    {
     "data": {
      "text/html": [
       "<div>\n",
       "<style scoped>\n",
       "    .dataframe tbody tr th:only-of-type {\n",
       "        vertical-align: middle;\n",
       "    }\n",
       "\n",
       "    .dataframe tbody tr th {\n",
       "        vertical-align: top;\n",
       "    }\n",
       "\n",
       "    .dataframe thead th {\n",
       "        text-align: right;\n",
       "    }\n",
       "</style>\n",
       "<table border=\"1\" class=\"dataframe\">\n",
       "  <thead>\n",
       "    <tr style=\"text-align: right;\">\n",
       "      <th></th>\n",
       "      <th>Player Name</th>\n",
       "      <th>Country</th>\n",
       "      <th>Time Period</th>\n",
       "      <th>Matches</th>\n",
       "      <th>Played</th>\n",
       "      <th>Not Outs</th>\n",
       "      <th>Runs</th>\n",
       "      <th>Highest Score</th>\n",
       "      <th>Batting Average</th>\n",
       "      <th>Balls Faced</th>\n",
       "      <th>Strike Rate</th>\n",
       "      <th>Centuries</th>\n",
       "      <th>Fifties</th>\n",
       "      <th>Ducks</th>\n",
       "      <th>Fours</th>\n",
       "      <th>Sixes</th>\n",
       "    </tr>\n",
       "  </thead>\n",
       "  <tbody>\n",
       "    <tr>\n",
       "      <th>0</th>\n",
       "      <td>V Kohli</td>\n",
       "      <td>India</td>\n",
       "      <td>2016-2022</td>\n",
       "      <td>10</td>\n",
       "      <td>9</td>\n",
       "      <td>4</td>\n",
       "      <td>429</td>\n",
       "      <td>122</td>\n",
       "      <td>85.80</td>\n",
       "      <td>325</td>\n",
       "      <td>132.00</td>\n",
       "      <td>1</td>\n",
       "      <td>3</td>\n",
       "      <td>1</td>\n",
       "      <td>40</td>\n",
       "      <td>11</td>\n",
       "    </tr>\n",
       "    <tr>\n",
       "      <th>1</th>\n",
       "      <td>Mohammad Rizwan</td>\n",
       "      <td>Pakistan</td>\n",
       "      <td>2022-2022</td>\n",
       "      <td>6</td>\n",
       "      <td>6</td>\n",
       "      <td>1</td>\n",
       "      <td>281</td>\n",
       "      <td>78</td>\n",
       "      <td>56.20</td>\n",
       "      <td>239</td>\n",
       "      <td>117.57</td>\n",
       "      <td>0</td>\n",
       "      <td>3</td>\n",
       "      <td>0</td>\n",
       "      <td>21</td>\n",
       "      <td>6</td>\n",
       "    </tr>\n",
       "    <tr>\n",
       "      <th>2</th>\n",
       "      <td>RG Sharma</td>\n",
       "      <td>India</td>\n",
       "      <td>2016-2022</td>\n",
       "      <td>9</td>\n",
       "      <td>9</td>\n",
       "      <td>0</td>\n",
       "      <td>271</td>\n",
       "      <td>83</td>\n",
       "      <td>30.11</td>\n",
       "      <td>192</td>\n",
       "      <td>141.14</td>\n",
       "      <td>0</td>\n",
       "      <td>2</td>\n",
       "      <td>1</td>\n",
       "      <td>27</td>\n",
       "      <td>12</td>\n",
       "    </tr>\n",
       "    <tr>\n",
       "      <th>3</th>\n",
       "      <td>Babar Hayat</td>\n",
       "      <td>Hong Kong</td>\n",
       "      <td>2016-2022</td>\n",
       "      <td>5</td>\n",
       "      <td>5</td>\n",
       "      <td>0</td>\n",
       "      <td>235</td>\n",
       "      <td>122</td>\n",
       "      <td>47.00</td>\n",
       "      <td>160</td>\n",
       "      <td>146.87</td>\n",
       "      <td>1</td>\n",
       "      <td>1</td>\n",
       "      <td>1</td>\n",
       "      <td>22</td>\n",
       "      <td>10</td>\n",
       "    </tr>\n",
       "    <tr>\n",
       "      <th>4</th>\n",
       "      <td>Ibrahim Zadran</td>\n",
       "      <td>Afghanistan</td>\n",
       "      <td>2022-2022</td>\n",
       "      <td>5</td>\n",
       "      <td>5</td>\n",
       "      <td>2</td>\n",
       "      <td>196</td>\n",
       "      <td>64</td>\n",
       "      <td>65.33</td>\n",
       "      <td>188</td>\n",
       "      <td>104.25</td>\n",
       "      <td>0</td>\n",
       "      <td>1</td>\n",
       "      <td>0</td>\n",
       "      <td>14</td>\n",
       "      <td>4</td>\n",
       "    </tr>\n",
       "  </tbody>\n",
       "</table>\n",
       "</div>"
      ],
      "text/plain": [
       "        Player Name      Country Time Period  Matches  Played  Not Outs  Runs  \\\n",
       "0          V Kohli         India   2016-2022       10       9         4   429   \n",
       "1  Mohammad Rizwan      Pakistan   2022-2022        6       6         1   281   \n",
       "2        RG Sharma         India   2016-2022        9       9         0   271   \n",
       "3      Babar Hayat     Hong Kong   2016-2022        5       5         0   235   \n",
       "4   Ibrahim Zadran   Afghanistan   2022-2022        5       5         2   196   \n",
       "\n",
       "   Highest Score Batting Average  Balls Faced  Strike Rate  Centuries  \\\n",
       "0            122           85.80          325       132.00          1   \n",
       "1             78           56.20          239       117.57          0   \n",
       "2             83           30.11          192       141.14          0   \n",
       "3            122           47.00          160       146.87          1   \n",
       "4             64           65.33          188       104.25          0   \n",
       "\n",
       "   Fifties  Ducks  Fours  Sixes  \n",
       "0        3      1     40     11  \n",
       "1        3      0     21      6  \n",
       "2        2      1     27     12  \n",
       "3        1      1     22     10  \n",
       "4        1      0     14      4  "
      ]
     },
     "execution_count": 38,
     "metadata": {},
     "output_type": "execute_result"
    }
   ],
   "source": [
    "batsman_t20.head()"
   ]
  },
  {
   "cell_type": "code",
   "execution_count": 311,
   "id": "518dacd3",
   "metadata": {},
   "outputs": [
    {
     "data": {
      "text/plain": [
       "Text(0.5, 1.0, 'top 10 batsmen in Asia Cup(t20I)')"
      ]
     },
     "execution_count": 311,
     "metadata": {},
     "output_type": "execute_result"
    },
    {
     "data": {
      "image/png": "[encoded data removed]",
      "text/plain": [
       "<Figure size 432x288 with 1 Axes>"
      ]
     },
     "metadata": {
      "needs_background": "light"
     },
     "output_type": "display_data"
    }
   ],
   "source": [
    "top_10_batsman=batsman_t20.sort_values(by='Runs',ascending=False).head(10)\n",
    "names=top_10_batsman['Player Name']\n",
    "runs=top_10_batsman['Runs']\n",
    "plt.barh(names,runs)\n",
    "plt.ylabel('Player')\n",
    "plt.xlabel('Runs')\n",
    "plt.title('top 10 batsmen in Asia Cup(t20I)')"
   ]
  },
  {
   "cell_type": "code",
   "execution_count": 40,
   "id": "c1bebcfb",
   "metadata": {},
   "outputs": [
    {
     "name": "stdout",
     "output_type": "stream",
     "text": [
      "        Player Name      Country  Matches  Runs Batting Average\n",
      "0          V Kohli         India       10   429           85.80\n",
      "1   Ibrahim Zadran   Afghanistan        5   196           65.33\n",
      "2   Sarfaraz Ahmed      Pakistan        4   121           60.50\n",
      "3     Shoaib Malik      Pakistan        4   121           60.50\n",
      "4      Mahmudullah    Bangladesh        7   173           57.66\n",
      "5  Mohammad Rizwan      Pakistan        6   281           56.20\n",
      "6    PBB Rajapaksa     Sri Lanka        6   191           47.75\n",
      "7      Babar Hayat     Hong Kong        5   235           47.00\n",
      "8     Yuvraj Singh         India        5    89           44.50\n",
      "9       TM Dilshan     Sri Lanka        4   132           44.00\n"
     ]
    }
   ],
   "source": [
    "query2=\"select [Player Name],Country, Matches,Runs, [Batting Average] from batsman_t20 order by [Batting Average] desc limit 10\"\n",
    "print(pysqldf(query2))"
   ]
  },
  {
   "cell_type": "code",
   "execution_count": 319,
   "id": "276a1393",
   "metadata": {},
   "outputs": [
    {
     "name": "stdout",
     "output_type": "stream",
     "text": [
      "           Player Name      Country  Matches  Runs  Highest Score\n",
      "0             V Kohli         India       10   429            122\n",
      "1         Babar Hayat     Hong Kong        5   235            122\n",
      "2  Rahmanullah Gurbaz   Afghanistan        5   152             84\n",
      "3           RG Sharma         India        9   271             83\n",
      "4       Sabbir Rahman    Bangladesh        6   181             80\n",
      "5     Mohammad Rizwan      Pakistan        6   281             78\n",
      "6       Rohan Mustafa           UAE        7   122             77\n",
      "7          TM Dilshan     Sri Lanka        4   132             75\n",
      "8         Karim Sadiq   Afghanistan        3    82             72\n",
      "9       PBB Rajapaksa     Sri Lanka        6   191             71\n"
     ]
    },
    {
     "data": {
      "text/plain": [
       "Text(0.5, 1.0, 'Highest individual score in Asia Cup(t20I)')"
      ]
     },
     "execution_count": 319,
     "metadata": {},
     "output_type": "execute_result"
    },
    {
     "data": {
      "image/png": "[encoded data removed]",
      "text/plain": [
       "<Figure size 432x288 with 1 Axes>"
      ]
     },
     "metadata": {
      "needs_background": "light"
     },
     "output_type": "display_data"
    }
   ],
   "source": [
    "query2=\"select [Player Name],Country, Matches,Runs, [Highest Score] from batsman_t20 order by [Highest Score] desc limit 10\"\n",
    "print(pysqldf(query2))\n",
    "HS=batsman_t20.sort_values(by='Highest Score',ascending=False).head(10)\n",
    "names=HS['Player Name']\n",
    "hs=HS['Highest Score']\n",
    "plt.barh(names,hs)\n",
    "plt.ylabel('Player')\n",
    "plt.xlabel('Highest Score')\n",
    "plt.title('Highest individual score in Asia Cup(t20I)')"
   ]
  },
  {
   "cell_type": "code",
   "execution_count": 42,
   "id": "cf2aa84f",
   "metadata": {},
   "outputs": [
    {
     "name": "stdout",
     "output_type": "stream",
     "text": [
      "          Player Name      Country  Matches  Runs  Centuries\n",
      "0            V Kohli         India       10   429          1\n",
      "1        Babar Hayat     Hong Kong        5   235          1\n",
      "2    Mohammad Rizwan      Pakistan        6   281          0\n",
      "3          RG Sharma         India        9   271          0\n",
      "4     Ibrahim Zadran   Afghanistan        5   196          0\n",
      "5      PBB Rajapaksa     Sri Lanka        6   191          0\n",
      "6      Sabbir Rahman    Bangladesh        6   181          0\n",
      "7     Muhammad Usman           UAE        7   176          0\n",
      "8  Najibullah Zadran   Afghanistan        8   176          0\n",
      "9         P Nissanka     Sri Lanka        6   173          0\n"
     ]
    }
   ],
   "source": [
    "query2=\"select [Player Name],Country, Matches,Runs, Centuries from batsman_t20 order by Centuries desc limit 10\"\n",
    "print(pysqldf(query2))"
   ]
  },
  {
   "cell_type": "code",
   "execution_count": 43,
   "id": "fbcf34fc",
   "metadata": {},
   "outputs": [
    {
     "name": "stdout",
     "output_type": "stream",
     "text": [
      "        Player Name      Country  Matches  Runs  Centuries  Fifties\n",
      "0          V Kohli         India       10   429          1        3\n",
      "1  Mohammad Rizwan      Pakistan        6   281          0        3\n",
      "2        RG Sharma         India        9   271          0        2\n",
      "3      Babar Hayat     Hong Kong        5   235          1        1\n",
      "4       P Nissanka     Sri Lanka        6   173          0        2\n",
      "5       BKG Mendis     Sri Lanka        6   155          0        2\n",
      "6     LD Chandimal     Sri Lanka        4   149          0        2\n",
      "7   Ibrahim Zadran   Afghanistan        5   196          0        1\n",
      "8    PBB Rajapaksa     Sri Lanka        6   191          0        1\n",
      "9    Sabbir Rahman    Bangladesh        6   181          0        1\n"
     ]
    }
   ],
   "source": [
    "query3=\"select [Player Name],Country,Matches,Runs,Centuries,Fifties from batsman_t20 order by Centuries+Fifties desc limit 10\"\n",
    "print(pysqldf(query3))"
   ]
  },
  {
   "cell_type": "code",
   "execution_count": 318,
   "id": "01c71f74",
   "metadata": {},
   "outputs": [
    {
     "name": "stdout",
     "output_type": "stream",
     "text": [
      "           Player Name      Country  Matches  Runs  Sixes\n",
      "0   Najibullah Zadran   Afghanistan        8   176     13\n",
      "1           RG Sharma         India        9   271     12\n",
      "2  Rahmanullah Gurbaz   Afghanistan        5   152     12\n",
      "3             V Kohli         India       10   429     11\n",
      "4         Babar Hayat     Hong Kong        5   235     10\n",
      "5       PBB Rajapaksa     Sri Lanka        6   191      9\n",
      "6          BKG Mendis     Sri Lanka        6   155      9\n",
      "7            SA Yadav         India        5   139      8\n",
      "8         Mahmudullah    Bangladesh        7   173      7\n",
      "9     Mohammad Rizwan      Pakistan        6   281      6\n"
     ]
    },
    {
     "data": {
      "text/plain": [
       "Text(0.5, 1.0, 'top 10 batsmen in Asia Cup(t20I) with most sixes')"
      ]
     },
     "execution_count": 318,
     "metadata": {},
     "output_type": "execute_result"
    },
    {
     "data": {
      "image/png": "[encoded data removed]",
      "text/plain": [
       "<Figure size 432x288 with 1 Axes>"
      ]
     },
     "metadata": {
      "needs_background": "light"
     },
     "output_type": "display_data"
    }
   ],
   "source": [
    "query2=\"select [Player Name],Country, Matches,Runs, Sixes from batsman_t20 order by Sixes desc limit 10\"\n",
    "print(pysqldf(query2))\n",
    "most_sixes=batsman_t20.sort_values(by='Sixes',ascending=False).head(10)\n",
    "names=most_sixes['Player Name']\n",
    "six=most_sixes['Sixes']\n",
    "plt.barh(names,six)\n",
    "plt.ylabel('Player')\n",
    "plt.xlabel('Sixes')\n",
    "plt.title('top 10 batsmen in Asia Cup(t20I) with most sixes')"
   ]
  },
  {
   "cell_type": "code",
   "execution_count": 328,
   "id": "9d05228a",
   "metadata": {},
   "outputs": [
    {
     "name": "stdout",
     "output_type": "stream",
     "text": [
      "           Player Name      Country  Matches  Runs  Strike Rate\n",
      "0    Mosaddek Hossain    Bangladesh        2    72       180.00\n",
      "1         Adnan Ilyas          Oman        3    78       169.56\n",
      "2            SA Yadav         India        5   139       163.52\n",
      "3  Rahmanullah Gurbaz   Afghanistan        5   152       163.44\n",
      "4   Najibullah Zadran   Afghanistan        8   176       157.14\n",
      "5          BKG Mendis     Sri Lanka        6   155       156.56\n",
      "6        PWH de Silva     Sri Lanka        6    66       150.00\n",
      "7       PBB Rajapaksa     Sri Lanka        6   191       149.21\n",
      "8           HH Pandya         India        8    83       148.21\n",
      "9         Babar Hayat     Hong Kong        5   235       146.87\n"
     ]
    },
    {
     "data": {
      "text/plain": [
       "Text(0.5, 1.0, 'top 10 batsmen in Asia Cup(t20I) with best S.R.')"
      ]
     },
     "execution_count": 328,
     "metadata": {},
     "output_type": "execute_result"
    },
    {
     "data": {
      "image/png": "[encoded data removed]",
      "text/plain": [
       "<Figure size 432x288 with 1 Axes>"
      ]
     },
     "metadata": {
      "needs_background": "light"
     },
     "output_type": "display_data"
    }
   ],
   "source": [
    "query2=\"select [Player Name],Country, Matches,Runs, [Strike Rate] from batsman_t20 order by [Strike Rate] desc limit 10\"\n",
    "print(pysqldf(query2))\n",
    "SR=batsman_t20.sort_values(by='Strike Rate',ascending=False).head(10)\n",
    "names=SR['Player Name']\n",
    "sr=SR['Strike Rate']\n",
    "plt.barh(names,sr)\n",
    "plt.ylabel('Player')\n",
    "plt.xlabel('S.R.')\n",
    "plt.title('top 10 batsmen in Asia Cup(t20I) with best S.R.')"
   ]
  },
  {
   "cell_type": "markdown",
   "id": "76e3c037",
   "metadata": {},
   "source": [
    "# Bowler(ODI) stats"
   ]
  },
  {
   "cell_type": "code",
   "execution_count": 52,
   "id": "2945f473",
   "metadata": {},
   "outputs": [
    {
     "data": {
      "text/html": [
       "<div>\n",
       "<style scoped>\n",
       "    .dataframe tbody tr th:only-of-type {\n",
       "        vertical-align: middle;\n",
       "    }\n",
       "\n",
       "    .dataframe tbody tr th {\n",
       "        vertical-align: top;\n",
       "    }\n",
       "\n",
       "    .dataframe thead th {\n",
       "        text-align: right;\n",
       "    }\n",
       "</style>\n",
       "<table border=\"1\" class=\"dataframe\">\n",
       "  <thead>\n",
       "    <tr style=\"text-align: right;\">\n",
       "      <th></th>\n",
       "      <th>Player Name</th>\n",
       "      <th>Country</th>\n",
       "      <th>Time Period</th>\n",
       "      <th>Matches</th>\n",
       "      <th>Played</th>\n",
       "      <th>Overs</th>\n",
       "      <th>Maiden Overs</th>\n",
       "      <th>Runs</th>\n",
       "      <th>Wickets</th>\n",
       "      <th>Best Figure</th>\n",
       "      <th>Bowling Average</th>\n",
       "      <th>Economy Rate</th>\n",
       "      <th>Strike Rate</th>\n",
       "      <th>Four Wickets</th>\n",
       "      <th>Five Wickets</th>\n",
       "    </tr>\n",
       "  </thead>\n",
       "  <tbody>\n",
       "    <tr>\n",
       "      <th>0</th>\n",
       "      <td>M Muralidaran</td>\n",
       "      <td>Sri Lanka</td>\n",
       "      <td>1995-2010</td>\n",
       "      <td>24</td>\n",
       "      <td>24</td>\n",
       "      <td>230.2</td>\n",
       "      <td>13</td>\n",
       "      <td>865</td>\n",
       "      <td>30</td>\n",
       "      <td>5/31</td>\n",
       "      <td>28.83</td>\n",
       "      <td>3.75</td>\n",
       "      <td>46.0</td>\n",
       "      <td>1</td>\n",
       "      <td>1</td>\n",
       "    </tr>\n",
       "    <tr>\n",
       "      <th>1</th>\n",
       "      <td>SL Malinga</td>\n",
       "      <td>Sri Lanka</td>\n",
       "      <td>2004-2018</td>\n",
       "      <td>14</td>\n",
       "      <td>14</td>\n",
       "      <td>128.1</td>\n",
       "      <td>6</td>\n",
       "      <td>596</td>\n",
       "      <td>29</td>\n",
       "      <td>5/34</td>\n",
       "      <td>20.55</td>\n",
       "      <td>4.65</td>\n",
       "      <td>26.5</td>\n",
       "      <td>1</td>\n",
       "      <td>3</td>\n",
       "    </tr>\n",
       "    <tr>\n",
       "      <th>2</th>\n",
       "      <td>BAW Mendis</td>\n",
       "      <td>Sri Lanka</td>\n",
       "      <td>2008-2014</td>\n",
       "      <td>8</td>\n",
       "      <td>8</td>\n",
       "      <td>68.0</td>\n",
       "      <td>5</td>\n",
       "      <td>271</td>\n",
       "      <td>26</td>\n",
       "      <td>6/13</td>\n",
       "      <td>10.42</td>\n",
       "      <td>3.98</td>\n",
       "      <td>15.6</td>\n",
       "      <td>2</td>\n",
       "      <td>2</td>\n",
       "    </tr>\n",
       "    <tr>\n",
       "      <th>3</th>\n",
       "      <td>Saeed Ajmal</td>\n",
       "      <td>Pakistan</td>\n",
       "      <td>2008-2014</td>\n",
       "      <td>12</td>\n",
       "      <td>12</td>\n",
       "      <td>115.0</td>\n",
       "      <td>6</td>\n",
       "      <td>485</td>\n",
       "      <td>25</td>\n",
       "      <td>3/26</td>\n",
       "      <td>19.40</td>\n",
       "      <td>4.21</td>\n",
       "      <td>27.6</td>\n",
       "      <td>0</td>\n",
       "      <td>0</td>\n",
       "    </tr>\n",
       "    <tr>\n",
       "      <th>4</th>\n",
       "      <td>WPUJC Vaas</td>\n",
       "      <td>Sri Lanka</td>\n",
       "      <td>1995-2008</td>\n",
       "      <td>19</td>\n",
       "      <td>19</td>\n",
       "      <td>152.2</td>\n",
       "      <td>20</td>\n",
       "      <td>639</td>\n",
       "      <td>23</td>\n",
       "      <td>3/30</td>\n",
       "      <td>27.78</td>\n",
       "      <td>4.19</td>\n",
       "      <td>39.7</td>\n",
       "      <td>0</td>\n",
       "      <td>0</td>\n",
       "    </tr>\n",
       "  </tbody>\n",
       "</table>\n",
       "</div>"
      ],
      "text/plain": [
       "      Player Name    Country Time Period  Matches  Played  Overs  \\\n",
       "0  M Muralidaran   Sri Lanka   1995-2010       24      24  230.2   \n",
       "1     SL Malinga   Sri Lanka   2004-2018       14      14  128.1   \n",
       "2     BAW Mendis   Sri Lanka   2008-2014        8       8   68.0   \n",
       "3    Saeed Ajmal    Pakistan   2008-2014       12      12  115.0   \n",
       "4     WPUJC Vaas   Sri Lanka   1995-2008       19      19  152.2   \n",
       "\n",
       "   Maiden Overs  Runs  Wickets Best Figure  Bowling Average  Economy Rate  \\\n",
       "0            13   865       30        5/31            28.83          3.75   \n",
       "1             6   596       29        5/34            20.55          4.65   \n",
       "2             5   271       26        6/13            10.42          3.98   \n",
       "3             6   485       25        3/26            19.40          4.21   \n",
       "4            20   639       23        3/30            27.78          4.19   \n",
       "\n",
       "   Strike Rate  Four Wickets  Five Wickets  \n",
       "0         46.0             1             1  \n",
       "1         26.5             1             3  \n",
       "2         15.6             2             2  \n",
       "3         27.6             0             0  \n",
       "4         39.7             0             0  "
      ]
     },
     "execution_count": 52,
     "metadata": {},
     "output_type": "execute_result"
    }
   ],
   "source": [
    "bowler_odi.head()"
   ]
  },
  {
   "cell_type": "code",
   "execution_count": 331,
   "id": "452ffa01",
   "metadata": {},
   "outputs": [
    {
     "name": "stdout",
     "output_type": "stream",
     "text": [
      "        Player Name     Country  Matches  Wickets  Economy Rate  Strike Rate\n",
      "0    M Muralidaran    Sri Lanka       24       30          3.75         46.0\n",
      "1       SL Malinga    Sri Lanka       14       29          4.65         26.5\n",
      "2       BAW Mendis    Sri Lanka        8       26          3.98         15.6\n",
      "3      Saeed Ajmal     Pakistan       12       25          4.21         27.6\n",
      "4       WPUJC Vaas    Sri Lanka       19       23          4.19         39.7\n",
      "5        IK Pathan        India       12       22          5.54         29.7\n",
      "6    ST Jayasuriya    Sri Lanka       25       22          4.48         40.5\n",
      "7     Abdur Razzak   Bangladesh       18       22          4.67         46.4\n",
      "8        RA Jadeja        India       14       19          4.34         36.6\n",
      "9  Shakib Al Hasan   Bangladesh       13       19          4.87         40.3\n"
     ]
    },
    {
     "data": {
      "text/plain": [
       "Text(0.5, 1.0, 'Most wickets in Asia Cup(ODI)')"
      ]
     },
     "execution_count": 331,
     "metadata": {},
     "output_type": "execute_result"
    },
    {
     "data": {
      "image/png": "[encoded data removed]",
      "text/plain": [
       "<Figure size 432x288 with 1 Axes>"
      ]
     },
     "metadata": {
      "needs_background": "light"
     },
     "output_type": "display_data"
    }
   ],
   "source": [
    "query3=\"select [Player Name],Country,Matches,Wickets,[Economy Rate],[Strike Rate] from bowler_odi order by wickets desc limit 10\"\n",
    "print(pysqldf(query3))\n",
    "most_wickets=bowler_odi.sort_values(by='Wickets',ascending=False).head(10)\n",
    "names=most_wickets['Player Name']\n",
    "wickets=most_wickets['Wickets']\n",
    "plt.barh(names,wickets)\n",
    "plt.xlabel('wickets')\n",
    "plt.ylabel('Player')\n",
    "plt.title('Most wickets in Asia Cup(ODI)')"
   ]
  },
  {
   "cell_type": "code",
   "execution_count": 332,
   "id": "c86895d7",
   "metadata": {},
   "outputs": [
    {
     "name": "stdout",
     "output_type": "stream",
     "text": [
      "      Player Name      Country  Matches  Wickets  Economy Rate  Strike Rate\n",
      "0    Wasim Akram      Pakistan       12       16          3.22         34.5\n",
      "1    Arshad Ayub         India        4        9          3.33         24.0\n",
      "2    N Kapil Dev         India        7       15          3.56         21.8\n",
      "3    Abdul Qadir      Pakistan        8       17          3.62         24.4\n",
      "4    Rashid Khan   Afghanistan        5       10          3.72         27.7\n",
      "5  M Muralidaran     Sri Lanka       24       30          3.75         46.0\n",
      "6  Mohammad Nabi   Afghanistan        9        9          3.92         56.2\n",
      "7     BAW Mendis     Sri Lanka        8       26          3.98         15.6\n",
      "8      DNT Zoysa     Sri Lanka        8       14          4.01         29.5\n",
      "9  Shoaib Akhtar      Pakistan        7       10          4.04         39.0\n"
     ]
    },
    {
     "data": {
      "text/plain": [
       "Text(0.5, 1.0, 'Best Economy Rate in Asia Cup(ODI)')"
      ]
     },
     "execution_count": 332,
     "metadata": {},
     "output_type": "execute_result"
    },
    {
     "data": {
      "image/png": "[encoded data removed]",
      "text/plain": [
       "<Figure size 432x288 with 1 Axes>"
      ]
     },
     "metadata": {
      "needs_background": "light"
     },
     "output_type": "display_data"
    }
   ],
   "source": [
    "query3=\"select [Player Name],Country,Matches,Wickets,[Economy Rate],[Strike Rate] from bowler_odi order by [Economy Rate] limit 10\"\n",
    "print(pysqldf(query3))\n",
    "best_er=bowler_odi.sort_values(by='Economy Rate').head(10)\n",
    "names=best_er['Player Name']\n",
    "er=best_er['Economy Rate']\n",
    "plt.barh(names,er)\n",
    "plt.xlabel('E.R.')\n",
    "plt.ylabel('Player')\n",
    "plt.title('Best Economy Rate in Asia Cup(ODI)')"
   ]
  },
  {
   "cell_type": "code",
   "execution_count": 333,
   "id": "5f2dd076",
   "metadata": {},
   "outputs": [
    {
     "name": "stdout",
     "output_type": "stream",
     "text": [
      "          Player Name     Country  Matches  Wickets  Economy Rate  Strike Rate\n",
      "0         BAW Mendis    Sri Lanka        8       26          3.98         15.6\n",
      "1        N Kapil Dev        India        7       15          3.56         21.8\n",
      "2         BKV Prasad        India        7       13          4.44         24.0\n",
      "3        Arshad Ayub        India        4        9          3.33         24.0\n",
      "4        Abdul Qadir     Pakistan        8       17          3.62         24.4\n",
      "5     Mohammed Shami        India        4        9          6.16         24.8\n",
      "6  Mustafizur Rahman   Bangladesh        5       10          4.40         25.2\n",
      "7      Sohail Tanvir     Pakistan        5       10          5.73         25.2\n",
      "8         SL Malinga    Sri Lanka       14       29          4.65         26.5\n",
      "9       SR Tendulkar        India       23       17          4.76         26.9\n"
     ]
    },
    {
     "data": {
      "text/plain": [
       "Text(0.5, 1.0, 'Best Strike Rate in Asia Cup(ODI)')"
      ]
     },
     "execution_count": 333,
     "metadata": {},
     "output_type": "execute_result"
    },
    {
     "data": {
      "image/png": "[encoded data removed]",
      "text/plain": [
       "<Figure size 432x288 with 1 Axes>"
      ]
     },
     "metadata": {
      "needs_background": "light"
     },
     "output_type": "display_data"
    }
   ],
   "source": [
    "query3=\"select [Player Name],Country,Matches,Wickets,[Economy Rate],[Strike Rate] from bowler_odi order by [Strike Rate] limit 10\"\n",
    "print(pysqldf(query3))\n",
    "best_sr=bowler_odi.sort_values(by='Strike Rate').head(10)\n",
    "names=best_sr['Player Name']\n",
    "sr=best_sr['Strike Rate']\n",
    "plt.barh(names,sr)\n",
    "plt.xlabel('S.R.')\n",
    "plt.ylabel('Player')\n",
    "plt.title('Best Strike Rate in Asia Cup(ODI)')"
   ]
  },
  {
   "cell_type": "code",
   "execution_count": 365,
   "id": "975c6309",
   "metadata": {},
   "outputs": [
    {
     "name": "stdout",
     "output_type": "stream",
     "text": [
      "          Player Name      Country  Matches  Wickets    er    avg    sr\n",
      "0         BAW Mendis     Sri Lanka        8       26  3.98  10.42  15.6\n",
      "1        N Kapil Dev         India        7       15  3.56  13.00  21.8\n",
      "2        Arshad Ayub         India        4        9  3.33  13.33  24.0\n",
      "3        Abdul Qadir      Pakistan        8       17  3.62  14.76  24.4\n",
      "4        Rashid Khan   Afghanistan        5       10  3.72  17.20  27.7\n",
      "5         BKV Prasad         India        7       13  4.44  17.76  24.0\n",
      "6  Mustafizur Rahman    Bangladesh        5       10  4.40  18.50  25.2\n",
      "7        Wasim Akram      Pakistan       12       16  3.22  18.56  34.5\n",
      "8        Saeed Ajmal      Pakistan       12       25  4.21  19.40  27.6\n",
      "9          DNT Zoysa     Sri Lanka        8       14  4.01  19.78  29.5\n"
     ]
    },
    {
     "data": {
      "text/plain": [
       "Text(0.5, 1.0, 'Best Bowling Average in Asia Cup(ODI)')"
      ]
     },
     "execution_count": 365,
     "metadata": {},
     "output_type": "execute_result"
    },
    {
     "data": {
      "image/png": "[encoded data removed]",
      "text/plain": [
       "<Figure size 432x288 with 1 Axes>"
      ]
     },
     "metadata": {
      "needs_background": "light"
     },
     "output_type": "display_data"
    }
   ],
   "source": [
    "query3=\"select [Player Name],Country,Matches,Wickets,[Economy Rate] as er, [Bowling Average] as avg, [Strike Rate] as  sr from bowler_odi order by [Bowling Average] limit 10\"\n",
    "print(pysqldf(query3))\n",
    "best_avg=bowler_odi.sort_values(by='Bowling Average').head(10)\n",
    "names=best_avg['Player Name']\n",
    "avg=best_avg['Bowling Average']\n",
    "plt.barh(names,avg)\n",
    "plt.xlabel('Average')\n",
    "plt.ylabel('Player')\n",
    "plt.title('Best Bowling Average in Asia Cup(ODI)')"
   ]
  },
  {
   "cell_type": "code",
   "execution_count": 335,
   "id": "e05fe6b5",
   "metadata": {},
   "outputs": [
    {
     "name": "stdout",
     "output_type": "stream",
     "text": [
      "         Player Name     Country  Matches  Wickets  Economy Rate  Overs\n",
      "0     M Muralidaran    Sri Lanka       24       30          3.75  230.2\n",
      "1     Shahid Afridi     Pakistan       23       14          4.96  178.0\n",
      "2      Abdur Razzak   Bangladesh       18       22          4.67  170.2\n",
      "3  Mashrafe Mortaza   Bangladesh       19       18          5.69  152.3\n",
      "4        WPUJC Vaas    Sri Lanka       19       23          4.19  152.2\n",
      "5     ST Jayasuriya    Sri Lanka       25       22          4.48  148.5\n",
      "6        SL Malinga    Sri Lanka       14       29          4.65  128.1\n",
      "7          A Kumble        India       15       14          4.15  128.0\n",
      "8   Shakib Al Hasan   Bangladesh       13       19          4.87  127.4\n",
      "9         RA Jadeja        India       14       19          4.34  116.1\n"
     ]
    },
    {
     "data": {
      "text/plain": [
       "Text(0.5, 1.0, 'Most Overs bowled in Asia Cup(ODI)')"
      ]
     },
     "execution_count": 335,
     "metadata": {},
     "output_type": "execute_result"
    },
    {
     "data": {
      "image/png": "[encoded data removed]",
      "text/plain": [
       "<Figure size 432x288 with 1 Axes>"
      ]
     },
     "metadata": {
      "needs_background": "light"
     },
     "output_type": "display_data"
    }
   ],
   "source": [
    "query3=\"select [Player Name],Country,Matches,Wickets,[Economy Rate],Overs from bowler_odi order by Overs desc limit 10\"\n",
    "print(pysqldf(query3))\n",
    "most_overs=bowler_odi.sort_values(by='Overs',ascending=False).head(10)\n",
    "names=most_overs['Player Name']\n",
    "overs=most_overs['Overs']\n",
    "plt.barh(names,overs)\n",
    "plt.xlabel('Overs')\n",
    "plt.ylabel('Player')\n",
    "plt.title('Most Overs bowled in Asia Cup(ODI)')"
   ]
  },
  {
   "cell_type": "code",
   "execution_count": 337,
   "id": "04c82c4f",
   "metadata": {},
   "outputs": [
    {
     "name": "stdout",
     "output_type": "stream",
     "text": [
      "         Player Name     Country  Matches  Wickets  Economy Rate  Maiden Overs\n",
      "0        WPUJC Vaas    Sri Lanka       19       23          4.19            20\n",
      "1     M Muralidaran    Sri Lanka       24       30          3.75            13\n",
      "2         DNT Zoysa    Sri Lanka        8       14          4.01            11\n",
      "3      Abdur Razzak   Bangladesh       18       22          4.67            10\n",
      "4       Abdul Qadir     Pakistan        8       17          3.62             8\n",
      "5       Wasim Akram     Pakistan       12       16          3.22             8\n",
      "6    Iftikhar Anjum     Pakistan        5        9          4.80             8\n",
      "7  Mashrafe Mortaza   Bangladesh       19       18          5.69             7\n",
      "8          A Kumble        India       15       14          4.15             7\n",
      "9        RAS Lakmal    Sri Lanka        8       11          5.08             7\n"
     ]
    },
    {
     "data": {
      "text/plain": [
       "Text(0.5, 1.0, 'Most Maidens Overs bowled in Asia Cup(ODI)')"
      ]
     },
     "execution_count": 337,
     "metadata": {},
     "output_type": "execute_result"
    },
    {
     "data": {
      "image/png": "[encoded data removed]",
      "text/plain": [
       "<Figure size 432x288 with 1 Axes>"
      ]
     },
     "metadata": {
      "needs_background": "light"
     },
     "output_type": "display_data"
    }
   ],
   "source": [
    "query3=\"select [Player Name],Country,Matches,Wickets,[Economy Rate],[Maiden Overs] from bowler_odi order by [Maiden Overs] desc limit 10\"\n",
    "print(pysqldf(query3))\n",
    "maiden_overs=bowler_odi.sort_values(by='Maiden Overs',ascending=False).head(10)\n",
    "names=maiden_overs['Player Name']\n",
    "maidens=maiden_overs['Maiden Overs']\n",
    "plt.barh(names,maidens)\n",
    "plt.xlabel('Maiden Overs')\n",
    "plt.ylabel('Player')\n",
    "plt.title('Most Maidens Overs bowled in Asia Cup(ODI)')"
   ]
  },
  {
   "cell_type": "markdown",
   "id": "c89b5af1",
   "metadata": {},
   "source": [
    "# Bowler(T20I) stats"
   ]
  },
  {
   "cell_type": "code",
   "execution_count": 65,
   "id": "66ba18aa",
   "metadata": {},
   "outputs": [
    {
     "data": {
      "text/html": [
       "<div>\n",
       "<style scoped>\n",
       "    .dataframe tbody tr th:only-of-type {\n",
       "        vertical-align: middle;\n",
       "    }\n",
       "\n",
       "    .dataframe tbody tr th {\n",
       "        vertical-align: top;\n",
       "    }\n",
       "\n",
       "    .dataframe thead th {\n",
       "        text-align: right;\n",
       "    }\n",
       "</style>\n",
       "<table border=\"1\" class=\"dataframe\">\n",
       "  <thead>\n",
       "    <tr style=\"text-align: right;\">\n",
       "      <th></th>\n",
       "      <th>Player Name</th>\n",
       "      <th>Country</th>\n",
       "      <th>Time Period</th>\n",
       "      <th>Matches</th>\n",
       "      <th>Played</th>\n",
       "      <th>Overs</th>\n",
       "      <th>Maiden Overs</th>\n",
       "      <th>Runs</th>\n",
       "      <th>Wickets</th>\n",
       "      <th>Best Figure</th>\n",
       "      <th>Bowling Average</th>\n",
       "      <th>Economy Rate</th>\n",
       "      <th>Strike Rate</th>\n",
       "      <th>Four Wickets</th>\n",
       "      <th>Five Wickets</th>\n",
       "    </tr>\n",
       "  </thead>\n",
       "  <tbody>\n",
       "    <tr>\n",
       "      <th>0</th>\n",
       "      <td>B Kumar</td>\n",
       "      <td>India</td>\n",
       "      <td>2016-2022</td>\n",
       "      <td>6</td>\n",
       "      <td>6</td>\n",
       "      <td>23.0</td>\n",
       "      <td>3</td>\n",
       "      <td>123</td>\n",
       "      <td>13</td>\n",
       "      <td>5/4</td>\n",
       "      <td>9.46</td>\n",
       "      <td>5.34</td>\n",
       "      <td>10.6</td>\n",
       "      <td>1</td>\n",
       "      <td>1</td>\n",
       "    </tr>\n",
       "    <tr>\n",
       "      <th>1</th>\n",
       "      <td>Amjad Javed</td>\n",
       "      <td>UAE</td>\n",
       "      <td>2016-2016</td>\n",
       "      <td>7</td>\n",
       "      <td>7</td>\n",
       "      <td>23.0</td>\n",
       "      <td>0</td>\n",
       "      <td>169</td>\n",
       "      <td>12</td>\n",
       "      <td>3/25</td>\n",
       "      <td>14.08</td>\n",
       "      <td>7.34</td>\n",
       "      <td>11.5</td>\n",
       "      <td>0</td>\n",
       "      <td>0</td>\n",
       "    </tr>\n",
       "    <tr>\n",
       "      <th>2</th>\n",
       "      <td>Al-Amin Hossain</td>\n",
       "      <td>Bangladesh</td>\n",
       "      <td>2016-2016</td>\n",
       "      <td>5</td>\n",
       "      <td>5</td>\n",
       "      <td>16.5</td>\n",
       "      <td>0</td>\n",
       "      <td>134</td>\n",
       "      <td>11</td>\n",
       "      <td>3/25</td>\n",
       "      <td>12.18</td>\n",
       "      <td>7.96</td>\n",
       "      <td>9.1</td>\n",
       "      <td>0</td>\n",
       "      <td>0</td>\n",
       "    </tr>\n",
       "    <tr>\n",
       "      <th>3</th>\n",
       "      <td>Mohammad Naveed</td>\n",
       "      <td>UAE</td>\n",
       "      <td>2016-2016</td>\n",
       "      <td>7</td>\n",
       "      <td>7</td>\n",
       "      <td>27.4</td>\n",
       "      <td>2</td>\n",
       "      <td>145</td>\n",
       "      <td>11</td>\n",
       "      <td>3/14</td>\n",
       "      <td>13.18</td>\n",
       "      <td>5.24</td>\n",
       "      <td>15.0</td>\n",
       "      <td>0</td>\n",
       "      <td>0</td>\n",
       "    </tr>\n",
       "    <tr>\n",
       "      <th>4</th>\n",
       "      <td>Rashid Khan</td>\n",
       "      <td>Afghanistan</td>\n",
       "      <td>2016-2022</td>\n",
       "      <td>8</td>\n",
       "      <td>8</td>\n",
       "      <td>31.0</td>\n",
       "      <td>0</td>\n",
       "      <td>202</td>\n",
       "      <td>11</td>\n",
       "      <td>3/22</td>\n",
       "      <td>18.36</td>\n",
       "      <td>6.51</td>\n",
       "      <td>16.9</td>\n",
       "      <td>0</td>\n",
       "      <td>0</td>\n",
       "    </tr>\n",
       "  </tbody>\n",
       "</table>\n",
       "</div>"
      ],
      "text/plain": [
       "        Player Name      Country Time Period  Matches  Played  Overs  \\\n",
       "0          B Kumar         India   2016-2022        6       6   23.0   \n",
       "1      Amjad Javed           UAE   2016-2016        7       7   23.0   \n",
       "2  Al-Amin Hossain    Bangladesh   2016-2016        5       5   16.5   \n",
       "3  Mohammad Naveed           UAE   2016-2016        7       7   27.4   \n",
       "4      Rashid Khan   Afghanistan   2016-2022        8       8   31.0   \n",
       "\n",
       "   Maiden Overs  Runs  Wickets Best Figure  Bowling Average  Economy Rate  \\\n",
       "0             3   123       13         5/4             9.46          5.34   \n",
       "1             0   169       12        3/25            14.08          7.34   \n",
       "2             0   134       11        3/25            12.18          7.96   \n",
       "3             2   145       11        3/14            13.18          5.24   \n",
       "4             0   202       11        3/22            18.36          6.51   \n",
       "\n",
       "   Strike Rate  Four Wickets  Five Wickets  \n",
       "0         10.6             1             1  \n",
       "1         11.5             0             0  \n",
       "2          9.1             0             0  \n",
       "3         15.0             0             0  \n",
       "4         16.9             0             0  "
      ]
     },
     "execution_count": 65,
     "metadata": {},
     "output_type": "execute_result"
    }
   ],
   "source": [
    "bowler_t20.head()"
   ]
  },
  {
   "cell_type": "code",
   "execution_count": 338,
   "id": "9dae1d4e",
   "metadata": {},
   "outputs": [
    {
     "name": "stdout",
     "output_type": "stream",
     "text": [
      "        Player Name      Country  Matches  Wickets  Economy Rate  Strike Rate\n",
      "0          B Kumar         India        6       13          5.34         10.6\n",
      "1      Amjad Javed           UAE        7       12          7.34         11.5\n",
      "2  Al-Amin Hossain    Bangladesh        5       11          7.96          9.1\n",
      "3  Mohammad Naveed           UAE        7       11          5.24         15.0\n",
      "4      Rashid Khan   Afghanistan        8       11          6.51         16.9\n",
      "5        HH Pandya         India        8       11          7.01         16.0\n",
      "6     PWH de Silva     Sri Lanka        6        9          7.39         15.3\n",
      "7      Shadab Khan      Pakistan        5        8          6.05         14.0\n",
      "8       Haris Rauf      Pakistan        6        8          7.65         15.0\n",
      "9   Mohammad Nawaz      Pakistan        8        8          7.05         18.5\n"
     ]
    },
    {
     "data": {
      "text/plain": [
       "Text(0.5, 1.0, 'Most wickets in Asia Cup(T20I)')"
      ]
     },
     "execution_count": 338,
     "metadata": {},
     "output_type": "execute_result"
    },
    {
     "data": {
      "image/png": "[encoded data removed]",
      "text/plain": [
       "<Figure size 432x288 with 1 Axes>"
      ]
     },
     "metadata": {
      "needs_background": "light"
     },
     "output_type": "display_data"
    }
   ],
   "source": [
    "query3=\"select [Player Name],Country,Matches,Wickets,[Economy Rate],[Strike Rate] from bowler_t20 order by wickets desc limit 10\"\n",
    "print(pysqldf(query3))\n",
    "most_wickets=bowler_t20.sort_values(by='Wickets',ascending=False).head(10)\n",
    "names=most_wickets['Player Name']\n",
    "wickets=most_wickets['Wickets']\n",
    "plt.barh(names,wickets)\n",
    "plt.xlabel('wickets')\n",
    "plt.ylabel('Player')\n",
    "plt.title('Most wickets in Asia Cup(T20I)')"
   ]
  },
  {
   "cell_type": "code",
   "execution_count": 339,
   "id": "edcb3af3",
   "metadata": {},
   "outputs": [
    {
     "name": "stdout",
     "output_type": "stream",
     "text": [
      "         Player Name      Country  Matches  Wickets  Economy Rate  Strike Rate\n",
      "0       Mahmudullah    Bangladesh        7        4          4.66          9.0\n",
      "1     Mohammad Amir      Pakistan        4        7          5.06         13.7\n",
      "2         JJ Bumrah         India        5        6          5.22         18.0\n",
      "3   Mohammad Naveed           UAE        7       11          5.24         15.0\n",
      "4           B Kumar         India        6       13          5.34         10.6\n",
      "5    Mohammad Irfan      Pakistan        4        5          5.43         19.2\n",
      "6  Mujeeb Ur Rahman   Afghanistan        5        7          5.55         17.1\n",
      "7         RA Jadeja         India        6        4          5.88         27.0\n",
      "8      Taskin Ahmed    Bangladesh        7        5          6.00         27.6\n",
      "9       Shadab Khan      Pakistan        5        8          6.05         14.0\n"
     ]
    },
    {
     "data": {
      "text/plain": [
       "Text(0.5, 1.0, 'Best Economy Rate in Asia Cup(t20I)')"
      ]
     },
     "execution_count": 339,
     "metadata": {},
     "output_type": "execute_result"
    },
    {
     "data": {
      "image/png": "[encoded data removed]",
      "text/plain": [
       "<Figure size 432x288 with 1 Axes>"
      ]
     },
     "metadata": {
      "needs_background": "light"
     },
     "output_type": "display_data"
    }
   ],
   "source": [
    "query3=\"select [Player Name],Country,Matches,Wickets,[Economy Rate],[Strike Rate] from bowler_t20 order by [Economy Rate] limit 10\"\n",
    "print(pysqldf(query3))\n",
    "best_er=bowler_t20.sort_values(by='Economy Rate').head(10)\n",
    "names=best_er['Player Name']\n",
    "er=best_er['Economy Rate']\n",
    "plt.barh(names,er)\n",
    "plt.xlabel('E.R.')\n",
    "plt.ylabel('Player')\n",
    "plt.title('Best Economy Rate in Asia Cup(t20I)')"
   ]
  },
  {
   "cell_type": "code",
   "execution_count": 340,
   "id": "0cf90aeb",
   "metadata": {},
   "outputs": [
    {
     "name": "stdout",
     "output_type": "stream",
     "text": [
      "        Player Name      Country  Matches  Wickets  Economy Rate  Strike Rate\n",
      "0       SL Malinga     Sri Lanka        1        4          6.50          6.0\n",
      "1  PM Liyanagamage     Sri Lanka        2        6          8.91          6.1\n",
      "2      Mahmudullah    Bangladesh        7        4          4.66          9.0\n",
      "3  Al-Amin Hossain    Bangladesh        5       11          7.96          9.1\n",
      "4     Fareed Ahmad   Afghanistan        2        5         11.00          9.6\n",
      "5          B Kumar         India        6       13          5.34         10.6\n",
      "6      Amjad Javed           UAE        7       12          7.34         11.5\n",
      "7  KMDN Kulasekara     Sri Lanka        4        7          6.33         12.8\n",
      "8    Mohammad Amir      Pakistan        4        7          5.06         13.7\n",
      "9    C Karunaratne     Sri Lanka        6        7          9.06         13.7\n"
     ]
    },
    {
     "data": {
      "text/plain": [
       "Text(0.5, 1.0, 'Best Strike Rate in Asia Cup(T20I)')"
      ]
     },
     "execution_count": 340,
     "metadata": {},
     "output_type": "execute_result"
    },
    {
     "data": {
      "image/png": "[encoded data removed]",
      "text/plain": [
       "<Figure size 432x288 with 1 Axes>"
      ]
     },
     "metadata": {
      "needs_background": "light"
     },
     "output_type": "display_data"
    }
   ],
   "source": [
    "query3=\"select [Player Name],Country,Matches,Wickets,[Economy Rate],[Strike Rate] from bowler_t20 order by [Strike Rate] limit 10\"\n",
    "print(pysqldf(query3))\n",
    "best_sr=bowler_t20.sort_values(by='Strike Rate').head(10)\n",
    "names=best_sr['Player Name']\n",
    "sr=best_sr['Strike Rate']\n",
    "plt.barh(names,sr)\n",
    "plt.xlabel('S.R.')\n",
    "plt.ylabel('Player')\n",
    "plt.title('Best Strike Rate in Asia Cup(T20I)')"
   ]
  },
  {
   "cell_type": "code",
   "execution_count": 341,
   "id": "fa4190fc",
   "metadata": {},
   "outputs": [
    {
     "name": "stdout",
     "output_type": "stream",
     "text": [
      "        Player Name     Country  Matches  Wickets  Economy Rate    avg    sr\n",
      "0       SL Malinga    Sri Lanka        1        4          6.50   6.50   6.0\n",
      "1      Mahmudullah   Bangladesh        7        4          4.66   7.00   9.0\n",
      "2  PM Liyanagamage    Sri Lanka        2        6          8.91   9.16   6.1\n",
      "3          B Kumar        India        6       13          5.34   9.46  10.6\n",
      "4    Mohammad Amir     Pakistan        4        7          5.06  11.57  13.7\n",
      "5  Al-Amin Hossain   Bangladesh        5       11          7.96  12.18   9.1\n",
      "6  Mohammad Naveed          UAE        7       11          5.24  13.18  15.0\n",
      "7  KMDN Kulasekara    Sri Lanka        4        7          6.33  13.57  12.8\n",
      "8      Amjad Javed          UAE        7       12          7.34  14.08  11.5\n",
      "9      Shadab Khan     Pakistan        5        8          6.05  14.12  14.0\n"
     ]
    },
    {
     "data": {
      "text/plain": [
       "Text(0.5, 1.0, 'Best Bowling Average in Asia Cup(T20I)')"
      ]
     },
     "execution_count": 341,
     "metadata": {},
     "output_type": "execute_result"
    },
    {
     "data": {
      "image/png": "[encoded data removed]",
      "text/plain": [
       "<Figure size 432x288 with 1 Axes>"
      ]
     },
     "metadata": {
      "needs_background": "light"
     },
     "output_type": "display_data"
    }
   ],
   "source": [
    "query3=\"select [Player Name],Country,Matches,Wickets,[Economy Rate], [Bowling Average] as avg, [Strike Rate] as sr from bowler_t20 order by [Bowling Average] limit 10\"\n",
    "print(pysqldf(query3))\n",
    "best_avg=bowler_t20.sort_values(by='Bowling Average').head(10)\n",
    "names=best_sr['Player Name']\n",
    "avg=best_avg['Bowling Average']\n",
    "plt.barh(names,avg)\n",
    "plt.xlabel('Average')\n",
    "plt.ylabel('Player')\n",
    "plt.title('Best Bowling Average in Asia Cup(T20I)')"
   ]
  },
  {
   "cell_type": "code",
   "execution_count": 86,
   "id": "dd07c248",
   "metadata": {},
   "outputs": [
    {
     "data": {
      "text/html": [
       "<div>\n",
       "<style scoped>\n",
       "    .dataframe tbody tr th:only-of-type {\n",
       "        vertical-align: middle;\n",
       "    }\n",
       "\n",
       "    .dataframe tbody tr th {\n",
       "        vertical-align: top;\n",
       "    }\n",
       "\n",
       "    .dataframe thead th {\n",
       "        text-align: right;\n",
       "    }\n",
       "</style>\n",
       "<table border=\"1\" class=\"dataframe\">\n",
       "  <thead>\n",
       "    <tr style=\"text-align: right;\">\n",
       "      <th></th>\n",
       "      <th>Year</th>\n",
       "      <th>Host</th>\n",
       "      <th>No Of Team</th>\n",
       "      <th>Champion</th>\n",
       "      <th>Runner Up</th>\n",
       "      <th>Player Of The Series</th>\n",
       "      <th>Highest Run Scorer</th>\n",
       "      <th>Highest Wicket Taker</th>\n",
       "    </tr>\n",
       "  </thead>\n",
       "  <tbody>\n",
       "    <tr>\n",
       "      <th>0</th>\n",
       "      <td>1984</td>\n",
       "      <td>UAE</td>\n",
       "      <td>3</td>\n",
       "      <td>India</td>\n",
       "      <td>Sri Lanka</td>\n",
       "      <td>Surinder Khanna</td>\n",
       "      <td>Surinder Khanna</td>\n",
       "      <td>Ravi Shastri</td>\n",
       "    </tr>\n",
       "    <tr>\n",
       "      <th>1</th>\n",
       "      <td>1986</td>\n",
       "      <td>Sri Lanka</td>\n",
       "      <td>3</td>\n",
       "      <td>Sri Lanka</td>\n",
       "      <td>Pakistan</td>\n",
       "      <td>Arjuna Ranatunga</td>\n",
       "      <td>Arjuna Ranatunga</td>\n",
       "      <td>Abdul Qadir</td>\n",
       "    </tr>\n",
       "    <tr>\n",
       "      <th>2</th>\n",
       "      <td>1988</td>\n",
       "      <td>Bangladesh</td>\n",
       "      <td>4</td>\n",
       "      <td>India</td>\n",
       "      <td>Sri Lanka</td>\n",
       "      <td>Navjot Sidhu</td>\n",
       "      <td>Ijaz Ahmed</td>\n",
       "      <td>Arshad Ayub</td>\n",
       "    </tr>\n",
       "    <tr>\n",
       "      <th>3</th>\n",
       "      <td>1990</td>\n",
       "      <td>India</td>\n",
       "      <td>3</td>\n",
       "      <td>India</td>\n",
       "      <td>Sri Lanka</td>\n",
       "      <td>Not Awarded</td>\n",
       "      <td>Arjuna Ranatunga</td>\n",
       "      <td>Kapil Dev</td>\n",
       "    </tr>\n",
       "    <tr>\n",
       "      <th>4</th>\n",
       "      <td>1995</td>\n",
       "      <td>UAE</td>\n",
       "      <td>4</td>\n",
       "      <td>India</td>\n",
       "      <td>Sri Lanka</td>\n",
       "      <td>Navjot Sidhu</td>\n",
       "      <td>Sachin Tendulkar</td>\n",
       "      <td>Anil Kumble</td>\n",
       "    </tr>\n",
       "    <tr>\n",
       "      <th>5</th>\n",
       "      <td>1997</td>\n",
       "      <td>Sri Lanka</td>\n",
       "      <td>4</td>\n",
       "      <td>Sri Lanka</td>\n",
       "      <td>India</td>\n",
       "      <td>Arjuna Ranatunga</td>\n",
       "      <td>Arjuna Ranatunga</td>\n",
       "      <td>Venkatesh Prasad</td>\n",
       "    </tr>\n",
       "    <tr>\n",
       "      <th>6</th>\n",
       "      <td>2000</td>\n",
       "      <td>Bangladesh</td>\n",
       "      <td>4</td>\n",
       "      <td>Pakistan</td>\n",
       "      <td>Sri Lanka</td>\n",
       "      <td>Yousuf Youhana</td>\n",
       "      <td>Yousuf Youhana</td>\n",
       "      <td>Abdul Razzaq</td>\n",
       "    </tr>\n",
       "    <tr>\n",
       "      <th>7</th>\n",
       "      <td>2004</td>\n",
       "      <td>Sri Lanka</td>\n",
       "      <td>6</td>\n",
       "      <td>Sri Lanka</td>\n",
       "      <td>India</td>\n",
       "      <td>Sanath Jayasuriya</td>\n",
       "      <td>Shoaib Malik</td>\n",
       "      <td>Irfan Pathan</td>\n",
       "    </tr>\n",
       "    <tr>\n",
       "      <th>8</th>\n",
       "      <td>2008</td>\n",
       "      <td>Pakistan</td>\n",
       "      <td>6</td>\n",
       "      <td>Sri Lanka</td>\n",
       "      <td>India</td>\n",
       "      <td>Ajantha Mendis</td>\n",
       "      <td>Sanath Jayasuriya</td>\n",
       "      <td>Ajantha Mendis</td>\n",
       "    </tr>\n",
       "    <tr>\n",
       "      <th>9</th>\n",
       "      <td>2010</td>\n",
       "      <td>Sri Lanka</td>\n",
       "      <td>4</td>\n",
       "      <td>India</td>\n",
       "      <td>Sri Lanka</td>\n",
       "      <td>Shahid Afridi</td>\n",
       "      <td>Shahid Afridi</td>\n",
       "      <td>Lasith Malinga</td>\n",
       "    </tr>\n",
       "    <tr>\n",
       "      <th>10</th>\n",
       "      <td>2012</td>\n",
       "      <td>Bangladesh</td>\n",
       "      <td>4</td>\n",
       "      <td>Pakistan</td>\n",
       "      <td>Bangladesh</td>\n",
       "      <td>Shakib Al Hasan</td>\n",
       "      <td>Virat Kohli</td>\n",
       "      <td>Umar Gul</td>\n",
       "    </tr>\n",
       "    <tr>\n",
       "      <th>11</th>\n",
       "      <td>2014</td>\n",
       "      <td>Bangladesh</td>\n",
       "      <td>5</td>\n",
       "      <td>Sri Lanka</td>\n",
       "      <td>Pakistan</td>\n",
       "      <td>Lahiru Thirimanne</td>\n",
       "      <td>Lahiru Thirimanne</td>\n",
       "      <td>Lasith Malinga</td>\n",
       "    </tr>\n",
       "    <tr>\n",
       "      <th>12</th>\n",
       "      <td>2016</td>\n",
       "      <td>Bangladesh</td>\n",
       "      <td>5</td>\n",
       "      <td>India</td>\n",
       "      <td>Bangladesh</td>\n",
       "      <td>Sabbir Rahman</td>\n",
       "      <td>Sabbir Rahman</td>\n",
       "      <td>Al Amin Hossain</td>\n",
       "    </tr>\n",
       "    <tr>\n",
       "      <th>13</th>\n",
       "      <td>2018</td>\n",
       "      <td>UAE</td>\n",
       "      <td>6</td>\n",
       "      <td>India</td>\n",
       "      <td>Bangladesh</td>\n",
       "      <td>Shikhar Dhawan</td>\n",
       "      <td>Shikhar Dhawan</td>\n",
       "      <td>Rashid Khan</td>\n",
       "    </tr>\n",
       "    <tr>\n",
       "      <th>14</th>\n",
       "      <td>2022</td>\n",
       "      <td>UAE</td>\n",
       "      <td>6</td>\n",
       "      <td>Sri Lanka</td>\n",
       "      <td>Pakistan</td>\n",
       "      <td>Wanindu Hasaranga</td>\n",
       "      <td>Mohammad Rizwan</td>\n",
       "      <td>Bhuvneshwar Kumar</td>\n",
       "    </tr>\n",
       "  </tbody>\n",
       "</table>\n",
       "</div>"
      ],
      "text/plain": [
       "    Year        Host  No Of Team   Champion   Runner Up Player Of The Series  \\\n",
       "0   1984         UAE           3      India   Sri Lanka      Surinder Khanna   \n",
       "1   1986   Sri Lanka           3  Sri Lanka    Pakistan     Arjuna Ranatunga   \n",
       "2   1988  Bangladesh           4      India   Sri Lanka         Navjot Sidhu   \n",
       "3   1990       India           3      India   Sri Lanka          Not Awarded   \n",
       "4   1995         UAE           4      India   Sri Lanka         Navjot Sidhu   \n",
       "5   1997   Sri Lanka           4  Sri Lanka       India     Arjuna Ranatunga   \n",
       "6   2000  Bangladesh           4   Pakistan   Sri Lanka       Yousuf Youhana   \n",
       "7   2004   Sri Lanka           6  Sri Lanka       India    Sanath Jayasuriya   \n",
       "8   2008    Pakistan           6  Sri Lanka       India       Ajantha Mendis   \n",
       "9   2010   Sri Lanka           4      India   Sri Lanka        Shahid Afridi   \n",
       "10  2012  Bangladesh           4   Pakistan  Bangladesh      Shakib Al Hasan   \n",
       "11  2014  Bangladesh           5  Sri Lanka    Pakistan    Lahiru Thirimanne   \n",
       "12  2016  Bangladesh           5      India  Bangladesh        Sabbir Rahman   \n",
       "13  2018         UAE           6      India  Bangladesh       Shikhar Dhawan   \n",
       "14  2022         UAE           6  Sri Lanka    Pakistan    Wanindu Hasaranga   \n",
       "\n",
       "   Highest Run Scorer Highest Wicket Taker  \n",
       "0     Surinder Khanna         Ravi Shastri  \n",
       "1    Arjuna Ranatunga          Abdul Qadir  \n",
       "2          Ijaz Ahmed          Arshad Ayub  \n",
       "3    Arjuna Ranatunga            Kapil Dev  \n",
       "4    Sachin Tendulkar          Anil Kumble  \n",
       "5    Arjuna Ranatunga     Venkatesh Prasad  \n",
       "6      Yousuf Youhana         Abdul Razzaq  \n",
       "7        Shoaib Malik         Irfan Pathan  \n",
       "8   Sanath Jayasuriya       Ajantha Mendis  \n",
       "9       Shahid Afridi       Lasith Malinga  \n",
       "10        Virat Kohli             Umar Gul  \n",
       "11  Lahiru Thirimanne       Lasith Malinga  \n",
       "12      Sabbir Rahman      Al Amin Hossain  \n",
       "13     Shikhar Dhawan          Rashid Khan  \n",
       "14    Mohammad Rizwan    Bhuvneshwar Kumar  "
      ]
     },
     "execution_count": 86,
     "metadata": {},
     "output_type": "execute_result"
    }
   ],
   "source": [
    "champion.head(15)"
   ]
  },
  {
   "cell_type": "code",
   "execution_count": 87,
   "id": "330de784",
   "metadata": {},
   "outputs": [
    {
     "data": {
      "text/html": [
       "<div>\n",
       "<style scoped>\n",
       "    .dataframe tbody tr th:only-of-type {\n",
       "        vertical-align: middle;\n",
       "    }\n",
       "\n",
       "    .dataframe tbody tr th {\n",
       "        vertical-align: top;\n",
       "    }\n",
       "\n",
       "    .dataframe thead th {\n",
       "        text-align: right;\n",
       "    }\n",
       "</style>\n",
       "<table border=\"1\" class=\"dataframe\">\n",
       "  <thead>\n",
       "    <tr style=\"text-align: right;\">\n",
       "      <th></th>\n",
       "      <th>Player Name</th>\n",
       "      <th>Country</th>\n",
       "      <th>Time Period</th>\n",
       "      <th>Matches</th>\n",
       "      <th>Played</th>\n",
       "      <th>Dismissals</th>\n",
       "      <th>Catches</th>\n",
       "      <th>Stumpings</th>\n",
       "      <th>Maximum Dismissals</th>\n",
       "    </tr>\n",
       "  </thead>\n",
       "  <tbody>\n",
       "    <tr>\n",
       "      <th>0</th>\n",
       "      <td>MS Dhoni</td>\n",
       "      <td>India</td>\n",
       "      <td>2008-2018</td>\n",
       "      <td>19</td>\n",
       "      <td>19</td>\n",
       "      <td>36</td>\n",
       "      <td>25</td>\n",
       "      <td>11</td>\n",
       "      <td>5</td>\n",
       "    </tr>\n",
       "    <tr>\n",
       "      <th>1</th>\n",
       "      <td>KC Sangakkara</td>\n",
       "      <td>Sri Lanka</td>\n",
       "      <td>2004-2014</td>\n",
       "      <td>24</td>\n",
       "      <td>24</td>\n",
       "      <td>36</td>\n",
       "      <td>27</td>\n",
       "      <td>9</td>\n",
       "      <td>4</td>\n",
       "    </tr>\n",
       "    <tr>\n",
       "      <th>2</th>\n",
       "      <td>Moin Khan</td>\n",
       "      <td>Pakistan</td>\n",
       "      <td>1995-2004</td>\n",
       "      <td>14</td>\n",
       "      <td>13</td>\n",
       "      <td>17</td>\n",
       "      <td>12</td>\n",
       "      <td>5</td>\n",
       "      <td>3</td>\n",
       "    </tr>\n",
       "    <tr>\n",
       "      <th>3</th>\n",
       "      <td>Mushfiqur Rahim</td>\n",
       "      <td>Bangladesh</td>\n",
       "      <td>2008-2018</td>\n",
       "      <td>21</td>\n",
       "      <td>17</td>\n",
       "      <td>17</td>\n",
       "      <td>14</td>\n",
       "      <td>3</td>\n",
       "      <td>4</td>\n",
       "    </tr>\n",
       "    <tr>\n",
       "      <th>4</th>\n",
       "      <td>DSBP Kuruppu</td>\n",
       "      <td>Sri Lanka</td>\n",
       "      <td>1984-1988</td>\n",
       "      <td>9</td>\n",
       "      <td>9</td>\n",
       "      <td>14</td>\n",
       "      <td>12</td>\n",
       "      <td>2</td>\n",
       "      <td>4</td>\n",
       "    </tr>\n",
       "  </tbody>\n",
       "</table>\n",
       "</div>"
      ],
      "text/plain": [
       "        Player Name     Country Time Period  Matches  Played  Dismissals  \\\n",
       "0         MS Dhoni        India   2008-2018       19      19          36   \n",
       "1    KC Sangakkara    Sri Lanka   2004-2014       24      24          36   \n",
       "2        Moin Khan     Pakistan   1995-2004       14      13          17   \n",
       "3  Mushfiqur Rahim   Bangladesh   2008-2018       21      17          17   \n",
       "4     DSBP Kuruppu    Sri Lanka   1984-1988        9       9          14   \n",
       "\n",
       "   Catches  Stumpings  Maximum Dismissals  \n",
       "0       25         11                   5  \n",
       "1       27          9                   4  \n",
       "2       12          5                   3  \n",
       "3       14          3                   4  \n",
       "4       12          2                   4  "
      ]
     },
     "execution_count": 87,
     "metadata": {},
     "output_type": "execute_result"
    }
   ],
   "source": [
    "wk_odi.head()"
   ]
  },
  {
   "cell_type": "code",
   "execution_count": 88,
   "id": "a462bc92",
   "metadata": {},
   "outputs": [
    {
     "data": {
      "text/html": [
       "<div>\n",
       "<style scoped>\n",
       "    .dataframe tbody tr th:only-of-type {\n",
       "        vertical-align: middle;\n",
       "    }\n",
       "\n",
       "    .dataframe tbody tr th {\n",
       "        vertical-align: top;\n",
       "    }\n",
       "\n",
       "    .dataframe thead th {\n",
       "        text-align: right;\n",
       "    }\n",
       "</style>\n",
       "<table border=\"1\" class=\"dataframe\">\n",
       "  <thead>\n",
       "    <tr style=\"text-align: right;\">\n",
       "      <th></th>\n",
       "      <th>Player Name</th>\n",
       "      <th>Country</th>\n",
       "      <th>Time Period</th>\n",
       "      <th>Matches</th>\n",
       "      <th>Played</th>\n",
       "      <th>Dismissals</th>\n",
       "      <th>Catches</th>\n",
       "      <th>Stumpings</th>\n",
       "      <th>Maximum Dismissals</th>\n",
       "    </tr>\n",
       "  </thead>\n",
       "  <tbody>\n",
       "    <tr>\n",
       "      <th>0</th>\n",
       "      <td>MS Dhoni</td>\n",
       "      <td>India</td>\n",
       "      <td>2016-2016</td>\n",
       "      <td>5</td>\n",
       "      <td>5</td>\n",
       "      <td>7</td>\n",
       "      <td>6</td>\n",
       "      <td>1</td>\n",
       "      <td>3</td>\n",
       "    </tr>\n",
       "    <tr>\n",
       "      <th>1</th>\n",
       "      <td>SP Patil</td>\n",
       "      <td>UAE</td>\n",
       "      <td>2016-2016</td>\n",
       "      <td>7</td>\n",
       "      <td>7</td>\n",
       "      <td>7</td>\n",
       "      <td>6</td>\n",
       "      <td>1</td>\n",
       "      <td>2</td>\n",
       "    </tr>\n",
       "    <tr>\n",
       "      <th>2</th>\n",
       "      <td>LD Chandimal</td>\n",
       "      <td>Sri Lanka</td>\n",
       "      <td>2016-2016</td>\n",
       "      <td>4</td>\n",
       "      <td>3</td>\n",
       "      <td>4</td>\n",
       "      <td>4</td>\n",
       "      <td>0</td>\n",
       "      <td>2</td>\n",
       "    </tr>\n",
       "    <tr>\n",
       "      <th>3</th>\n",
       "      <td>Sultan Ahmed</td>\n",
       "      <td>Oman</td>\n",
       "      <td>2016-2016</td>\n",
       "      <td>3</td>\n",
       "      <td>3</td>\n",
       "      <td>4</td>\n",
       "      <td>2</td>\n",
       "      <td>2</td>\n",
       "      <td>3</td>\n",
       "    </tr>\n",
       "    <tr>\n",
       "      <th>4</th>\n",
       "      <td>KD Karthik</td>\n",
       "      <td>India</td>\n",
       "      <td>2022-2022</td>\n",
       "      <td>3</td>\n",
       "      <td>1</td>\n",
       "      <td>3</td>\n",
       "      <td>3</td>\n",
       "      <td>0</td>\n",
       "      <td>3</td>\n",
       "    </tr>\n",
       "  </tbody>\n",
       "</table>\n",
       "</div>"
      ],
      "text/plain": [
       "     Player Name    Country Time Period  Matches  Played  Dismissals  Catches  \\\n",
       "0      MS Dhoni       India   2016-2016        5       5           7        6   \n",
       "1      SP Patil         UAE   2016-2016        7       7           7        6   \n",
       "2  LD Chandimal   Sri Lanka   2016-2016        4       3           4        4   \n",
       "3  Sultan Ahmed        Oman   2016-2016        3       3           4        2   \n",
       "4    KD Karthik       India   2022-2022        3       1           3        3   \n",
       "\n",
       "   Stumpings  Maximum Dismissals  \n",
       "0          1                   3  \n",
       "1          1                   2  \n",
       "2          0                   2  \n",
       "3          2                   3  \n",
       "4          0                   3  "
      ]
     },
     "execution_count": 88,
     "metadata": {},
     "output_type": "execute_result"
    }
   ],
   "source": [
    "wk_t20.head()"
   ]
  },
  {
   "cell_type": "markdown",
   "id": "ee645c24",
   "metadata": {},
   "source": [
    "# All-rounder stats in Asia Cup"
   ]
  },
  {
   "cell_type": "markdown",
   "id": "90c4a08d",
   "metadata": {},
   "source": [
    "For identifying the all-rounders we have to look for players who appear in both the dataframes that is the batsman as well as bowler.<br>We can join the two tables using the inner join."
   ]
  },
  {
   "cell_type": "code",
   "execution_count": 361,
   "id": "511e109b",
   "metadata": {},
   "outputs": [
    {
     "data": {
      "text/html": [
       "<div>\n",
       "<style scoped>\n",
       "    .dataframe tbody tr th:only-of-type {\n",
       "        vertical-align: middle;\n",
       "    }\n",
       "\n",
       "    .dataframe tbody tr th {\n",
       "        vertical-align: top;\n",
       "    }\n",
       "\n",
       "    .dataframe thead th {\n",
       "        text-align: right;\n",
       "    }\n",
       "</style>\n",
       "<table border=\"1\" class=\"dataframe\">\n",
       "  <thead>\n",
       "    <tr style=\"text-align: right;\">\n",
       "      <th></th>\n",
       "      <th>Player Name</th>\n",
       "      <th>Country</th>\n",
       "      <th>Time Period</th>\n",
       "      <th>Matches</th>\n",
       "      <th>Played</th>\n",
       "      <th>Not Outs</th>\n",
       "      <th>Runs</th>\n",
       "      <th>Highest Score</th>\n",
       "      <th>Batting Average</th>\n",
       "      <th>Balls Faced</th>\n",
       "      <th>...</th>\n",
       "      <th>Overs</th>\n",
       "      <th>Maiden Overs</th>\n",
       "      <th>Runs</th>\n",
       "      <th>Wickets</th>\n",
       "      <th>Best Figure</th>\n",
       "      <th>Bowling Average</th>\n",
       "      <th>Economy Rate</th>\n",
       "      <th>Strike Rate</th>\n",
       "      <th>Four Wickets</th>\n",
       "      <th>Five Wickets</th>\n",
       "    </tr>\n",
       "  </thead>\n",
       "  <tbody>\n",
       "    <tr>\n",
       "      <th>0</th>\n",
       "      <td>ST Jayasuriya</td>\n",
       "      <td>Sri Lanka</td>\n",
       "      <td>1990-2008</td>\n",
       "      <td>25</td>\n",
       "      <td>24</td>\n",
       "      <td>1</td>\n",
       "      <td>1220</td>\n",
       "      <td>130</td>\n",
       "      <td>53.04</td>\n",
       "      <td>1190</td>\n",
       "      <td>...</td>\n",
       "      <td>148.5</td>\n",
       "      <td>2</td>\n",
       "      <td>667</td>\n",
       "      <td>22</td>\n",
       "      <td>4/49</td>\n",
       "      <td>30.31</td>\n",
       "      <td>4.48</td>\n",
       "      <td>40.5</td>\n",
       "      <td>1</td>\n",
       "      <td>0</td>\n",
       "    </tr>\n",
       "    <tr>\n",
       "      <th>1</th>\n",
       "      <td>SR Tendulkar</td>\n",
       "      <td>India</td>\n",
       "      <td>1990-2012</td>\n",
       "      <td>23</td>\n",
       "      <td>21</td>\n",
       "      <td>2</td>\n",
       "      <td>971</td>\n",
       "      <td>114</td>\n",
       "      <td>51.10</td>\n",
       "      <td>1136</td>\n",
       "      <td>...</td>\n",
       "      <td>76.2</td>\n",
       "      <td>0</td>\n",
       "      <td>364</td>\n",
       "      <td>17</td>\n",
       "      <td>3/21</td>\n",
       "      <td>21.41</td>\n",
       "      <td>4.76</td>\n",
       "      <td>26.9</td>\n",
       "      <td>0</td>\n",
       "      <td>0</td>\n",
       "    </tr>\n",
       "    <tr>\n",
       "      <th>2</th>\n",
       "      <td>Shoaib Malik</td>\n",
       "      <td>Pakistan</td>\n",
       "      <td>2000-2018</td>\n",
       "      <td>17</td>\n",
       "      <td>15</td>\n",
       "      <td>3</td>\n",
       "      <td>786</td>\n",
       "      <td>143</td>\n",
       "      <td>65.50</td>\n",
       "      <td>867</td>\n",
       "      <td>...</td>\n",
       "      <td>90.4</td>\n",
       "      <td>2</td>\n",
       "      <td>386</td>\n",
       "      <td>12</td>\n",
       "      <td>4/19</td>\n",
       "      <td>32.16</td>\n",
       "      <td>4.25</td>\n",
       "      <td>45.3</td>\n",
       "      <td>1</td>\n",
       "      <td>0</td>\n",
       "    </tr>\n",
       "    <tr>\n",
       "      <th>3</th>\n",
       "      <td>A Ranatunga</td>\n",
       "      <td>Sri Lanka</td>\n",
       "      <td>1984-1997</td>\n",
       "      <td>19</td>\n",
       "      <td>19</td>\n",
       "      <td>6</td>\n",
       "      <td>741</td>\n",
       "      <td>131</td>\n",
       "      <td>57.00</td>\n",
       "      <td>895</td>\n",
       "      <td>...</td>\n",
       "      <td>65.0</td>\n",
       "      <td>3</td>\n",
       "      <td>273</td>\n",
       "      <td>11</td>\n",
       "      <td>3/38</td>\n",
       "      <td>24.81</td>\n",
       "      <td>4.20</td>\n",
       "      <td>35.4</td>\n",
       "      <td>0</td>\n",
       "      <td>0</td>\n",
       "    </tr>\n",
       "    <tr>\n",
       "      <th>4</th>\n",
       "      <td>Shahid Afridi</td>\n",
       "      <td>Pakistan</td>\n",
       "      <td>1997-2014</td>\n",
       "      <td>23</td>\n",
       "      <td>21</td>\n",
       "      <td>6</td>\n",
       "      <td>532</td>\n",
       "      <td>124</td>\n",
       "      <td>35.46</td>\n",
       "      <td>378</td>\n",
       "      <td>...</td>\n",
       "      <td>178.0</td>\n",
       "      <td>3</td>\n",
       "      <td>883</td>\n",
       "      <td>14</td>\n",
       "      <td>2/31</td>\n",
       "      <td>63.07</td>\n",
       "      <td>4.96</td>\n",
       "      <td>76.2</td>\n",
       "      <td>0</td>\n",
       "      <td>0</td>\n",
       "    </tr>\n",
       "    <tr>\n",
       "      <th>5</th>\n",
       "      <td>V Sehwag</td>\n",
       "      <td>India</td>\n",
       "      <td>2004-2010</td>\n",
       "      <td>13</td>\n",
       "      <td>13</td>\n",
       "      <td>0</td>\n",
       "      <td>509</td>\n",
       "      <td>119</td>\n",
       "      <td>39.15</td>\n",
       "      <td>447</td>\n",
       "      <td>...</td>\n",
       "      <td>55.4</td>\n",
       "      <td>2</td>\n",
       "      <td>254</td>\n",
       "      <td>12</td>\n",
       "      <td>4/6</td>\n",
       "      <td>21.16</td>\n",
       "      <td>4.56</td>\n",
       "      <td>27.8</td>\n",
       "      <td>1</td>\n",
       "      <td>0</td>\n",
       "    </tr>\n",
       "    <tr>\n",
       "      <th>6</th>\n",
       "      <td>Shakib Al Hasan</td>\n",
       "      <td>Bangladesh</td>\n",
       "      <td>2010-2018</td>\n",
       "      <td>13</td>\n",
       "      <td>13</td>\n",
       "      <td>1</td>\n",
       "      <td>402</td>\n",
       "      <td>68</td>\n",
       "      <td>33.50</td>\n",
       "      <td>390</td>\n",
       "      <td>...</td>\n",
       "      <td>127.4</td>\n",
       "      <td>5</td>\n",
       "      <td>622</td>\n",
       "      <td>19</td>\n",
       "      <td>4/42</td>\n",
       "      <td>32.73</td>\n",
       "      <td>4.87</td>\n",
       "      <td>40.3</td>\n",
       "      <td>1</td>\n",
       "      <td>0</td>\n",
       "    </tr>\n",
       "    <tr>\n",
       "      <th>7</th>\n",
       "      <td>Mahmudullah</td>\n",
       "      <td>Bangladesh</td>\n",
       "      <td>2008-2018</td>\n",
       "      <td>20</td>\n",
       "      <td>19</td>\n",
       "      <td>6</td>\n",
       "      <td>328</td>\n",
       "      <td>74</td>\n",
       "      <td>25.23</td>\n",
       "      <td>525</td>\n",
       "      <td>...</td>\n",
       "      <td>101.0</td>\n",
       "      <td>2</td>\n",
       "      <td>516</td>\n",
       "      <td>10</td>\n",
       "      <td>2/38</td>\n",
       "      <td>51.60</td>\n",
       "      <td>5.10</td>\n",
       "      <td>60.6</td>\n",
       "      <td>0</td>\n",
       "      <td>0</td>\n",
       "    </tr>\n",
       "  </tbody>\n",
       "</table>\n",
       "<p>8 rows × 31 columns</p>\n",
       "</div>"
      ],
      "text/plain": [
       "        Player Name     Country Time Period  Matches  Played  Not Outs  Runs  \\\n",
       "0    ST Jayasuriya    Sri Lanka   1990-2008       25      24         1  1220   \n",
       "1     SR Tendulkar        India   1990-2012       23      21         2   971   \n",
       "2     Shoaib Malik     Pakistan   2000-2018       17      15         3   786   \n",
       "3      A Ranatunga    Sri Lanka   1984-1997       19      19         6   741   \n",
       "4    Shahid Afridi     Pakistan   1997-2014       23      21         6   532   \n",
       "5         V Sehwag        India   2004-2010       13      13         0   509   \n",
       "6  Shakib Al Hasan   Bangladesh   2010-2018       13      13         1   402   \n",
       "7      Mahmudullah   Bangladesh   2008-2018       20      19         6   328   \n",
       "\n",
       "   Highest Score  Batting Average  Balls Faced  ...  Overs  Maiden Overs  \\\n",
       "0            130            53.04         1190  ...  148.5             2   \n",
       "1            114            51.10         1136  ...   76.2             0   \n",
       "2            143            65.50          867  ...   90.4             2   \n",
       "3            131            57.00          895  ...   65.0             3   \n",
       "4            124            35.46          378  ...  178.0             3   \n",
       "5            119            39.15          447  ...   55.4             2   \n",
       "6             68            33.50          390  ...  127.4             5   \n",
       "7             74            25.23          525  ...  101.0             2   \n",
       "\n",
       "   Runs  Wickets  Best Figure  Bowling Average Economy Rate Strike Rate  \\\n",
       "0   667       22         4/49            30.31         4.48        40.5   \n",
       "1   364       17         3/21            21.41         4.76        26.9   \n",
       "2   386       12         4/19            32.16         4.25        45.3   \n",
       "3   273       11         3/38            24.81         4.20        35.4   \n",
       "4   883       14         2/31            63.07         4.96        76.2   \n",
       "5   254       12          4/6            21.16         4.56        27.8   \n",
       "6   622       19         4/42            32.73         4.87        40.3   \n",
       "7   516       10         2/38            51.60         5.10        60.6   \n",
       "\n",
       "  Four Wickets  Five Wickets  \n",
       "0            1             0  \n",
       "1            0             0  \n",
       "2            1             0  \n",
       "3            0             0  \n",
       "4            0             0  \n",
       "5            1             0  \n",
       "6            1             0  \n",
       "7            0             0  \n",
       "\n",
       "[8 rows x 31 columns]"
      ]
     },
     "execution_count": 361,
     "metadata": {},
     "output_type": "execute_result"
    }
   ],
   "source": [
    "q = \"SELECT * FROM batsman_odi AS ba INNER JOIN bowler_odi AS bo ON ba.`Player Name` = bo.`Player Name`\"\n",
    "allrounder_odi_result=pysqldf(q)\n",
    "allrounder_odi=pd.DataFrame(allrounder_odi_result)\n",
    "allrounder_odi.shape\n",
    "allrounder_odi.head(8)"
   ]
  },
  {
   "cell_type": "code",
   "execution_count": 364,
   "id": "30544247",
   "metadata": {},
   "outputs": [
    {
     "data": {
      "text/html": [
       "<div>\n",
       "<style scoped>\n",
       "    .dataframe tbody tr th:only-of-type {\n",
       "        vertical-align: middle;\n",
       "    }\n",
       "\n",
       "    .dataframe tbody tr th {\n",
       "        vertical-align: top;\n",
       "    }\n",
       "\n",
       "    .dataframe thead th {\n",
       "        text-align: right;\n",
       "    }\n",
       "</style>\n",
       "<table border=\"1\" class=\"dataframe\">\n",
       "  <thead>\n",
       "    <tr style=\"text-align: right;\">\n",
       "      <th></th>\n",
       "      <th>Player Name</th>\n",
       "      <th>Country</th>\n",
       "      <th>Time Period</th>\n",
       "      <th>Matches</th>\n",
       "      <th>Played</th>\n",
       "      <th>Not Outs</th>\n",
       "      <th>Runs</th>\n",
       "      <th>Highest Score</th>\n",
       "      <th>Batting Average</th>\n",
       "      <th>Balls Faced</th>\n",
       "      <th>...</th>\n",
       "      <th>Overs</th>\n",
       "      <th>Maiden Overs</th>\n",
       "      <th>Runs</th>\n",
       "      <th>Wickets</th>\n",
       "      <th>Best Figure</th>\n",
       "      <th>Bowling Average</th>\n",
       "      <th>Economy Rate</th>\n",
       "      <th>Strike Rate</th>\n",
       "      <th>Four Wickets</th>\n",
       "      <th>Five Wickets</th>\n",
       "    </tr>\n",
       "  </thead>\n",
       "  <tbody>\n",
       "    <tr>\n",
       "      <th>0</th>\n",
       "      <td>Mahmudullah</td>\n",
       "      <td>Bangladesh</td>\n",
       "      <td>2016-2022</td>\n",
       "      <td>7</td>\n",
       "      <td>7</td>\n",
       "      <td>4</td>\n",
       "      <td>173</td>\n",
       "      <td>36</td>\n",
       "      <td>57.66</td>\n",
       "      <td>122</td>\n",
       "      <td>...</td>\n",
       "      <td>6.0</td>\n",
       "      <td>0</td>\n",
       "      <td>28</td>\n",
       "      <td>4</td>\n",
       "      <td>2/5</td>\n",
       "      <td>7.00</td>\n",
       "      <td>4.66</td>\n",
       "      <td>9.0</td>\n",
       "      <td>0</td>\n",
       "      <td>0</td>\n",
       "    </tr>\n",
       "    <tr>\n",
       "      <th>1</th>\n",
       "      <td>Mohammad Shahzad</td>\n",
       "      <td>UAE</td>\n",
       "      <td>2016-2016</td>\n",
       "      <td>7</td>\n",
       "      <td>7</td>\n",
       "      <td>1</td>\n",
       "      <td>129</td>\n",
       "      <td>52</td>\n",
       "      <td>21.50</td>\n",
       "      <td>107</td>\n",
       "      <td>...</td>\n",
       "      <td>19.1</td>\n",
       "      <td>0</td>\n",
       "      <td>156</td>\n",
       "      <td>4</td>\n",
       "      <td>2/27</td>\n",
       "      <td>39.00</td>\n",
       "      <td>8.13</td>\n",
       "      <td>28.7</td>\n",
       "      <td>0</td>\n",
       "      <td>0</td>\n",
       "    </tr>\n",
       "    <tr>\n",
       "      <th>2</th>\n",
       "      <td>Rohan Mustafa</td>\n",
       "      <td>UAE</td>\n",
       "      <td>2016-2016</td>\n",
       "      <td>7</td>\n",
       "      <td>7</td>\n",
       "      <td>0</td>\n",
       "      <td>122</td>\n",
       "      <td>77</td>\n",
       "      <td>17.42</td>\n",
       "      <td>107</td>\n",
       "      <td>...</td>\n",
       "      <td>20.5</td>\n",
       "      <td>0</td>\n",
       "      <td>146</td>\n",
       "      <td>6</td>\n",
       "      <td>3/19</td>\n",
       "      <td>24.33</td>\n",
       "      <td>7.00</td>\n",
       "      <td>20.8</td>\n",
       "      <td>0</td>\n",
       "      <td>0</td>\n",
       "    </tr>\n",
       "    <tr>\n",
       "      <th>3</th>\n",
       "      <td>Shakib Al Hasan</td>\n",
       "      <td>Bangladesh</td>\n",
       "      <td>2016-2022</td>\n",
       "      <td>7</td>\n",
       "      <td>7</td>\n",
       "      <td>0</td>\n",
       "      <td>112</td>\n",
       "      <td>32</td>\n",
       "      <td>16.00</td>\n",
       "      <td>115</td>\n",
       "      <td>...</td>\n",
       "      <td>24.4</td>\n",
       "      <td>0</td>\n",
       "      <td>152</td>\n",
       "      <td>6</td>\n",
       "      <td>2/20</td>\n",
       "      <td>25.33</td>\n",
       "      <td>6.16</td>\n",
       "      <td>24.6</td>\n",
       "      <td>0</td>\n",
       "      <td>0</td>\n",
       "    </tr>\n",
       "    <tr>\n",
       "      <th>4</th>\n",
       "      <td>HH Pandya</td>\n",
       "      <td>India</td>\n",
       "      <td>2016-2022</td>\n",
       "      <td>8</td>\n",
       "      <td>6</td>\n",
       "      <td>1</td>\n",
       "      <td>83</td>\n",
       "      <td>33</td>\n",
       "      <td>16.60</td>\n",
       "      <td>56</td>\n",
       "      <td>...</td>\n",
       "      <td>29.3</td>\n",
       "      <td>1</td>\n",
       "      <td>207</td>\n",
       "      <td>11</td>\n",
       "      <td>3/8</td>\n",
       "      <td>18.81</td>\n",
       "      <td>7.01</td>\n",
       "      <td>16.0</td>\n",
       "      <td>0</td>\n",
       "      <td>0</td>\n",
       "    </tr>\n",
       "    <tr>\n",
       "      <th>5</th>\n",
       "      <td>Mohammad Nawaz</td>\n",
       "      <td>Pakistan</td>\n",
       "      <td>2016-2022</td>\n",
       "      <td>8</td>\n",
       "      <td>5</td>\n",
       "      <td>0</td>\n",
       "      <td>79</td>\n",
       "      <td>42</td>\n",
       "      <td>15.80</td>\n",
       "      <td>55</td>\n",
       "      <td>...</td>\n",
       "      <td>24.4</td>\n",
       "      <td>0</td>\n",
       "      <td>174</td>\n",
       "      <td>8</td>\n",
       "      <td>3/5</td>\n",
       "      <td>21.75</td>\n",
       "      <td>7.05</td>\n",
       "      <td>18.5</td>\n",
       "      <td>0</td>\n",
       "      <td>0</td>\n",
       "    </tr>\n",
       "    <tr>\n",
       "      <th>6</th>\n",
       "      <td>C Karunaratne</td>\n",
       "      <td>Sri Lanka</td>\n",
       "      <td>2022-2022</td>\n",
       "      <td>6</td>\n",
       "      <td>4</td>\n",
       "      <td>2</td>\n",
       "      <td>66</td>\n",
       "      <td>31</td>\n",
       "      <td>33.00</td>\n",
       "      <td>64</td>\n",
       "      <td>...</td>\n",
       "      <td>16.0</td>\n",
       "      <td>0</td>\n",
       "      <td>145</td>\n",
       "      <td>7</td>\n",
       "      <td>2/27</td>\n",
       "      <td>20.71</td>\n",
       "      <td>9.06</td>\n",
       "      <td>13.7</td>\n",
       "      <td>0</td>\n",
       "      <td>0</td>\n",
       "    </tr>\n",
       "    <tr>\n",
       "      <th>7</th>\n",
       "      <td>PWH de Silva</td>\n",
       "      <td>Sri Lanka</td>\n",
       "      <td>2022-2022</td>\n",
       "      <td>6</td>\n",
       "      <td>5</td>\n",
       "      <td>2</td>\n",
       "      <td>66</td>\n",
       "      <td>36</td>\n",
       "      <td>22.00</td>\n",
       "      <td>44</td>\n",
       "      <td>...</td>\n",
       "      <td>23.0</td>\n",
       "      <td>0</td>\n",
       "      <td>170</td>\n",
       "      <td>9</td>\n",
       "      <td>3/21</td>\n",
       "      <td>18.88</td>\n",
       "      <td>7.39</td>\n",
       "      <td>15.3</td>\n",
       "      <td>0</td>\n",
       "      <td>0</td>\n",
       "    </tr>\n",
       "    <tr>\n",
       "      <th>8</th>\n",
       "      <td>Amjad Javed</td>\n",
       "      <td>UAE</td>\n",
       "      <td>2016-2016</td>\n",
       "      <td>7</td>\n",
       "      <td>7</td>\n",
       "      <td>2</td>\n",
       "      <td>61</td>\n",
       "      <td>27</td>\n",
       "      <td>12.20</td>\n",
       "      <td>66</td>\n",
       "      <td>...</td>\n",
       "      <td>23.0</td>\n",
       "      <td>0</td>\n",
       "      <td>169</td>\n",
       "      <td>12</td>\n",
       "      <td>3/25</td>\n",
       "      <td>14.08</td>\n",
       "      <td>7.34</td>\n",
       "      <td>11.5</td>\n",
       "      <td>0</td>\n",
       "      <td>0</td>\n",
       "    </tr>\n",
       "  </tbody>\n",
       "</table>\n",
       "<p>9 rows × 31 columns</p>\n",
       "</div>"
      ],
      "text/plain": [
       "         Player Name     Country Time Period  Matches  Played  Not Outs  Runs  \\\n",
       "0       Mahmudullah   Bangladesh   2016-2022        7       7         4   173   \n",
       "1  Mohammad Shahzad          UAE   2016-2016        7       7         1   129   \n",
       "2     Rohan Mustafa          UAE   2016-2016        7       7         0   122   \n",
       "3   Shakib Al Hasan   Bangladesh   2016-2022        7       7         0   112   \n",
       "4         HH Pandya        India   2016-2022        8       6         1    83   \n",
       "5    Mohammad Nawaz     Pakistan   2016-2022        8       5         0    79   \n",
       "6     C Karunaratne    Sri Lanka   2022-2022        6       4         2    66   \n",
       "7      PWH de Silva    Sri Lanka   2022-2022        6       5         2    66   \n",
       "8       Amjad Javed          UAE   2016-2016        7       7         2    61   \n",
       "\n",
       "   Highest Score Batting Average  Balls Faced  ...  Overs  Maiden Overs  Runs  \\\n",
       "0             36           57.66          122  ...    6.0             0    28   \n",
       "1             52           21.50          107  ...   19.1             0   156   \n",
       "2             77           17.42          107  ...   20.5             0   146   \n",
       "3             32           16.00          115  ...   24.4             0   152   \n",
       "4             33           16.60           56  ...   29.3             1   207   \n",
       "5             42           15.80           55  ...   24.4             0   174   \n",
       "6             31           33.00           64  ...   16.0             0   145   \n",
       "7             36           22.00           44  ...   23.0             0   170   \n",
       "8             27           12.20           66  ...   23.0             0   169   \n",
       "\n",
       "   Wickets  Best Figure  Bowling Average Economy Rate Strike Rate  \\\n",
       "0        4          2/5             7.00         4.66         9.0   \n",
       "1        4         2/27            39.00         8.13        28.7   \n",
       "2        6         3/19            24.33         7.00        20.8   \n",
       "3        6         2/20            25.33         6.16        24.6   \n",
       "4       11          3/8            18.81         7.01        16.0   \n",
       "5        8          3/5            21.75         7.05        18.5   \n",
       "6        7         2/27            20.71         9.06        13.7   \n",
       "7        9         3/21            18.88         7.39        15.3   \n",
       "8       12         3/25            14.08         7.34        11.5   \n",
       "\n",
       "  Four Wickets  Five Wickets  \n",
       "0            0             0  \n",
       "1            0             0  \n",
       "2            0             0  \n",
       "3            0             0  \n",
       "4            0             0  \n",
       "5            0             0  \n",
       "6            0             0  \n",
       "7            0             0  \n",
       "8            0             0  \n",
       "\n",
       "[9 rows x 31 columns]"
      ]
     },
     "execution_count": 364,
     "metadata": {},
     "output_type": "execute_result"
    }
   ],
   "source": [
    "q1 = \"SELECT * FROM batsman_t20 AS bat INNER JOIN bowler_t20 AS bot ON bat.`Player Name` = bot.`Player Name`\"\n",
    "allrounder_t20_result=pysqldf(q1)\n",
    "allrounder_t20=pd.DataFrame(allrounder_t20_result)\n",
    "allrounder_t20.shape\n",
    "allrounder_t20.head(9)"
   ]
  },
  {
   "cell_type": "markdown",
   "id": "26b3ee0b",
   "metadata": {},
   "source": [
    "# Indian Batsmen in Asia Cup(ODI)"
   ]
  },
  {
   "cell_type": "code",
   "execution_count": 96,
   "id": "b576bf47",
   "metadata": {},
   "outputs": [
    {
     "name": "stdout",
     "output_type": "stream",
     "text": [
      "      Player Name  Matches  Runs   hs    avg      SR  Sixes\n",
      "0   SR Tendulkar        23   971  114  51.10   85.47      8\n",
      "1      RG Sharma        22   745  111  46.56   84.94     17\n",
      "2       MS Dhoni        19   648  109  64.80   87.68     12\n",
      "3        V Kohli        11   613  183  61.30   97.14      4\n",
      "4      G Gambhir        13   573  100  44.07   89.95      2\n",
      "5       SK Raina        13   547  116  60.77  113.95     18\n",
      "6       S Dhawan         9   534  127  59.33   91.43      8\n",
      "7       NS Sidhu        14   530  104  66.25   77.71      7\n",
      "8     SC Ganguly        13   518  135  51.80   74.00     13\n",
      "9       V Sehwag        13   509  119  39.15  113.87     12\n",
      "10  M Azharuddin        18   468   90  58.50   83.12      9\n",
      "11      R Dravid        13   334  104  37.11   78.22      1\n",
      "12  Yuvraj Singh        11   312   50  39.00   88.13      7\n",
      "13    KD Karthik        12   302   66  43.14   73.65      2\n",
      "14     AT Rayudu        10   260   60  43.33   81.76      7\n"
     ]
    }
   ],
   "source": [
    "q=\"select [Player Name],Matches,Runs,[Highest Score] as hs,[Batting Average] as avg,[Strike Rate] as SR,sixes from batsman_odi where Country is 'India'\"\n",
    "print(pysqldf(q))"
   ]
  },
  {
   "cell_type": "markdown",
   "id": "76e481ad",
   "metadata": {},
   "source": [
    "# India bowlers in Asia Cup(ODI)"
   ]
  },
  {
   "cell_type": "code",
   "execution_count": 95,
   "id": "759cd305",
   "metadata": {},
   "outputs": [
    {
     "name": "stdout",
     "output_type": "stream",
     "text": [
      "        Player Name  Matches  Wickets  Overs    er    rt  MO\n",
      "0        IK Pathan        12       22  109.1  5.54  29.7   1\n",
      "1        RA Jadeja        14       19  116.1  4.34  36.6   4\n",
      "2     SR Tendulkar        23       17   76.2  4.76  26.9   0\n",
      "3      N Kapil Dev         7       15   54.4  3.56  21.8   5\n",
      "4         R Ashwin         7       14   68.4  4.63  29.4   4\n",
      "5         A Kumble        15       14  128.0  4.15  54.8   7\n",
      "6       BKV Prasad         7       13   52.0  4.44  24.0   3\n",
      "7         V Sehwag        13       12   55.4  4.56  27.8   2\n",
      "8          P Kumar        11       12   90.3  5.56  45.2   5\n",
      "9    Kuldeep Yadav         6       10   58.0  4.08  34.8   2\n",
      "10     Arshad Ayub         4        9   36.0  3.33  24.0   2\n",
      "11  Mohammed Shami         4        9   37.2  6.16  24.8   1\n",
      "12          Z Khan         8        9   62.3  5.23  41.6   6\n",
      "13         B Kumar         9        9   77.2  4.43  51.5   5\n"
     ]
    }
   ],
   "source": [
    "q=\"select [Player Name],Matches,Wickets,Overs,[Economy Rate] as er,[Strike Rate] as rt, [Maiden Overs] as MO from bowler_odi where Country is 'India'\"\n",
    "print(pysqldf(q))"
   ]
  },
  {
   "cell_type": "markdown",
   "id": "6044ffc7",
   "metadata": {},
   "source": [
    "# Indian batsmen in Asia Cup(t20I)"
   ]
  },
  {
   "cell_type": "code",
   "execution_count": 97,
   "id": "552f409e",
   "metadata": {},
   "outputs": [
    {
     "name": "stdout",
     "output_type": "stream",
     "text": [
      "     Player Name  Matches  Runs   hs    avg      SR  Sixes\n",
      "0       V Kohli        10   429  122  85.80  132.00     11\n",
      "1     RG Sharma         9   271   83  30.11  141.14     12\n",
      "2      SA Yadav         5   139   68  34.75  163.52      8\n",
      "3      KL Rahul         5   132   62  26.40  122.22      6\n",
      "4  Yuvraj Singh         5    89   35  44.50  111.25      4\n",
      "5     HH Pandya         8    83   33  16.60  148.21      3\n",
      "6      S Dhawan         4    79   60  26.33  111.26      1\n"
     ]
    }
   ],
   "source": [
    "q=\"select [Player Name],Matches,Runs,[Highest Score] as hs,[Batting Average] as avg,[Strike Rate] as SR,sixes from batsman_t20 where Country is 'India'\"\n",
    "print(pysqldf(q))"
   ]
  },
  {
   "cell_type": "markdown",
   "id": "c7478f4a",
   "metadata": {},
   "source": [
    "# Indian bowlers in Asia Cup(T20I)"
   ]
  },
  {
   "cell_type": "code",
   "execution_count": 99,
   "id": "cb84b9bc",
   "metadata": {},
   "outputs": [
    {
     "name": "stdout",
     "output_type": "stream",
     "text": [
      "       Player Name  Matches  Wickets  Overs    er    rt  MO\n",
      "0         B Kumar         6       13   23.0  5.34  10.6   3\n",
      "1       HH Pandya         8       11   29.3  7.01  16.0   1\n",
      "2       JJ Bumrah         5        6   18.0  5.22  18.0   2\n",
      "3         A Nehra         4        6   14.0  7.07  14.0   0\n",
      "4        R Ashwin         6        6   22.0  6.50  22.0   0\n",
      "5  Arshdeep Singh         5        5   17.3  8.62  21.0   0\n",
      "6       RA Jadeja         6        4   18.0  5.88  27.0   0\n",
      "7       YS Chahal         4        4   16.0  7.93  24.0   0\n"
     ]
    }
   ],
   "source": [
    "q=\"select [Player Name],Matches,Wickets,Overs,[Economy Rate] as er,[Strike Rate] as rt, [Maiden Overs] as MO from bowler_t20 where Country is 'India'\"\n",
    "print(pysqldf(q))"
   ]
  },
  {
   "cell_type": "markdown",
   "id": "44a72b5c",
   "metadata": {},
   "source": [
    "As the upcoming edition is going to be played in ODI format, so we will be considering only the ODI matches"
   ]
  },
  {
   "cell_type": "markdown",
   "id": "f03f24a9",
   "metadata": {},
   "source": [
    "# Asia Cup(ODI) in Sri Lanka --->"
   ]
  },
  {
   "cell_type": "code",
   "execution_count": 101,
   "id": "8d4b0106",
   "metadata": {},
   "outputs": [],
   "source": [
    "asia_cup_odi=asia_cup[asia_cup['Format'] =='ODI']"
   ]
  },
  {
   "cell_type": "code",
   "execution_count": 103,
   "id": "37d4d98e",
   "metadata": {},
   "outputs": [
    {
     "data": {
      "text/html": [
       "<div>\n",
       "<style scoped>\n",
       "    .dataframe tbody tr th:only-of-type {\n",
       "        vertical-align: middle;\n",
       "    }\n",
       "\n",
       "    .dataframe tbody tr th {\n",
       "        vertical-align: top;\n",
       "    }\n",
       "\n",
       "    .dataframe thead th {\n",
       "        text-align: right;\n",
       "    }\n",
       "</style>\n",
       "<table border=\"1\" class=\"dataframe\">\n",
       "  <thead>\n",
       "    <tr style=\"text-align: right;\">\n",
       "      <th></th>\n",
       "      <th>Team</th>\n",
       "      <th>Opponent</th>\n",
       "      <th>Format</th>\n",
       "      <th>Ground</th>\n",
       "      <th>Year</th>\n",
       "      <th>Toss</th>\n",
       "      <th>Selection</th>\n",
       "      <th>Run Scored</th>\n",
       "      <th>Wicket Lost</th>\n",
       "      <th>Fours</th>\n",
       "      <th>Sixes</th>\n",
       "      <th>Extras</th>\n",
       "      <th>Run Rate</th>\n",
       "      <th>Avg Bat Strike Rate</th>\n",
       "      <th>Highest Score</th>\n",
       "      <th>Wicket Taken</th>\n",
       "      <th>Given Extras</th>\n",
       "      <th>Highest Individual wicket</th>\n",
       "      <th>Player Of The Match</th>\n",
       "      <th>Result</th>\n",
       "    </tr>\n",
       "  </thead>\n",
       "  <tbody>\n",
       "    <tr>\n",
       "      <th>0</th>\n",
       "      <td>Pakistan</td>\n",
       "      <td>Sri Lanka</td>\n",
       "      <td>ODI</td>\n",
       "      <td>Sharjah</td>\n",
       "      <td>1984</td>\n",
       "      <td>Lose</td>\n",
       "      <td>Batting</td>\n",
       "      <td>187.0</td>\n",
       "      <td>9.0</td>\n",
       "      <td>9.0</td>\n",
       "      <td>3.0</td>\n",
       "      <td>21.0</td>\n",
       "      <td>4.06</td>\n",
       "      <td>52.04</td>\n",
       "      <td>47.0</td>\n",
       "      <td>5.0</td>\n",
       "      <td>26.0</td>\n",
       "      <td>2.0</td>\n",
       "      <td>Roy Dias</td>\n",
       "      <td>Lose</td>\n",
       "    </tr>\n",
       "    <tr>\n",
       "      <th>1</th>\n",
       "      <td>Sri Lanka</td>\n",
       "      <td>Pakistan</td>\n",
       "      <td>ODI</td>\n",
       "      <td>Sharjah</td>\n",
       "      <td>1984</td>\n",
       "      <td>Win</td>\n",
       "      <td>Bowling</td>\n",
       "      <td>190.0</td>\n",
       "      <td>5.0</td>\n",
       "      <td>11.0</td>\n",
       "      <td>1.0</td>\n",
       "      <td>26.0</td>\n",
       "      <td>4.36</td>\n",
       "      <td>68.51</td>\n",
       "      <td>57.0</td>\n",
       "      <td>9.0</td>\n",
       "      <td>21.0</td>\n",
       "      <td>3.0</td>\n",
       "      <td>Roy Dias</td>\n",
       "      <td>Win</td>\n",
       "    </tr>\n",
       "    <tr>\n",
       "      <th>2</th>\n",
       "      <td>India</td>\n",
       "      <td>Sri Lanka</td>\n",
       "      <td>ODI</td>\n",
       "      <td>Sharjah</td>\n",
       "      <td>1984</td>\n",
       "      <td>Win</td>\n",
       "      <td>Bowling</td>\n",
       "      <td>97.0</td>\n",
       "      <td>0.0</td>\n",
       "      <td>9.0</td>\n",
       "      <td>0.0</td>\n",
       "      <td>14.0</td>\n",
       "      <td>4.47</td>\n",
       "      <td>60.48</td>\n",
       "      <td>51.0</td>\n",
       "      <td>10.0</td>\n",
       "      <td>8.0</td>\n",
       "      <td>3.0</td>\n",
       "      <td>Surinder Khanna</td>\n",
       "      <td>Win</td>\n",
       "    </tr>\n",
       "    <tr>\n",
       "      <th>3</th>\n",
       "      <td>Sri Lanka</td>\n",
       "      <td>India</td>\n",
       "      <td>ODI</td>\n",
       "      <td>Sharjah</td>\n",
       "      <td>1984</td>\n",
       "      <td>Lose</td>\n",
       "      <td>Batting</td>\n",
       "      <td>96.0</td>\n",
       "      <td>10.0</td>\n",
       "      <td>7.0</td>\n",
       "      <td>0.0</td>\n",
       "      <td>8.0</td>\n",
       "      <td>2.34</td>\n",
       "      <td>25.74</td>\n",
       "      <td>38.0</td>\n",
       "      <td>0.0</td>\n",
       "      <td>14.0</td>\n",
       "      <td>0.0</td>\n",
       "      <td>Surinder Khanna</td>\n",
       "      <td>Lose</td>\n",
       "    </tr>\n",
       "    <tr>\n",
       "      <th>4</th>\n",
       "      <td>India</td>\n",
       "      <td>Pakistan</td>\n",
       "      <td>ODI</td>\n",
       "      <td>Sharjah</td>\n",
       "      <td>1984</td>\n",
       "      <td>Win</td>\n",
       "      <td>Batting</td>\n",
       "      <td>188.0</td>\n",
       "      <td>4.0</td>\n",
       "      <td>13.0</td>\n",
       "      <td>3.0</td>\n",
       "      <td>17.0</td>\n",
       "      <td>4.08</td>\n",
       "      <td>60.21</td>\n",
       "      <td>56.0</td>\n",
       "      <td>10.0</td>\n",
       "      <td>5.0</td>\n",
       "      <td>3.0</td>\n",
       "      <td>Surinder Khanna</td>\n",
       "      <td>Win</td>\n",
       "    </tr>\n",
       "  </tbody>\n",
       "</table>\n",
       "</div>"
      ],
      "text/plain": [
       "        Team   Opponent Format   Ground  Year  Toss Selection  Run Scored  \\\n",
       "0   Pakistan  Sri Lanka    ODI  Sharjah  1984  Lose   Batting       187.0   \n",
       "1  Sri Lanka   Pakistan    ODI  Sharjah  1984   Win   Bowling       190.0   \n",
       "2      India  Sri Lanka    ODI  Sharjah  1984   Win   Bowling        97.0   \n",
       "3  Sri Lanka      India    ODI  Sharjah  1984  Lose   Batting        96.0   \n",
       "4      India   Pakistan    ODI  Sharjah  1984   Win   Batting       188.0   \n",
       "\n",
       "   Wicket Lost  Fours  Sixes  Extras  Run Rate  Avg Bat Strike Rate  \\\n",
       "0          9.0    9.0    3.0    21.0      4.06                52.04   \n",
       "1          5.0   11.0    1.0    26.0      4.36                68.51   \n",
       "2          0.0    9.0    0.0    14.0      4.47                60.48   \n",
       "3         10.0    7.0    0.0     8.0      2.34                25.74   \n",
       "4          4.0   13.0    3.0    17.0      4.08                60.21   \n",
       "\n",
       "   Highest Score  Wicket Taken  Given Extras  Highest Individual wicket  \\\n",
       "0           47.0           5.0          26.0                        2.0   \n",
       "1           57.0           9.0          21.0                        3.0   \n",
       "2           51.0          10.0           8.0                        3.0   \n",
       "3           38.0           0.0          14.0                        0.0   \n",
       "4           56.0          10.0           5.0                        3.0   \n",
       "\n",
       "  Player Of The Match Result  \n",
       "0            Roy Dias   Lose  \n",
       "1            Roy Dias    Win  \n",
       "2     Surinder Khanna    Win  \n",
       "3     Surinder Khanna   Lose  \n",
       "4     Surinder Khanna    Win  "
      ]
     },
     "execution_count": 103,
     "metadata": {},
     "output_type": "execute_result"
    }
   ],
   "source": [
    "asia_cup_odi.head()"
   ]
  },
  {
   "cell_type": "code",
   "execution_count": 104,
   "id": "624ef497",
   "metadata": {},
   "outputs": [
    {
     "data": {
      "text/plain": [
       "array(['Sharjah', 'Colombo(PSS)', 'Moratuwa', 'Kandy', 'Colombo(SSC)',\n",
       "       'Dhaka', 'Chattogram', 'Chandigarh', 'Cuttack', 'Kolkata',\n",
       "       'Colombo(RPS)', 'Dambulla', 'Lahore', 'Karachi', 'Mirpur',\n",
       "       'Fatullah', 'Dubai(DSC)', 'Abu Dhabi'], dtype=object)"
      ]
     },
     "execution_count": 104,
     "metadata": {},
     "output_type": "execute_result"
    }
   ],
   "source": [
    "asia_cup_odi['Ground'].unique()"
   ]
  },
  {
   "cell_type": "markdown",
   "id": "3a0443fe",
   "metadata": {},
   "source": [
    "The upcoming edition is going to be played in Sri Lanka , so we will be looking only at those matches that have been played in Sri Lanka"
   ]
  },
  {
   "cell_type": "code",
   "execution_count": 109,
   "id": "8b677caf",
   "metadata": {},
   "outputs": [],
   "source": [
    "q=\"select * from asia_cup_odi where ground is 'Colombo(PSS)' or ground is 'Moratuwa' or ground is 'Kandy' or ground is 'Colombo(SSC)' or ground is 'Dambulla' or ground is 'Colombo(RPS)'\"\n",
    "asia_cup_ODI_SL=pysqldf(q)"
   ]
  },
  {
   "cell_type": "code",
   "execution_count": 110,
   "id": "44efb40d",
   "metadata": {},
   "outputs": [
    {
     "data": {
      "text/html": [
       "<div>\n",
       "<style scoped>\n",
       "    .dataframe tbody tr th:only-of-type {\n",
       "        vertical-align: middle;\n",
       "    }\n",
       "\n",
       "    .dataframe tbody tr th {\n",
       "        vertical-align: top;\n",
       "    }\n",
       "\n",
       "    .dataframe thead th {\n",
       "        text-align: right;\n",
       "    }\n",
       "</style>\n",
       "<table border=\"1\" class=\"dataframe\">\n",
       "  <thead>\n",
       "    <tr style=\"text-align: right;\">\n",
       "      <th></th>\n",
       "      <th>Team</th>\n",
       "      <th>Opponent</th>\n",
       "      <th>Format</th>\n",
       "      <th>Ground</th>\n",
       "      <th>Year</th>\n",
       "      <th>Toss</th>\n",
       "      <th>Selection</th>\n",
       "      <th>Run Scored</th>\n",
       "      <th>Wicket Lost</th>\n",
       "      <th>Fours</th>\n",
       "      <th>Sixes</th>\n",
       "      <th>Extras</th>\n",
       "      <th>Run Rate</th>\n",
       "      <th>Avg Bat Strike Rate</th>\n",
       "      <th>Highest Score</th>\n",
       "      <th>Wicket Taken</th>\n",
       "      <th>Given Extras</th>\n",
       "      <th>Highest Individual wicket</th>\n",
       "      <th>Player Of The Match</th>\n",
       "      <th>Result</th>\n",
       "    </tr>\n",
       "  </thead>\n",
       "  <tbody>\n",
       "    <tr>\n",
       "      <th>0</th>\n",
       "      <td>Sri Lanka</td>\n",
       "      <td>Pakistan</td>\n",
       "      <td>ODI</td>\n",
       "      <td>Colombo(PSS)</td>\n",
       "      <td>1986</td>\n",
       "      <td>Win</td>\n",
       "      <td>Bowling</td>\n",
       "      <td>116.0</td>\n",
       "      <td>10.0</td>\n",
       "      <td>10.0</td>\n",
       "      <td>0.0</td>\n",
       "      <td>14.0</td>\n",
       "      <td>3.42</td>\n",
       "      <td>37.87</td>\n",
       "      <td>34.0</td>\n",
       "      <td>10.0</td>\n",
       "      <td>15.0</td>\n",
       "      <td>3.0</td>\n",
       "      <td>Mohsin Khan</td>\n",
       "      <td>Lose</td>\n",
       "    </tr>\n",
       "    <tr>\n",
       "      <th>1</th>\n",
       "      <td>Pakistan</td>\n",
       "      <td>Sri Lanka</td>\n",
       "      <td>ODI</td>\n",
       "      <td>Colombo(PSS)</td>\n",
       "      <td>1986</td>\n",
       "      <td>Lose</td>\n",
       "      <td>Batting</td>\n",
       "      <td>197.0</td>\n",
       "      <td>10.0</td>\n",
       "      <td>14.0</td>\n",
       "      <td>3.0</td>\n",
       "      <td>15.0</td>\n",
       "      <td>4.37</td>\n",
       "      <td>65.14</td>\n",
       "      <td>39.0</td>\n",
       "      <td>10.0</td>\n",
       "      <td>14.0</td>\n",
       "      <td>3.0</td>\n",
       "      <td>Mohsin Khan</td>\n",
       "      <td>Win</td>\n",
       "    </tr>\n",
       "    <tr>\n",
       "      <th>2</th>\n",
       "      <td>Bangladesh</td>\n",
       "      <td>Pakistan</td>\n",
       "      <td>ODI</td>\n",
       "      <td>Moratuwa</td>\n",
       "      <td>1986</td>\n",
       "      <td>Lose</td>\n",
       "      <td>Batting</td>\n",
       "      <td>94.0</td>\n",
       "      <td>10.0</td>\n",
       "      <td>0.0</td>\n",
       "      <td>0.0</td>\n",
       "      <td>9.0</td>\n",
       "      <td>2.64</td>\n",
       "      <td>24.63</td>\n",
       "      <td>37.0</td>\n",
       "      <td>3.0</td>\n",
       "      <td>5.0</td>\n",
       "      <td>2.0</td>\n",
       "      <td>Wasim Akram</td>\n",
       "      <td>Lose</td>\n",
       "    </tr>\n",
       "    <tr>\n",
       "      <th>3</th>\n",
       "      <td>Pakistan</td>\n",
       "      <td>Bangladesh</td>\n",
       "      <td>ODI</td>\n",
       "      <td>Moratuwa</td>\n",
       "      <td>1986</td>\n",
       "      <td>Win</td>\n",
       "      <td>Bowling</td>\n",
       "      <td>98.0</td>\n",
       "      <td>3.0</td>\n",
       "      <td>4.0</td>\n",
       "      <td>0.0</td>\n",
       "      <td>5.0</td>\n",
       "      <td>3.04</td>\n",
       "      <td>36.79</td>\n",
       "      <td>47.0</td>\n",
       "      <td>10.0</td>\n",
       "      <td>9.0</td>\n",
       "      <td>4.0</td>\n",
       "      <td>Wasim Akram</td>\n",
       "      <td>Win</td>\n",
       "    </tr>\n",
       "    <tr>\n",
       "      <th>4</th>\n",
       "      <td>Sri Lanka</td>\n",
       "      <td>Bangladesh</td>\n",
       "      <td>ODI</td>\n",
       "      <td>Kandy</td>\n",
       "      <td>1986</td>\n",
       "      <td>win</td>\n",
       "      <td>Bowling</td>\n",
       "      <td>132.0</td>\n",
       "      <td>3.0</td>\n",
       "      <td>0.0</td>\n",
       "      <td>0.0</td>\n",
       "      <td>19.0</td>\n",
       "      <td>4.19</td>\n",
       "      <td>46.07</td>\n",
       "      <td>44.0</td>\n",
       "      <td>8.0</td>\n",
       "      <td>10.0</td>\n",
       "      <td>2.0</td>\n",
       "      <td>Asanka Gurusinha</td>\n",
       "      <td>win</td>\n",
       "    </tr>\n",
       "  </tbody>\n",
       "</table>\n",
       "</div>"
      ],
      "text/plain": [
       "         Team    Opponent Format        Ground  Year  Toss Selection  \\\n",
       "0   Sri Lanka    Pakistan    ODI  Colombo(PSS)  1986   Win   Bowling   \n",
       "1    Pakistan   Sri Lanka    ODI  Colombo(PSS)  1986  Lose   Batting   \n",
       "2  Bangladesh    Pakistan    ODI      Moratuwa  1986  Lose   Batting   \n",
       "3    Pakistan  Bangladesh    ODI      Moratuwa  1986   Win   Bowling   \n",
       "4   Sri Lanka  Bangladesh    ODI         Kandy  1986   win   Bowling   \n",
       "\n",
       "   Run Scored  Wicket Lost  Fours  Sixes  Extras  Run Rate  \\\n",
       "0       116.0         10.0   10.0    0.0    14.0      3.42   \n",
       "1       197.0         10.0   14.0    3.0    15.0      4.37   \n",
       "2        94.0         10.0    0.0    0.0     9.0      2.64   \n",
       "3        98.0          3.0    4.0    0.0     5.0      3.04   \n",
       "4       132.0          3.0    0.0    0.0    19.0      4.19   \n",
       "\n",
       "   Avg Bat Strike Rate  Highest Score  Wicket Taken  Given Extras  \\\n",
       "0                37.87           34.0          10.0          15.0   \n",
       "1                65.14           39.0          10.0          14.0   \n",
       "2                24.63           37.0           3.0           5.0   \n",
       "3                36.79           47.0          10.0           9.0   \n",
       "4                46.07           44.0           8.0          10.0   \n",
       "\n",
       "   Highest Individual wicket Player Of The Match Result  \n",
       "0                        3.0         Mohsin Khan   Lose  \n",
       "1                        3.0         Mohsin Khan    Win  \n",
       "2                        2.0         Wasim Akram   Lose  \n",
       "3                        4.0         Wasim Akram    Win  \n",
       "4                        2.0    Asanka Gurusinha    win  "
      ]
     },
     "execution_count": 110,
     "metadata": {},
     "output_type": "execute_result"
    }
   ],
   "source": [
    "asia_cup_ODI_SL.head()"
   ]
  },
  {
   "cell_type": "code",
   "execution_count": 112,
   "id": "c521298c",
   "metadata": {},
   "outputs": [
    {
     "data": {
      "text/plain": [
       "(62, 20)"
      ]
     },
     "execution_count": 112,
     "metadata": {},
     "output_type": "execute_result"
    }
   ],
   "source": [
    "asia_cup_ODI_SL.shape"
   ]
  },
  {
   "cell_type": "markdown",
   "id": "b4ec3219",
   "metadata": {},
   "source": [
    "We will be adding 2 new columns : won_while_defending and won_while_chasing which contain either 0 or 1"
   ]
  },
  {
   "cell_type": "code",
   "execution_count": 121,
   "id": "6f5cfd52",
   "metadata": {},
   "outputs": [],
   "source": [
    "\n",
    "asia_cup_ODI_SL['won_while_defending'] = np.where((asia_cup_ODI_SL['Selection'] == 'Batting') & (asia_cup_ODI_SL['Result'] == 'Win'), 1, 0)\n",
    "asia_cup_ODI_SL['won_while_chasing'] = np.where((asia_cup_ODI_SL['Selection'] == 'Bowling') & (asia_cup_ODI_SL['Result'] == 'Win'), 1, 0)"
   ]
  },
  {
   "cell_type": "code",
   "execution_count": 130,
   "id": "7bb77122",
   "metadata": {},
   "outputs": [
    {
     "data": {
      "text/html": [
       "<div>\n",
       "<style scoped>\n",
       "    .dataframe tbody tr th:only-of-type {\n",
       "        vertical-align: middle;\n",
       "    }\n",
       "\n",
       "    .dataframe tbody tr th {\n",
       "        vertical-align: top;\n",
       "    }\n",
       "\n",
       "    .dataframe thead th {\n",
       "        text-align: right;\n",
       "    }\n",
       "</style>\n",
       "<table border=\"1\" class=\"dataframe\">\n",
       "  <thead>\n",
       "    <tr style=\"text-align: right;\">\n",
       "      <th></th>\n",
       "      <th>Team</th>\n",
       "      <th>Opponent</th>\n",
       "      <th>Format</th>\n",
       "      <th>Ground</th>\n",
       "      <th>Year</th>\n",
       "      <th>Toss</th>\n",
       "      <th>Selection</th>\n",
       "      <th>Run Scored</th>\n",
       "      <th>Wicket Lost</th>\n",
       "      <th>Fours</th>\n",
       "      <th>...</th>\n",
       "      <th>Run Rate</th>\n",
       "      <th>Avg Bat Strike Rate</th>\n",
       "      <th>Highest Score</th>\n",
       "      <th>Wicket Taken</th>\n",
       "      <th>Given Extras</th>\n",
       "      <th>Highest Individual wicket</th>\n",
       "      <th>Player Of The Match</th>\n",
       "      <th>Result</th>\n",
       "      <th>won_while_defending</th>\n",
       "      <th>won_while_chasing</th>\n",
       "    </tr>\n",
       "  </thead>\n",
       "  <tbody>\n",
       "    <tr>\n",
       "      <th>0</th>\n",
       "      <td>Sri Lanka</td>\n",
       "      <td>Pakistan</td>\n",
       "      <td>ODI</td>\n",
       "      <td>Colombo(PSS)</td>\n",
       "      <td>1986</td>\n",
       "      <td>Win</td>\n",
       "      <td>Bowling</td>\n",
       "      <td>116.0</td>\n",
       "      <td>10.0</td>\n",
       "      <td>10.0</td>\n",
       "      <td>...</td>\n",
       "      <td>3.42</td>\n",
       "      <td>37.87</td>\n",
       "      <td>34.0</td>\n",
       "      <td>10.0</td>\n",
       "      <td>15.0</td>\n",
       "      <td>3.0</td>\n",
       "      <td>Mohsin Khan</td>\n",
       "      <td>Lose</td>\n",
       "      <td>0</td>\n",
       "      <td>0</td>\n",
       "    </tr>\n",
       "    <tr>\n",
       "      <th>1</th>\n",
       "      <td>Pakistan</td>\n",
       "      <td>Sri Lanka</td>\n",
       "      <td>ODI</td>\n",
       "      <td>Colombo(PSS)</td>\n",
       "      <td>1986</td>\n",
       "      <td>Lose</td>\n",
       "      <td>Batting</td>\n",
       "      <td>197.0</td>\n",
       "      <td>10.0</td>\n",
       "      <td>14.0</td>\n",
       "      <td>...</td>\n",
       "      <td>4.37</td>\n",
       "      <td>65.14</td>\n",
       "      <td>39.0</td>\n",
       "      <td>10.0</td>\n",
       "      <td>14.0</td>\n",
       "      <td>3.0</td>\n",
       "      <td>Mohsin Khan</td>\n",
       "      <td>Win</td>\n",
       "      <td>1</td>\n",
       "      <td>0</td>\n",
       "    </tr>\n",
       "    <tr>\n",
       "      <th>2</th>\n",
       "      <td>Bangladesh</td>\n",
       "      <td>Pakistan</td>\n",
       "      <td>ODI</td>\n",
       "      <td>Moratuwa</td>\n",
       "      <td>1986</td>\n",
       "      <td>Lose</td>\n",
       "      <td>Batting</td>\n",
       "      <td>94.0</td>\n",
       "      <td>10.0</td>\n",
       "      <td>0.0</td>\n",
       "      <td>...</td>\n",
       "      <td>2.64</td>\n",
       "      <td>24.63</td>\n",
       "      <td>37.0</td>\n",
       "      <td>3.0</td>\n",
       "      <td>5.0</td>\n",
       "      <td>2.0</td>\n",
       "      <td>Wasim Akram</td>\n",
       "      <td>Lose</td>\n",
       "      <td>0</td>\n",
       "      <td>0</td>\n",
       "    </tr>\n",
       "    <tr>\n",
       "      <th>3</th>\n",
       "      <td>Pakistan</td>\n",
       "      <td>Bangladesh</td>\n",
       "      <td>ODI</td>\n",
       "      <td>Moratuwa</td>\n",
       "      <td>1986</td>\n",
       "      <td>Win</td>\n",
       "      <td>Bowling</td>\n",
       "      <td>98.0</td>\n",
       "      <td>3.0</td>\n",
       "      <td>4.0</td>\n",
       "      <td>...</td>\n",
       "      <td>3.04</td>\n",
       "      <td>36.79</td>\n",
       "      <td>47.0</td>\n",
       "      <td>10.0</td>\n",
       "      <td>9.0</td>\n",
       "      <td>4.0</td>\n",
       "      <td>Wasim Akram</td>\n",
       "      <td>Win</td>\n",
       "      <td>0</td>\n",
       "      <td>1</td>\n",
       "    </tr>\n",
       "    <tr>\n",
       "      <th>4</th>\n",
       "      <td>Sri Lanka</td>\n",
       "      <td>Bangladesh</td>\n",
       "      <td>ODI</td>\n",
       "      <td>Kandy</td>\n",
       "      <td>1986</td>\n",
       "      <td>win</td>\n",
       "      <td>Bowling</td>\n",
       "      <td>132.0</td>\n",
       "      <td>3.0</td>\n",
       "      <td>0.0</td>\n",
       "      <td>...</td>\n",
       "      <td>4.19</td>\n",
       "      <td>46.07</td>\n",
       "      <td>44.0</td>\n",
       "      <td>8.0</td>\n",
       "      <td>10.0</td>\n",
       "      <td>2.0</td>\n",
       "      <td>Asanka Gurusinha</td>\n",
       "      <td>win</td>\n",
       "      <td>0</td>\n",
       "      <td>0</td>\n",
       "    </tr>\n",
       "  </tbody>\n",
       "</table>\n",
       "<p>5 rows × 22 columns</p>\n",
       "</div>"
      ],
      "text/plain": [
       "         Team    Opponent Format        Ground  Year  Toss Selection  \\\n",
       "0   Sri Lanka    Pakistan    ODI  Colombo(PSS)  1986   Win   Bowling   \n",
       "1    Pakistan   Sri Lanka    ODI  Colombo(PSS)  1986  Lose   Batting   \n",
       "2  Bangladesh    Pakistan    ODI      Moratuwa  1986  Lose   Batting   \n",
       "3    Pakistan  Bangladesh    ODI      Moratuwa  1986   Win   Bowling   \n",
       "4   Sri Lanka  Bangladesh    ODI         Kandy  1986   win   Bowling   \n",
       "\n",
       "   Run Scored  Wicket Lost  Fours  ...  Run Rate  Avg Bat Strike Rate  \\\n",
       "0       116.0         10.0   10.0  ...      3.42                37.87   \n",
       "1       197.0         10.0   14.0  ...      4.37                65.14   \n",
       "2        94.0         10.0    0.0  ...      2.64                24.63   \n",
       "3        98.0          3.0    4.0  ...      3.04                36.79   \n",
       "4       132.0          3.0    0.0  ...      4.19                46.07   \n",
       "\n",
       "   Highest Score  Wicket Taken  Given Extras  Highest Individual wicket  \\\n",
       "0           34.0          10.0          15.0                        3.0   \n",
       "1           39.0          10.0          14.0                        3.0   \n",
       "2           37.0           3.0           5.0                        2.0   \n",
       "3           47.0          10.0           9.0                        4.0   \n",
       "4           44.0           8.0          10.0                        2.0   \n",
       "\n",
       "   Player Of The Match  Result won_while_defending won_while_chasing  \n",
       "0          Mohsin Khan    Lose                   0                 0  \n",
       "1          Mohsin Khan     Win                   1                 0  \n",
       "2          Wasim Akram    Lose                   0                 0  \n",
       "3          Wasim Akram     Win                   0                 1  \n",
       "4     Asanka Gurusinha     win                   0                 0  \n",
       "\n",
       "[5 rows x 22 columns]"
      ]
     },
     "execution_count": 130,
     "metadata": {},
     "output_type": "execute_result"
    }
   ],
   "source": [
    "asia_cup_ODI_SL.head()"
   ]
  },
  {
   "cell_type": "code",
   "execution_count": 125,
   "id": "d455f891",
   "metadata": {},
   "outputs": [
    {
     "data": {
      "text/plain": [
       "Team                         0\n",
       "Opponent                     0\n",
       "Format                       0\n",
       "Ground                       0\n",
       "Year                         0\n",
       "Toss                         0\n",
       "Selection                    0\n",
       "Run Scored                   2\n",
       "Wicket Lost                  2\n",
       "Fours                        2\n",
       "Sixes                        2\n",
       "Extras                       2\n",
       "Run Rate                     2\n",
       "Avg Bat Strike Rate          2\n",
       "Highest Score                2\n",
       "Wicket Taken                 2\n",
       "Given Extras                 2\n",
       "Highest Individual wicket    2\n",
       "Player Of The Match          2\n",
       "Result                       0\n",
       "won_while_defending          0\n",
       "won_while_chasing            0\n",
       "dtype: int64"
      ]
     },
     "execution_count": 125,
     "metadata": {},
     "output_type": "execute_result"
    }
   ],
   "source": [
    "asia_cup_ODI_SL.isnull().sum()"
   ]
  },
  {
   "cell_type": "code",
   "execution_count": 128,
   "id": "288df75f",
   "metadata": {},
   "outputs": [
    {
     "name": "stdout",
     "output_type": "stream",
     "text": [
      "        Team  Opponent Format        Ground  Year  Toss Selection  Run Scored  \\\n",
      "14     India  Pakistan    ODI  Colombo(SSC)  1997   Win   Bowling         NaN   \n",
      "15  Pakistan     India    ODI  Colombo(SSC)  1997  Lose   Batting         NaN   \n",
      "\n",
      "    Wicket Lost  Fours  ...  Run Rate  Avg Bat Strike Rate  Highest Score  \\\n",
      "14          NaN    NaN  ...       NaN                  NaN            NaN   \n",
      "15          NaN    NaN  ...       NaN                  NaN            NaN   \n",
      "\n",
      "    Wicket Taken  Given Extras  Highest Individual wicket  \\\n",
      "14           NaN           NaN                        NaN   \n",
      "15           NaN           NaN                        NaN   \n",
      "\n",
      "    Player Of The Match     Result won_while_defending won_while_chasing  \n",
      "14                 None  No Result                   0                 0  \n",
      "15                 None  No Result                   0                 0  \n",
      "\n",
      "[2 rows x 22 columns]\n"
     ]
    }
   ],
   "source": [
    "print(asia_cup_ODI_SL[asia_cup_ODI_SL.isnull().any(axis=1)])"
   ]
  },
  {
   "cell_type": "code",
   "execution_count": 129,
   "id": "ffd111ff",
   "metadata": {},
   "outputs": [],
   "source": [
    "asia_cup_ODI_SL.dropna(inplace=True)"
   ]
  },
  {
   "cell_type": "code",
   "execution_count": 132,
   "id": "48a487b2",
   "metadata": {},
   "outputs": [],
   "source": [
    "asia_cup_ODI_SL['first_innings'] = np.where(\n",
    "    ((asia_cup_ODI_SL['Toss'] == 'Win') & (asia_cup_ODI_SL['Selection'] == 'Bowling')) |\n",
    "    ((asia_cup_ODI_SL['Toss'] == 'Lose') & (asia_cup_ODI_SL['Selection'] == 'Bowling')),\n",
    "    0,\n",
    "    1\n",
    ")"
   ]
  },
  {
   "cell_type": "code",
   "execution_count": 156,
   "id": "224bf6f9",
   "metadata": {},
   "outputs": [
    {
     "data": {
      "text/html": [
       "<div>\n",
       "<style scoped>\n",
       "    .dataframe tbody tr th:only-of-type {\n",
       "        vertical-align: middle;\n",
       "    }\n",
       "\n",
       "    .dataframe tbody tr th {\n",
       "        vertical-align: top;\n",
       "    }\n",
       "\n",
       "    .dataframe thead th {\n",
       "        text-align: right;\n",
       "    }\n",
       "</style>\n",
       "<table border=\"1\" class=\"dataframe\">\n",
       "  <thead>\n",
       "    <tr style=\"text-align: right;\">\n",
       "      <th></th>\n",
       "      <th>Team</th>\n",
       "      <th>Opponent</th>\n",
       "      <th>Format</th>\n",
       "      <th>Ground</th>\n",
       "      <th>Year</th>\n",
       "      <th>Toss</th>\n",
       "      <th>Selection</th>\n",
       "      <th>Run Scored</th>\n",
       "      <th>Wicket Lost</th>\n",
       "      <th>Fours</th>\n",
       "      <th>...</th>\n",
       "      <th>Avg Bat Strike Rate</th>\n",
       "      <th>Highest Score</th>\n",
       "      <th>Wicket Taken</th>\n",
       "      <th>Given Extras</th>\n",
       "      <th>Highest Individual wicket</th>\n",
       "      <th>Player Of The Match</th>\n",
       "      <th>Result</th>\n",
       "      <th>won_while_defending</th>\n",
       "      <th>won_while_chasing</th>\n",
       "      <th>first_innings</th>\n",
       "    </tr>\n",
       "  </thead>\n",
       "  <tbody>\n",
       "    <tr>\n",
       "      <th>0</th>\n",
       "      <td>Sri Lanka</td>\n",
       "      <td>Pakistan</td>\n",
       "      <td>ODI</td>\n",
       "      <td>Colombo(PSS)</td>\n",
       "      <td>1986</td>\n",
       "      <td>Win</td>\n",
       "      <td>Bowling</td>\n",
       "      <td>116.0</td>\n",
       "      <td>10.0</td>\n",
       "      <td>10.0</td>\n",
       "      <td>...</td>\n",
       "      <td>37.87</td>\n",
       "      <td>34.0</td>\n",
       "      <td>10.0</td>\n",
       "      <td>15.0</td>\n",
       "      <td>3.0</td>\n",
       "      <td>Mohsin Khan</td>\n",
       "      <td>Lose</td>\n",
       "      <td>0</td>\n",
       "      <td>0</td>\n",
       "      <td>0</td>\n",
       "    </tr>\n",
       "    <tr>\n",
       "      <th>1</th>\n",
       "      <td>Pakistan</td>\n",
       "      <td>Sri Lanka</td>\n",
       "      <td>ODI</td>\n",
       "      <td>Colombo(PSS)</td>\n",
       "      <td>1986</td>\n",
       "      <td>Lose</td>\n",
       "      <td>Batting</td>\n",
       "      <td>197.0</td>\n",
       "      <td>10.0</td>\n",
       "      <td>14.0</td>\n",
       "      <td>...</td>\n",
       "      <td>65.14</td>\n",
       "      <td>39.0</td>\n",
       "      <td>10.0</td>\n",
       "      <td>14.0</td>\n",
       "      <td>3.0</td>\n",
       "      <td>Mohsin Khan</td>\n",
       "      <td>Win</td>\n",
       "      <td>1</td>\n",
       "      <td>0</td>\n",
       "      <td>1</td>\n",
       "    </tr>\n",
       "    <tr>\n",
       "      <th>2</th>\n",
       "      <td>Bangladesh</td>\n",
       "      <td>Pakistan</td>\n",
       "      <td>ODI</td>\n",
       "      <td>Moratuwa</td>\n",
       "      <td>1986</td>\n",
       "      <td>Lose</td>\n",
       "      <td>Batting</td>\n",
       "      <td>94.0</td>\n",
       "      <td>10.0</td>\n",
       "      <td>0.0</td>\n",
       "      <td>...</td>\n",
       "      <td>24.63</td>\n",
       "      <td>37.0</td>\n",
       "      <td>3.0</td>\n",
       "      <td>5.0</td>\n",
       "      <td>2.0</td>\n",
       "      <td>Wasim Akram</td>\n",
       "      <td>Lose</td>\n",
       "      <td>0</td>\n",
       "      <td>0</td>\n",
       "      <td>1</td>\n",
       "    </tr>\n",
       "    <tr>\n",
       "      <th>3</th>\n",
       "      <td>Pakistan</td>\n",
       "      <td>Bangladesh</td>\n",
       "      <td>ODI</td>\n",
       "      <td>Moratuwa</td>\n",
       "      <td>1986</td>\n",
       "      <td>Win</td>\n",
       "      <td>Bowling</td>\n",
       "      <td>98.0</td>\n",
       "      <td>3.0</td>\n",
       "      <td>4.0</td>\n",
       "      <td>...</td>\n",
       "      <td>36.79</td>\n",
       "      <td>47.0</td>\n",
       "      <td>10.0</td>\n",
       "      <td>9.0</td>\n",
       "      <td>4.0</td>\n",
       "      <td>Wasim Akram</td>\n",
       "      <td>Win</td>\n",
       "      <td>0</td>\n",
       "      <td>1</td>\n",
       "      <td>0</td>\n",
       "    </tr>\n",
       "    <tr>\n",
       "      <th>4</th>\n",
       "      <td>Sri Lanka</td>\n",
       "      <td>Bangladesh</td>\n",
       "      <td>ODI</td>\n",
       "      <td>Kandy</td>\n",
       "      <td>1986</td>\n",
       "      <td>win</td>\n",
       "      <td>Bowling</td>\n",
       "      <td>132.0</td>\n",
       "      <td>3.0</td>\n",
       "      <td>0.0</td>\n",
       "      <td>...</td>\n",
       "      <td>46.07</td>\n",
       "      <td>44.0</td>\n",
       "      <td>8.0</td>\n",
       "      <td>10.0</td>\n",
       "      <td>2.0</td>\n",
       "      <td>Asanka Gurusinha</td>\n",
       "      <td>win</td>\n",
       "      <td>0</td>\n",
       "      <td>0</td>\n",
       "      <td>1</td>\n",
       "    </tr>\n",
       "    <tr>\n",
       "      <th>5</th>\n",
       "      <td>Bangladesh</td>\n",
       "      <td>Sri Lanka</td>\n",
       "      <td>ODI</td>\n",
       "      <td>Kandy</td>\n",
       "      <td>1986</td>\n",
       "      <td>Lose</td>\n",
       "      <td>Batting</td>\n",
       "      <td>131.0</td>\n",
       "      <td>8.0</td>\n",
       "      <td>0.0</td>\n",
       "      <td>...</td>\n",
       "      <td>47.03</td>\n",
       "      <td>40.0</td>\n",
       "      <td>3.0</td>\n",
       "      <td>19.0</td>\n",
       "      <td>1.0</td>\n",
       "      <td>Asanka Gurusinha</td>\n",
       "      <td>Lose</td>\n",
       "      <td>0</td>\n",
       "      <td>0</td>\n",
       "      <td>1</td>\n",
       "    </tr>\n",
       "    <tr>\n",
       "      <th>6</th>\n",
       "      <td>Sri Lanka</td>\n",
       "      <td>Pakistan</td>\n",
       "      <td>ODI</td>\n",
       "      <td>Colombo(SSC)</td>\n",
       "      <td>1986</td>\n",
       "      <td>Win</td>\n",
       "      <td>Bowling</td>\n",
       "      <td>195.0</td>\n",
       "      <td>5.0</td>\n",
       "      <td>15.0</td>\n",
       "      <td>...</td>\n",
       "      <td>62.09</td>\n",
       "      <td>57.0</td>\n",
       "      <td>9.0</td>\n",
       "      <td>14.0</td>\n",
       "      <td>4.0</td>\n",
       "      <td>Javed Miandad</td>\n",
       "      <td>Win</td>\n",
       "      <td>0</td>\n",
       "      <td>1</td>\n",
       "      <td>0</td>\n",
       "    </tr>\n",
       "    <tr>\n",
       "      <th>7</th>\n",
       "      <td>Pakistan</td>\n",
       "      <td>Sri Lanka</td>\n",
       "      <td>ODI</td>\n",
       "      <td>Colombo(SSC)</td>\n",
       "      <td>1986</td>\n",
       "      <td>Lose</td>\n",
       "      <td>Batting</td>\n",
       "      <td>191.0</td>\n",
       "      <td>9.0</td>\n",
       "      <td>11.0</td>\n",
       "      <td>...</td>\n",
       "      <td>70.13</td>\n",
       "      <td>67.0</td>\n",
       "      <td>5.0</td>\n",
       "      <td>9.0</td>\n",
       "      <td>3.0</td>\n",
       "      <td>Javed Miandad</td>\n",
       "      <td>Lose</td>\n",
       "      <td>0</td>\n",
       "      <td>0</td>\n",
       "      <td>1</td>\n",
       "    </tr>\n",
       "    <tr>\n",
       "      <th>8</th>\n",
       "      <td>Sri Lanka</td>\n",
       "      <td>Pakistan</td>\n",
       "      <td>ODI</td>\n",
       "      <td>Colombo(RPS)</td>\n",
       "      <td>1997</td>\n",
       "      <td>Lose</td>\n",
       "      <td>Batting</td>\n",
       "      <td>239.0</td>\n",
       "      <td>10.0</td>\n",
       "      <td>9.0</td>\n",
       "      <td>...</td>\n",
       "      <td>63.56</td>\n",
       "      <td>80.0</td>\n",
       "      <td>9.0</td>\n",
       "      <td>15.0</td>\n",
       "      <td>4.0</td>\n",
       "      <td>Marvan Atapattu</td>\n",
       "      <td>Win</td>\n",
       "      <td>1</td>\n",
       "      <td>0</td>\n",
       "      <td>1</td>\n",
       "    </tr>\n",
       "    <tr>\n",
       "      <th>9</th>\n",
       "      <td>Pakistan</td>\n",
       "      <td>Sri Lanka</td>\n",
       "      <td>ODI</td>\n",
       "      <td>Colombo(RPS)</td>\n",
       "      <td>1997</td>\n",
       "      <td>Win</td>\n",
       "      <td>Bowling</td>\n",
       "      <td>224.0</td>\n",
       "      <td>9.0</td>\n",
       "      <td>11.0</td>\n",
       "      <td>...</td>\n",
       "      <td>68.02</td>\n",
       "      <td>57.0</td>\n",
       "      <td>10.0</td>\n",
       "      <td>12.0</td>\n",
       "      <td>2.0</td>\n",
       "      <td>Marvan Atapattu</td>\n",
       "      <td>Lose</td>\n",
       "      <td>0</td>\n",
       "      <td>0</td>\n",
       "      <td>0</td>\n",
       "    </tr>\n",
       "  </tbody>\n",
       "</table>\n",
       "<p>10 rows × 23 columns</p>\n",
       "</div>"
      ],
      "text/plain": [
       "         Team    Opponent Format        Ground  Year  Toss Selection  \\\n",
       "0   Sri Lanka    Pakistan    ODI  Colombo(PSS)  1986   Win   Bowling   \n",
       "1    Pakistan   Sri Lanka    ODI  Colombo(PSS)  1986  Lose   Batting   \n",
       "2  Bangladesh    Pakistan    ODI      Moratuwa  1986  Lose   Batting   \n",
       "3    Pakistan  Bangladesh    ODI      Moratuwa  1986   Win   Bowling   \n",
       "4   Sri Lanka  Bangladesh    ODI         Kandy  1986   win   Bowling   \n",
       "5  Bangladesh   Sri Lanka    ODI         Kandy  1986  Lose   Batting   \n",
       "6   Sri Lanka    Pakistan    ODI  Colombo(SSC)  1986   Win   Bowling   \n",
       "7    Pakistan   Sri Lanka    ODI  Colombo(SSC)  1986  Lose   Batting   \n",
       "8   Sri Lanka    Pakistan    ODI  Colombo(RPS)  1997  Lose   Batting   \n",
       "9    Pakistan   Sri Lanka    ODI  Colombo(RPS)  1997   Win   Bowling   \n",
       "\n",
       "   Run Scored  Wicket Lost  Fours  ...  Avg Bat Strike Rate  Highest Score  \\\n",
       "0       116.0         10.0   10.0  ...                37.87           34.0   \n",
       "1       197.0         10.0   14.0  ...                65.14           39.0   \n",
       "2        94.0         10.0    0.0  ...                24.63           37.0   \n",
       "3        98.0          3.0    4.0  ...                36.79           47.0   \n",
       "4       132.0          3.0    0.0  ...                46.07           44.0   \n",
       "5       131.0          8.0    0.0  ...                47.03           40.0   \n",
       "6       195.0          5.0   15.0  ...                62.09           57.0   \n",
       "7       191.0          9.0   11.0  ...                70.13           67.0   \n",
       "8       239.0         10.0    9.0  ...                63.56           80.0   \n",
       "9       224.0          9.0   11.0  ...                68.02           57.0   \n",
       "\n",
       "   Wicket Taken  Given Extras  Highest Individual wicket  Player Of The Match  \\\n",
       "0          10.0          15.0                        3.0          Mohsin Khan   \n",
       "1          10.0          14.0                        3.0          Mohsin Khan   \n",
       "2           3.0           5.0                        2.0          Wasim Akram   \n",
       "3          10.0           9.0                        4.0          Wasim Akram   \n",
       "4           8.0          10.0                        2.0     Asanka Gurusinha   \n",
       "5           3.0          19.0                        1.0     Asanka Gurusinha   \n",
       "6           9.0          14.0                        4.0        Javed Miandad   \n",
       "7           5.0           9.0                        3.0        Javed Miandad   \n",
       "8           9.0          15.0                        4.0      Marvan Atapattu   \n",
       "9          10.0          12.0                        2.0      Marvan Atapattu   \n",
       "\n",
       "   Result  won_while_defending won_while_chasing first_innings  \n",
       "0    Lose                    0                 0             0  \n",
       "1     Win                    1                 0             1  \n",
       "2    Lose                    0                 0             1  \n",
       "3     Win                    0                 1             0  \n",
       "4     win                    0                 0             1  \n",
       "5    Lose                    0                 0             1  \n",
       "6     Win                    0                 1             0  \n",
       "7    Lose                    0                 0             1  \n",
       "8     Win                    1                 0             1  \n",
       "9    Lose                    0                 0             0  \n",
       "\n",
       "[10 rows x 23 columns]"
      ]
     },
     "execution_count": 156,
     "metadata": {},
     "output_type": "execute_result"
    }
   ],
   "source": [
    "asia_cup_ODI_SL.head(10)"
   ]
  },
  {
   "cell_type": "code",
   "execution_count": 134,
   "id": "e172afa2",
   "metadata": {},
   "outputs": [
    {
     "data": {
      "text/plain": [
       "(60, 23)"
      ]
     },
     "execution_count": 134,
     "metadata": {},
     "output_type": "execute_result"
    }
   ],
   "source": [
    "asia_cup_ODI_SL.shape"
   ]
  },
  {
   "cell_type": "markdown",
   "id": "6d0ed779",
   "metadata": {},
   "source": [
    "We see that the dataframe contains information about 60 innings.Thus , total matches that have been played in SL and produced a result is 30."
   ]
  },
  {
   "cell_type": "code",
   "execution_count": 137,
   "id": "f711e62b",
   "metadata": {},
   "outputs": [
    {
     "name": "stdout",
     "output_type": "stream",
     "text": [
      "win percentge while batting first : 56.666666666666664\n"
     ]
    }
   ],
   "source": [
    "\n",
    "win_first_innings_count = len(asia_cup_ODI_SL[(asia_cup_ODI_SL['Result'] == 'Win') & (asia_cup_ODI_SL['first_innings'] == 1)])\n",
    "\n",
    "win_percentage_batting_first = (win_first_innings_count / 30) * 100\n",
    "print(\"win percentge while batting first :\",win_percentage_batting_first)\n"
   ]
  },
  {
   "cell_type": "code",
   "execution_count": 140,
   "id": "44d75ea2",
   "metadata": {},
   "outputs": [
    {
     "name": "stdout",
     "output_type": "stream",
     "text": [
      "win percentge while batting second : 40.0\n"
     ]
    }
   ],
   "source": [
    "\n",
    "win_second_innings_count = len(asia_cup_ODI_SL[(asia_cup_ODI_SL['Result'] == 'Win') & (asia_cup_ODI_SL['first_innings'] == 0)])\n",
    "\n",
    "win_percentage_batting_second = (win_second_innings_count / 30) * 100\n",
    "print(\"win percentge while batting second :\",win_percentage_batting_second)"
   ]
  },
  {
   "cell_type": "code",
   "execution_count": 143,
   "id": "9528e9a4",
   "metadata": {},
   "outputs": [
    {
     "data": {
      "text/plain": [
       "<BarContainer object of 2 artists>"
      ]
     },
     "execution_count": 143,
     "metadata": {},
     "output_type": "execute_result"
    },
    {
     "data": {
      "image/png": "[encoded data removed]",
      "text/plain": [
       "<Figure size 432x288 with 1 Axes>"
      ]
     },
     "metadata": {
      "needs_background": "light"
     },
     "output_type": "display_data"
    }
   ],
   "source": [
    "categories=('win % while defending','win % while chasing')\n",
    "values=(win_percentage_batting_first,win_percentage_batting_second)\n",
    "plt.bar(categories,values)"
   ]
  },
  {
   "cell_type": "markdown",
   "id": "e12264b5",
   "metadata": {},
   "source": [
    "Thus, we see that it is easier to defend than chase a total."
   ]
  },
  {
   "cell_type": "code",
   "execution_count": 158,
   "id": "939ad640",
   "metadata": {},
   "outputs": [
    {
     "name": "stdout",
     "output_type": "stream",
     "text": [
      "   avg_1st_innnings_total\n",
      "0              229.064516\n"
     ]
    }
   ],
   "source": [
    "q4=\"select AVG([Run Scored]) as avg_1st_innnings_total from asia_cup_ODI_SL where first_innings=1\"\n",
    "print(pysqldf(q4))\n"
   ]
  },
  {
   "cell_type": "code",
   "execution_count": 159,
   "id": "e9e45369",
   "metadata": {},
   "outputs": [
    {
     "name": "stdout",
     "output_type": "stream",
     "text": [
      "   avg_1st_innnings_total_in_wins\n",
      "0                      274.058824\n"
     ]
    }
   ],
   "source": [
    "q5=\"select AVG([Run Scored]) as avg_1st_innnings_total_in_wins from asia_cup_ODI_SL where first_innings=1 and Result='Win'\"\n",
    "print(pysqldf(q5))\n"
   ]
  },
  {
   "cell_type": "code",
   "execution_count": 161,
   "id": "9cd0382f",
   "metadata": {},
   "outputs": [
    {
     "data": {
      "text/plain": [
       "<BarContainer object of 2 artists>"
      ]
     },
     "execution_count": 161,
     "metadata": {},
     "output_type": "execute_result"
    },
    {
     "data": {
      "image/png": "[encoded data removed]",
      "text/plain": [
       "<Figure size 432x288 with 1 Axes>"
      ]
     },
     "metadata": {
      "needs_background": "light"
     },
     "output_type": "display_data"
    }
   ],
   "source": [
    "categories=('avg_1st_innings_total','avg_1st_innings_total_in_wins')\n",
    "values=(229.06,274.06)\n",
    "plt.bar(categories,values)"
   ]
  },
  {
   "cell_type": "code",
   "execution_count": 163,
   "id": "d152facf",
   "metadata": {},
   "outputs": [
    {
     "name": "stdout",
     "output_type": "stream",
     "text": [
      "0\n"
     ]
    }
   ],
   "source": [
    "win_while_chasing_more_than_274 = len(asia_cup_ODI_SL[(asia_cup_ODI_SL['Result'] == 'Win') &\n",
    "                                                      (asia_cup_ODI_SL['first_innings'] == 0) &\n",
    "                                                      (asia_cup_ODI_SL['Run Scored'] > 274)])\n",
    "print(win_while_chasing_more_than_274)"
   ]
  },
  {
   "cell_type": "code",
   "execution_count": 173,
   "id": "bbaf5377",
   "metadata": {},
   "outputs": [
    {
     "name": "stdout",
     "output_type": "stream",
     "text": [
      "chased totals :- 2      94.0\n",
      "5     131.0\n",
      "7     191.0\n",
      "13    227.0\n",
      "18    130.0\n",
      "21    239.0\n",
      "34    177.0\n",
      "37    122.0\n",
      "39    190.0\n",
      "44    166.0\n",
      "50    167.0\n",
      "55    267.0\n",
      "59    209.0\n",
      "Name: Run Scored, dtype: float64\n",
      "highest total that has been chased successfully till date :- 267.0\n"
     ]
    }
   ],
   "source": [
    "filtered_df = asia_cup_ODI_SL[(asia_cup_ODI_SL['Result'] == 'Lose') & (asia_cup_ODI_SL['first_innings']==1)]\n",
    "unsafe_totals = filtered_df['Run Scored']\n",
    "print(\"chased totals :-\",unsafe_totals)\n",
    "max_chased_total=unsafe_totals.max()\n",
    "print(\"highest total that has been chased successfully till date :-\",max_chased_total)"
   ]
  },
  {
   "cell_type": "markdown",
   "id": "f1fa42ca",
   "metadata": {},
   "source": [
    "As all the matches in the upcoming edition will be played at only 2 venues in SL i.e. Kandy and Colombo. So, now we will be looking at these two venues"
   ]
  },
  {
   "cell_type": "code",
   "execution_count": 178,
   "id": "4b85290c",
   "metadata": {},
   "outputs": [
    {
     "name": "stdout",
     "output_type": "stream",
     "text": [
      "['Colombo(PSS)' 'Moratuwa' 'Kandy' 'Colombo(SSC)' 'Colombo(RPS)'\n",
      " 'Dambulla']\n"
     ]
    }
   ],
   "source": [
    "print(asia_cup_ODI_SL['Ground'].unique())"
   ]
  },
  {
   "cell_type": "code",
   "execution_count": 183,
   "id": "e560e838",
   "metadata": {},
   "outputs": [],
   "source": [
    "venues=['Colombo(PSS)','Kandy','Colombo(SSC)','Colombo(RPS)']\n",
    "filtered_AC_ODI_SL=asia_cup_ODI_SL[asia_cup_ODI_SL['Ground'].isin(venues)]\n",
    "                                   "
   ]
  },
  {
   "cell_type": "code",
   "execution_count": 198,
   "id": "35fc0d48",
   "metadata": {},
   "outputs": [
    {
     "data": {
      "text/html": [
       "<div>\n",
       "<style scoped>\n",
       "    .dataframe tbody tr th:only-of-type {\n",
       "        vertical-align: middle;\n",
       "    }\n",
       "\n",
       "    .dataframe tbody tr th {\n",
       "        vertical-align: top;\n",
       "    }\n",
       "\n",
       "    .dataframe thead th {\n",
       "        text-align: right;\n",
       "    }\n",
       "</style>\n",
       "<table border=\"1\" class=\"dataframe\">\n",
       "  <thead>\n",
       "    <tr style=\"text-align: right;\">\n",
       "      <th></th>\n",
       "      <th>Team</th>\n",
       "      <th>Opponent</th>\n",
       "      <th>Format</th>\n",
       "      <th>Ground</th>\n",
       "      <th>Year</th>\n",
       "      <th>Toss</th>\n",
       "      <th>Selection</th>\n",
       "      <th>Run Scored</th>\n",
       "      <th>Wicket Lost</th>\n",
       "      <th>Fours</th>\n",
       "      <th>...</th>\n",
       "      <th>Avg Bat Strike Rate</th>\n",
       "      <th>Highest Score</th>\n",
       "      <th>Wicket Taken</th>\n",
       "      <th>Given Extras</th>\n",
       "      <th>Highest Individual wicket</th>\n",
       "      <th>Player Of The Match</th>\n",
       "      <th>Result</th>\n",
       "      <th>won_while_defending</th>\n",
       "      <th>won_while_chasing</th>\n",
       "      <th>first_innings</th>\n",
       "    </tr>\n",
       "  </thead>\n",
       "  <tbody>\n",
       "    <tr>\n",
       "      <th>0</th>\n",
       "      <td>Sri Lanka</td>\n",
       "      <td>Pakistan</td>\n",
       "      <td>ODI</td>\n",
       "      <td>Colombo(PSS)</td>\n",
       "      <td>1986</td>\n",
       "      <td>Win</td>\n",
       "      <td>Bowling</td>\n",
       "      <td>116.0</td>\n",
       "      <td>10.0</td>\n",
       "      <td>10.0</td>\n",
       "      <td>...</td>\n",
       "      <td>37.87</td>\n",
       "      <td>34.0</td>\n",
       "      <td>10.0</td>\n",
       "      <td>15.0</td>\n",
       "      <td>3.0</td>\n",
       "      <td>Mohsin Khan</td>\n",
       "      <td>Lose</td>\n",
       "      <td>0</td>\n",
       "      <td>0</td>\n",
       "      <td>0</td>\n",
       "    </tr>\n",
       "    <tr>\n",
       "      <th>1</th>\n",
       "      <td>Pakistan</td>\n",
       "      <td>Sri Lanka</td>\n",
       "      <td>ODI</td>\n",
       "      <td>Colombo(PSS)</td>\n",
       "      <td>1986</td>\n",
       "      <td>Lose</td>\n",
       "      <td>Batting</td>\n",
       "      <td>197.0</td>\n",
       "      <td>10.0</td>\n",
       "      <td>14.0</td>\n",
       "      <td>...</td>\n",
       "      <td>65.14</td>\n",
       "      <td>39.0</td>\n",
       "      <td>10.0</td>\n",
       "      <td>14.0</td>\n",
       "      <td>3.0</td>\n",
       "      <td>Mohsin Khan</td>\n",
       "      <td>Win</td>\n",
       "      <td>1</td>\n",
       "      <td>0</td>\n",
       "      <td>1</td>\n",
       "    </tr>\n",
       "    <tr>\n",
       "      <th>4</th>\n",
       "      <td>Sri Lanka</td>\n",
       "      <td>Bangladesh</td>\n",
       "      <td>ODI</td>\n",
       "      <td>Kandy</td>\n",
       "      <td>1986</td>\n",
       "      <td>win</td>\n",
       "      <td>Bowling</td>\n",
       "      <td>132.0</td>\n",
       "      <td>3.0</td>\n",
       "      <td>0.0</td>\n",
       "      <td>...</td>\n",
       "      <td>46.07</td>\n",
       "      <td>44.0</td>\n",
       "      <td>8.0</td>\n",
       "      <td>10.0</td>\n",
       "      <td>2.0</td>\n",
       "      <td>Asanka Gurusinha</td>\n",
       "      <td>win</td>\n",
       "      <td>0</td>\n",
       "      <td>0</td>\n",
       "      <td>1</td>\n",
       "    </tr>\n",
       "    <tr>\n",
       "      <th>5</th>\n",
       "      <td>Bangladesh</td>\n",
       "      <td>Sri Lanka</td>\n",
       "      <td>ODI</td>\n",
       "      <td>Kandy</td>\n",
       "      <td>1986</td>\n",
       "      <td>Lose</td>\n",
       "      <td>Batting</td>\n",
       "      <td>131.0</td>\n",
       "      <td>8.0</td>\n",
       "      <td>0.0</td>\n",
       "      <td>...</td>\n",
       "      <td>47.03</td>\n",
       "      <td>40.0</td>\n",
       "      <td>3.0</td>\n",
       "      <td>19.0</td>\n",
       "      <td>1.0</td>\n",
       "      <td>Asanka Gurusinha</td>\n",
       "      <td>Lose</td>\n",
       "      <td>0</td>\n",
       "      <td>0</td>\n",
       "      <td>1</td>\n",
       "    </tr>\n",
       "    <tr>\n",
       "      <th>6</th>\n",
       "      <td>Sri Lanka</td>\n",
       "      <td>Pakistan</td>\n",
       "      <td>ODI</td>\n",
       "      <td>Colombo(SSC)</td>\n",
       "      <td>1986</td>\n",
       "      <td>Win</td>\n",
       "      <td>Bowling</td>\n",
       "      <td>195.0</td>\n",
       "      <td>5.0</td>\n",
       "      <td>15.0</td>\n",
       "      <td>...</td>\n",
       "      <td>62.09</td>\n",
       "      <td>57.0</td>\n",
       "      <td>9.0</td>\n",
       "      <td>14.0</td>\n",
       "      <td>4.0</td>\n",
       "      <td>Javed Miandad</td>\n",
       "      <td>Win</td>\n",
       "      <td>0</td>\n",
       "      <td>1</td>\n",
       "      <td>0</td>\n",
       "    </tr>\n",
       "  </tbody>\n",
       "</table>\n",
       "<p>5 rows × 23 columns</p>\n",
       "</div>"
      ],
      "text/plain": [
       "         Team    Opponent Format        Ground  Year  Toss Selection  \\\n",
       "0   Sri Lanka    Pakistan    ODI  Colombo(PSS)  1986   Win   Bowling   \n",
       "1    Pakistan   Sri Lanka    ODI  Colombo(PSS)  1986  Lose   Batting   \n",
       "4   Sri Lanka  Bangladesh    ODI         Kandy  1986   win   Bowling   \n",
       "5  Bangladesh   Sri Lanka    ODI         Kandy  1986  Lose   Batting   \n",
       "6   Sri Lanka    Pakistan    ODI  Colombo(SSC)  1986   Win   Bowling   \n",
       "\n",
       "   Run Scored  Wicket Lost  Fours  ...  Avg Bat Strike Rate  Highest Score  \\\n",
       "0       116.0         10.0   10.0  ...                37.87           34.0   \n",
       "1       197.0         10.0   14.0  ...                65.14           39.0   \n",
       "4       132.0          3.0    0.0  ...                46.07           44.0   \n",
       "5       131.0          8.0    0.0  ...                47.03           40.0   \n",
       "6       195.0          5.0   15.0  ...                62.09           57.0   \n",
       "\n",
       "   Wicket Taken  Given Extras  Highest Individual wicket  Player Of The Match  \\\n",
       "0          10.0          15.0                        3.0          Mohsin Khan   \n",
       "1          10.0          14.0                        3.0          Mohsin Khan   \n",
       "4           8.0          10.0                        2.0     Asanka Gurusinha   \n",
       "5           3.0          19.0                        1.0     Asanka Gurusinha   \n",
       "6           9.0          14.0                        4.0        Javed Miandad   \n",
       "\n",
       "   Result  won_while_defending won_while_chasing first_innings  \n",
       "0    Lose                    0                 0             0  \n",
       "1     Win                    1                 0             1  \n",
       "4     win                    0                 0             1  \n",
       "5    Lose                    0                 0             1  \n",
       "6     Win                    0                 1             0  \n",
       "\n",
       "[5 rows x 23 columns]"
      ]
     },
     "execution_count": 198,
     "metadata": {},
     "output_type": "execute_result"
    }
   ],
   "source": [
    "filtered_AC_ODI_SL.head()"
   ]
  },
  {
   "cell_type": "code",
   "execution_count": 189,
   "id": "1990b5a3",
   "metadata": {},
   "outputs": [
    {
     "data": {
      "text/plain": [
       "(38, 23)"
      ]
     },
     "execution_count": 189,
     "metadata": {},
     "output_type": "execute_result"
    }
   ],
   "source": [
    "filtered_AC_ODI_SL.shape"
   ]
  },
  {
   "cell_type": "code",
   "execution_count": 192,
   "id": "a53e7b43",
   "metadata": {},
   "outputs": [
    {
     "name": "stdout",
     "output_type": "stream",
     "text": [
      "win percentge while batting first in Colombo: 55.55555555555556\n"
     ]
    }
   ],
   "source": [
    "Colombo=['Colombo(PSS)','Colombo(RPS)','Colombo(SSC)']\n",
    "win_first_innings_count_Colombo = len(filtered_AC_ODI_SL[(filtered_AC_ODI_SL['Result'] == 'Win') & (filtered_AC_ODI_SL['first_innings'] == 1) & (filtered_AC_ODI_SL['Ground'].isin(Colombo))])\n",
    "in_Colombo=len(filtered_AC_ODI_SL[filtered_AC_ODI_SL['Ground'].isin(Colombo)])/2\n",
    "win_percentage_batting_first_in_Colombo = (win_first_innings_count_Colombo / in_Colombo) * 100\n",
    "print(\"win percentge while batting first in Colombo:\",win_percentage_batting_first_in_Colombo)"
   ]
  },
  {
   "cell_type": "code",
   "execution_count": 193,
   "id": "b03c4ed4",
   "metadata": {},
   "outputs": [
    {
     "name": "stdout",
     "output_type": "stream",
     "text": [
      "win percentge while batting second in Colombo: 44.44444444444444\n"
     ]
    }
   ],
   "source": [
    "win_second_innings_count_Colombo = len(filtered_AC_ODI_SL[(filtered_AC_ODI_SL['Result'] == 'Win') & (filtered_AC_ODI_SL['first_innings'] == 0) & (filtered_AC_ODI_SL['Ground'].isin(Colombo))])\n",
    "win_percentage_batting_second_in_Colombo = (win_second_innings_count_Colombo / in_Colombo) * 100\n",
    "print(\"win percentge while batting second in Colombo:\",win_percentage_batting_second_in_Colombo)"
   ]
  },
  {
   "cell_type": "markdown",
   "id": "41d1c11d",
   "metadata": {},
   "source": [
    "There has been only one match played in Kandy and was won by the team batting second. Thus, \n",
    "win percentage while batting first in Kandy : 0.00\n",
    "win percentage while batting second in Kandy : 100.00\n"
   ]
  },
  {
   "cell_type": "code",
   "execution_count": 201,
   "id": "1f73c474",
   "metadata": {},
   "outputs": [
    {
     "name": "stdout",
     "output_type": "stream",
     "text": [
      "   avg_1st_innnings_total_in_wins_in_Colombo\n",
      "0                                      267.1\n"
     ]
    }
   ],
   "source": [
    "q5=\"select AVG([Run Scored]) as avg_1st_innnings_total_in_wins_in_Colombo from filtered_AC_ODI_SL where first_innings=1 and Result='Win'\"\n",
    "print(pysqldf(q5))\n"
   ]
  },
  {
   "cell_type": "code",
   "execution_count": 202,
   "id": "06fa0311",
   "metadata": {},
   "outputs": [
    {
     "name": "stdout",
     "output_type": "stream",
     "text": [
      "chased totals :- 5     131.0\n",
      "7     191.0\n",
      "13    227.0\n",
      "18    130.0\n",
      "21    239.0\n",
      "34    177.0\n",
      "37    122.0\n",
      "39    190.0\n",
      "44    166.0\n",
      "Name: Run Scored, dtype: float64\n",
      "highest total that has been chased successfully till date :- 239.0\n"
     ]
    },
    {
     "name": "stderr",
     "output_type": "stream",
     "text": [
      "C:\\Users\\91893\\AppData\\Local\\Temp\\ipykernel_1120\\2587943472.py:1: UserWarning: Boolean Series key will be reindexed to match DataFrame index.\n",
      "  filtered_df1 = filtered_AC_ODI_SL[(filtered_AC_ODI_SL['Result'] == 'Lose') & (asia_cup_ODI_SL['first_innings']==1)]\n"
     ]
    }
   ],
   "source": [
    "filtered_df1 = filtered_AC_ODI_SL[(filtered_AC_ODI_SL['Result'] == 'Lose') & (asia_cup_ODI_SL['first_innings']==1)]\n",
    "chased_totals = filtered_df1['Run Scored']\n",
    "print(\"chased totals :-\",chased_totals)\n",
    "max_chased_total1=chased_totals.max()\n",
    "print(\"highest total that has been chased successfully till date :-\",max_chased_total1)"
   ]
  },
  {
   "cell_type": "code",
   "execution_count": 215,
   "id": "7fe4b444",
   "metadata": {},
   "outputs": [
    {
     "name": "stderr",
     "output_type": "stream",
     "text": [
      "C:\\Users\\91893\\AppData\\Local\\Temp\\ipykernel_1120\\1077823317.py:1: SettingWithCopyWarning: \n",
      "A value is trying to be set on a copy of a slice from a DataFrame.\n",
      "Try using .loc[row_indexer,col_indexer] = value instead\n",
      "\n",
      "See the caveats in the documentation: https://pandas.pydata.org/pandas-docs/stable/user_guide/indexing.html#returning-a-view-versus-a-copy\n",
      "  asia_cup_odi['won_while_defending'] = np.where((asia_cup_odi['Selection'] == 'Batting') & (asia_cup_odi['Result'] == 'Win'), 1, 0)\n",
      "C:\\Users\\91893\\AppData\\Local\\Temp\\ipykernel_1120\\1077823317.py:2: SettingWithCopyWarning: \n",
      "A value is trying to be set on a copy of a slice from a DataFrame.\n",
      "Try using .loc[row_indexer,col_indexer] = value instead\n",
      "\n",
      "See the caveats in the documentation: https://pandas.pydata.org/pandas-docs/stable/user_guide/indexing.html#returning-a-view-versus-a-copy\n",
      "  asia_cup_odi['won_while_chasing'] = np.where((asia_cup_odi['Selection'] == 'Bowling') & (asia_cup_odi['Result'] == 'Win'), 1, 0)\n"
     ]
    }
   ],
   "source": [
    "\n",
    "asia_cup_odi['won_while_defending'] = np.where((asia_cup_odi['Selection'] == 'Batting') & (asia_cup_odi['Result'] == 'Win'), 1, 0)\n",
    "asia_cup_odi['won_while_chasing'] = np.where((asia_cup_odi['Selection'] == 'Bowling') & (asia_cup_odi['Result'] == 'Win'), 1, 0)"
   ]
  },
  {
   "cell_type": "code",
   "execution_count": 218,
   "id": "4de95add",
   "metadata": {},
   "outputs": [
    {
     "name": "stderr",
     "output_type": "stream",
     "text": [
      "C:\\Users\\91893\\AppData\\Local\\Temp\\ipykernel_1120\\3368379800.py:1: SettingWithCopyWarning: \n",
      "A value is trying to be set on a copy of a slice from a DataFrame.\n",
      "Try using .loc[row_indexer,col_indexer] = value instead\n",
      "\n",
      "See the caveats in the documentation: https://pandas.pydata.org/pandas-docs/stable/user_guide/indexing.html#returning-a-view-versus-a-copy\n",
      "  asia_cup_odi['first_innings'] = np.where(\n"
     ]
    }
   ],
   "source": [
    "asia_cup_odi['first_innings'] = np.where(\n",
    "    ((asia_cup_odi['Toss'] == 'Win') & (asia_cup_odi['Selection'] == 'Bowling')) |\n",
    "    ((asia_cup_odi['Toss'] == 'Lose') & (asia_cup_odi['Selection'] == 'Bowling')),\n",
    "    0,\n",
    "    1\n",
    ")"
   ]
  },
  {
   "cell_type": "markdown",
   "id": "4afc19ee",
   "metadata": {},
   "source": [
    "# Pakistan --->"
   ]
  },
  {
   "cell_type": "markdown",
   "id": "75811aaf",
   "metadata": {},
   "source": [
    "##        Pakistan in SL"
   ]
  },
  {
   "cell_type": "code",
   "execution_count": 208,
   "id": "33f8e005",
   "metadata": {},
   "outputs": [],
   "source": [
    "pakistan_in_SL=asia_cup_ODI_SL[asia_cup_ODI_SL['Team']=='Pakistan']"
   ]
  },
  {
   "cell_type": "code",
   "execution_count": 209,
   "id": "5c3b468f",
   "metadata": {},
   "outputs": [
    {
     "data": {
      "text/html": [
       "<div>\n",
       "<style scoped>\n",
       "    .dataframe tbody tr th:only-of-type {\n",
       "        vertical-align: middle;\n",
       "    }\n",
       "\n",
       "    .dataframe tbody tr th {\n",
       "        vertical-align: top;\n",
       "    }\n",
       "\n",
       "    .dataframe thead th {\n",
       "        text-align: right;\n",
       "    }\n",
       "</style>\n",
       "<table border=\"1\" class=\"dataframe\">\n",
       "  <thead>\n",
       "    <tr style=\"text-align: right;\">\n",
       "      <th></th>\n",
       "      <th>Team</th>\n",
       "      <th>Opponent</th>\n",
       "      <th>Format</th>\n",
       "      <th>Ground</th>\n",
       "      <th>Year</th>\n",
       "      <th>Toss</th>\n",
       "      <th>Selection</th>\n",
       "      <th>Run Scored</th>\n",
       "      <th>Wicket Lost</th>\n",
       "      <th>Fours</th>\n",
       "      <th>...</th>\n",
       "      <th>Avg Bat Strike Rate</th>\n",
       "      <th>Highest Score</th>\n",
       "      <th>Wicket Taken</th>\n",
       "      <th>Given Extras</th>\n",
       "      <th>Highest Individual wicket</th>\n",
       "      <th>Player Of The Match</th>\n",
       "      <th>Result</th>\n",
       "      <th>won_while_defending</th>\n",
       "      <th>won_while_chasing</th>\n",
       "      <th>first_innings</th>\n",
       "    </tr>\n",
       "  </thead>\n",
       "  <tbody>\n",
       "    <tr>\n",
       "      <th>1</th>\n",
       "      <td>Pakistan</td>\n",
       "      <td>Sri Lanka</td>\n",
       "      <td>ODI</td>\n",
       "      <td>Colombo(PSS)</td>\n",
       "      <td>1986</td>\n",
       "      <td>Lose</td>\n",
       "      <td>Batting</td>\n",
       "      <td>197.0</td>\n",
       "      <td>10.0</td>\n",
       "      <td>14.0</td>\n",
       "      <td>...</td>\n",
       "      <td>65.14</td>\n",
       "      <td>39.0</td>\n",
       "      <td>10.0</td>\n",
       "      <td>14.0</td>\n",
       "      <td>3.0</td>\n",
       "      <td>Mohsin Khan</td>\n",
       "      <td>Win</td>\n",
       "      <td>1</td>\n",
       "      <td>0</td>\n",
       "      <td>1</td>\n",
       "    </tr>\n",
       "    <tr>\n",
       "      <th>3</th>\n",
       "      <td>Pakistan</td>\n",
       "      <td>Bangladesh</td>\n",
       "      <td>ODI</td>\n",
       "      <td>Moratuwa</td>\n",
       "      <td>1986</td>\n",
       "      <td>Win</td>\n",
       "      <td>Bowling</td>\n",
       "      <td>98.0</td>\n",
       "      <td>3.0</td>\n",
       "      <td>4.0</td>\n",
       "      <td>...</td>\n",
       "      <td>36.79</td>\n",
       "      <td>47.0</td>\n",
       "      <td>10.0</td>\n",
       "      <td>9.0</td>\n",
       "      <td>4.0</td>\n",
       "      <td>Wasim Akram</td>\n",
       "      <td>Win</td>\n",
       "      <td>0</td>\n",
       "      <td>1</td>\n",
       "      <td>0</td>\n",
       "    </tr>\n",
       "    <tr>\n",
       "      <th>7</th>\n",
       "      <td>Pakistan</td>\n",
       "      <td>Sri Lanka</td>\n",
       "      <td>ODI</td>\n",
       "      <td>Colombo(SSC)</td>\n",
       "      <td>1986</td>\n",
       "      <td>Lose</td>\n",
       "      <td>Batting</td>\n",
       "      <td>191.0</td>\n",
       "      <td>9.0</td>\n",
       "      <td>11.0</td>\n",
       "      <td>...</td>\n",
       "      <td>70.13</td>\n",
       "      <td>67.0</td>\n",
       "      <td>5.0</td>\n",
       "      <td>9.0</td>\n",
       "      <td>3.0</td>\n",
       "      <td>Javed Miandad</td>\n",
       "      <td>Lose</td>\n",
       "      <td>0</td>\n",
       "      <td>0</td>\n",
       "      <td>1</td>\n",
       "    </tr>\n",
       "    <tr>\n",
       "      <th>9</th>\n",
       "      <td>Pakistan</td>\n",
       "      <td>Sri Lanka</td>\n",
       "      <td>ODI</td>\n",
       "      <td>Colombo(RPS)</td>\n",
       "      <td>1997</td>\n",
       "      <td>Win</td>\n",
       "      <td>Bowling</td>\n",
       "      <td>224.0</td>\n",
       "      <td>9.0</td>\n",
       "      <td>11.0</td>\n",
       "      <td>...</td>\n",
       "      <td>68.02</td>\n",
       "      <td>57.0</td>\n",
       "      <td>10.0</td>\n",
       "      <td>12.0</td>\n",
       "      <td>2.0</td>\n",
       "      <td>Marvan Atapattu</td>\n",
       "      <td>Lose</td>\n",
       "      <td>0</td>\n",
       "      <td>0</td>\n",
       "      <td>0</td>\n",
       "    </tr>\n",
       "    <tr>\n",
       "      <th>11</th>\n",
       "      <td>Pakistan</td>\n",
       "      <td>Bangladesh</td>\n",
       "      <td>ODI</td>\n",
       "      <td>Colombo(RPS)</td>\n",
       "      <td>1997</td>\n",
       "      <td>Win</td>\n",
       "      <td>Batting</td>\n",
       "      <td>319.0</td>\n",
       "      <td>5.0</td>\n",
       "      <td>28.0</td>\n",
       "      <td>...</td>\n",
       "      <td>129.10</td>\n",
       "      <td>90.0</td>\n",
       "      <td>10.0</td>\n",
       "      <td>18.0</td>\n",
       "      <td>5.0</td>\n",
       "      <td>Saeed Anwar</td>\n",
       "      <td>Win</td>\n",
       "      <td>1</td>\n",
       "      <td>0</td>\n",
       "      <td>1</td>\n",
       "    </tr>\n",
       "  </tbody>\n",
       "</table>\n",
       "<p>5 rows × 23 columns</p>\n",
       "</div>"
      ],
      "text/plain": [
       "        Team    Opponent Format        Ground  Year  Toss Selection  \\\n",
       "1   Pakistan   Sri Lanka    ODI  Colombo(PSS)  1986  Lose   Batting   \n",
       "3   Pakistan  Bangladesh    ODI      Moratuwa  1986   Win   Bowling   \n",
       "7   Pakistan   Sri Lanka    ODI  Colombo(SSC)  1986  Lose   Batting   \n",
       "9   Pakistan   Sri Lanka    ODI  Colombo(RPS)  1997   Win   Bowling   \n",
       "11  Pakistan  Bangladesh    ODI  Colombo(RPS)  1997   Win   Batting   \n",
       "\n",
       "    Run Scored  Wicket Lost  Fours  ...  Avg Bat Strike Rate  Highest Score  \\\n",
       "1        197.0         10.0   14.0  ...                65.14           39.0   \n",
       "3         98.0          3.0    4.0  ...                36.79           47.0   \n",
       "7        191.0          9.0   11.0  ...                70.13           67.0   \n",
       "9        224.0          9.0   11.0  ...                68.02           57.0   \n",
       "11       319.0          5.0   28.0  ...               129.10           90.0   \n",
       "\n",
       "    Wicket Taken  Given Extras  Highest Individual wicket  \\\n",
       "1           10.0          14.0                        3.0   \n",
       "3           10.0           9.0                        4.0   \n",
       "7            5.0           9.0                        3.0   \n",
       "9           10.0          12.0                        2.0   \n",
       "11          10.0          18.0                        5.0   \n",
       "\n",
       "    Player Of The Match  Result  won_while_defending won_while_chasing  \\\n",
       "1           Mohsin Khan     Win                    1                 0   \n",
       "3           Wasim Akram     Win                    0                 1   \n",
       "7         Javed Miandad    Lose                    0                 0   \n",
       "9       Marvan Atapattu    Lose                    0                 0   \n",
       "11          Saeed Anwar     Win                    1                 0   \n",
       "\n",
       "   first_innings  \n",
       "1              1  \n",
       "3              0  \n",
       "7              1  \n",
       "9              0  \n",
       "11             1  \n",
       "\n",
       "[5 rows x 23 columns]"
      ]
     },
     "execution_count": 209,
     "metadata": {},
     "output_type": "execute_result"
    }
   ],
   "source": [
    "pakistan_in_SL.head()"
   ]
  },
  {
   "cell_type": "code",
   "execution_count": 210,
   "id": "88b1c6c8",
   "metadata": {},
   "outputs": [
    {
     "data": {
      "text/plain": [
       "(13, 23)"
      ]
     },
     "execution_count": 210,
     "metadata": {},
     "output_type": "execute_result"
    }
   ],
   "source": [
    "pakistan_in_SL.shape"
   ]
  },
  {
   "cell_type": "code",
   "execution_count": 211,
   "id": "e421c8b9",
   "metadata": {},
   "outputs": [
    {
     "data": {
      "text/html": [
       "<div>\n",
       "<style scoped>\n",
       "    .dataframe tbody tr th:only-of-type {\n",
       "        vertical-align: middle;\n",
       "    }\n",
       "\n",
       "    .dataframe tbody tr th {\n",
       "        vertical-align: top;\n",
       "    }\n",
       "\n",
       "    .dataframe thead th {\n",
       "        text-align: right;\n",
       "    }\n",
       "</style>\n",
       "<table border=\"1\" class=\"dataframe\">\n",
       "  <thead>\n",
       "    <tr style=\"text-align: right;\">\n",
       "      <th></th>\n",
       "      <th>Team</th>\n",
       "      <th>Opponent</th>\n",
       "      <th>Format</th>\n",
       "      <th>Ground</th>\n",
       "      <th>Year</th>\n",
       "      <th>Toss</th>\n",
       "      <th>Selection</th>\n",
       "      <th>Run Scored</th>\n",
       "      <th>Wicket Lost</th>\n",
       "      <th>Fours</th>\n",
       "      <th>...</th>\n",
       "      <th>Avg Bat Strike Rate</th>\n",
       "      <th>Highest Score</th>\n",
       "      <th>Wicket Taken</th>\n",
       "      <th>Given Extras</th>\n",
       "      <th>Highest Individual wicket</th>\n",
       "      <th>Player Of The Match</th>\n",
       "      <th>Result</th>\n",
       "      <th>won_while_defending</th>\n",
       "      <th>won_while_chasing</th>\n",
       "      <th>first_innings</th>\n",
       "    </tr>\n",
       "  </thead>\n",
       "  <tbody>\n",
       "    <tr>\n",
       "      <th>1</th>\n",
       "      <td>Pakistan</td>\n",
       "      <td>Sri Lanka</td>\n",
       "      <td>ODI</td>\n",
       "      <td>Colombo(PSS)</td>\n",
       "      <td>1986</td>\n",
       "      <td>Lose</td>\n",
       "      <td>Batting</td>\n",
       "      <td>197.0</td>\n",
       "      <td>10.0</td>\n",
       "      <td>14.0</td>\n",
       "      <td>...</td>\n",
       "      <td>65.14</td>\n",
       "      <td>39.0</td>\n",
       "      <td>10.0</td>\n",
       "      <td>14.0</td>\n",
       "      <td>3.0</td>\n",
       "      <td>Mohsin Khan</td>\n",
       "      <td>Win</td>\n",
       "      <td>1</td>\n",
       "      <td>0</td>\n",
       "      <td>1</td>\n",
       "    </tr>\n",
       "    <tr>\n",
       "      <th>3</th>\n",
       "      <td>Pakistan</td>\n",
       "      <td>Bangladesh</td>\n",
       "      <td>ODI</td>\n",
       "      <td>Moratuwa</td>\n",
       "      <td>1986</td>\n",
       "      <td>Win</td>\n",
       "      <td>Bowling</td>\n",
       "      <td>98.0</td>\n",
       "      <td>3.0</td>\n",
       "      <td>4.0</td>\n",
       "      <td>...</td>\n",
       "      <td>36.79</td>\n",
       "      <td>47.0</td>\n",
       "      <td>10.0</td>\n",
       "      <td>9.0</td>\n",
       "      <td>4.0</td>\n",
       "      <td>Wasim Akram</td>\n",
       "      <td>Win</td>\n",
       "      <td>0</td>\n",
       "      <td>1</td>\n",
       "      <td>0</td>\n",
       "    </tr>\n",
       "    <tr>\n",
       "      <th>7</th>\n",
       "      <td>Pakistan</td>\n",
       "      <td>Sri Lanka</td>\n",
       "      <td>ODI</td>\n",
       "      <td>Colombo(SSC)</td>\n",
       "      <td>1986</td>\n",
       "      <td>Lose</td>\n",
       "      <td>Batting</td>\n",
       "      <td>191.0</td>\n",
       "      <td>9.0</td>\n",
       "      <td>11.0</td>\n",
       "      <td>...</td>\n",
       "      <td>70.13</td>\n",
       "      <td>67.0</td>\n",
       "      <td>5.0</td>\n",
       "      <td>9.0</td>\n",
       "      <td>3.0</td>\n",
       "      <td>Javed Miandad</td>\n",
       "      <td>Lose</td>\n",
       "      <td>0</td>\n",
       "      <td>0</td>\n",
       "      <td>1</td>\n",
       "    </tr>\n",
       "    <tr>\n",
       "      <th>9</th>\n",
       "      <td>Pakistan</td>\n",
       "      <td>Sri Lanka</td>\n",
       "      <td>ODI</td>\n",
       "      <td>Colombo(RPS)</td>\n",
       "      <td>1997</td>\n",
       "      <td>Win</td>\n",
       "      <td>Bowling</td>\n",
       "      <td>224.0</td>\n",
       "      <td>9.0</td>\n",
       "      <td>11.0</td>\n",
       "      <td>...</td>\n",
       "      <td>68.02</td>\n",
       "      <td>57.0</td>\n",
       "      <td>10.0</td>\n",
       "      <td>12.0</td>\n",
       "      <td>2.0</td>\n",
       "      <td>Marvan Atapattu</td>\n",
       "      <td>Lose</td>\n",
       "      <td>0</td>\n",
       "      <td>0</td>\n",
       "      <td>0</td>\n",
       "    </tr>\n",
       "    <tr>\n",
       "      <th>11</th>\n",
       "      <td>Pakistan</td>\n",
       "      <td>Bangladesh</td>\n",
       "      <td>ODI</td>\n",
       "      <td>Colombo(RPS)</td>\n",
       "      <td>1997</td>\n",
       "      <td>Win</td>\n",
       "      <td>Batting</td>\n",
       "      <td>319.0</td>\n",
       "      <td>5.0</td>\n",
       "      <td>28.0</td>\n",
       "      <td>...</td>\n",
       "      <td>129.10</td>\n",
       "      <td>90.0</td>\n",
       "      <td>10.0</td>\n",
       "      <td>18.0</td>\n",
       "      <td>5.0</td>\n",
       "      <td>Saeed Anwar</td>\n",
       "      <td>Win</td>\n",
       "      <td>1</td>\n",
       "      <td>0</td>\n",
       "      <td>1</td>\n",
       "    </tr>\n",
       "    <tr>\n",
       "      <th>27</th>\n",
       "      <td>Pakistan</td>\n",
       "      <td>Bangladesh</td>\n",
       "      <td>ODI</td>\n",
       "      <td>Colombo(SSC)</td>\n",
       "      <td>2004</td>\n",
       "      <td>Win</td>\n",
       "      <td>Batting</td>\n",
       "      <td>257.0</td>\n",
       "      <td>6.0</td>\n",
       "      <td>19.0</td>\n",
       "      <td>...</td>\n",
       "      <td>83.96</td>\n",
       "      <td>102.0</td>\n",
       "      <td>10.0</td>\n",
       "      <td>20.0</td>\n",
       "      <td>3.0</td>\n",
       "      <td>Yasir Hameed</td>\n",
       "      <td>Win</td>\n",
       "      <td>1</td>\n",
       "      <td>0</td>\n",
       "      <td>1</td>\n",
       "    </tr>\n",
       "    <tr>\n",
       "      <th>31</th>\n",
       "      <td>Pakistan</td>\n",
       "      <td>Hong Kong</td>\n",
       "      <td>ODI</td>\n",
       "      <td>Colombo(SSC)</td>\n",
       "      <td>2004</td>\n",
       "      <td>Win</td>\n",
       "      <td>Batting</td>\n",
       "      <td>343.0</td>\n",
       "      <td>5.0</td>\n",
       "      <td>24.0</td>\n",
       "      <td>...</td>\n",
       "      <td>136.56</td>\n",
       "      <td>144.0</td>\n",
       "      <td>10.0</td>\n",
       "      <td>29.0</td>\n",
       "      <td>4.0</td>\n",
       "      <td>Shoaib Malik</td>\n",
       "      <td>Win</td>\n",
       "      <td>1</td>\n",
       "      <td>0</td>\n",
       "      <td>1</td>\n",
       "    </tr>\n",
       "    <tr>\n",
       "      <th>37</th>\n",
       "      <td>Pakistan</td>\n",
       "      <td>Sri Lanka</td>\n",
       "      <td>ODI</td>\n",
       "      <td>Colombo(RPS)</td>\n",
       "      <td>2004</td>\n",
       "      <td>Win</td>\n",
       "      <td>Batting</td>\n",
       "      <td>122.0</td>\n",
       "      <td>10.0</td>\n",
       "      <td>7.0</td>\n",
       "      <td>...</td>\n",
       "      <td>33.51</td>\n",
       "      <td>43.0</td>\n",
       "      <td>3.0</td>\n",
       "      <td>25.0</td>\n",
       "      <td>2.0</td>\n",
       "      <td>Nuwan Zoysa</td>\n",
       "      <td>Lose</td>\n",
       "      <td>0</td>\n",
       "      <td>0</td>\n",
       "      <td>1</td>\n",
       "    </tr>\n",
       "    <tr>\n",
       "      <th>41</th>\n",
       "      <td>Pakistan</td>\n",
       "      <td>India</td>\n",
       "      <td>ODI</td>\n",
       "      <td>Colombo(RPS)</td>\n",
       "      <td>2004</td>\n",
       "      <td>Win</td>\n",
       "      <td>Batting</td>\n",
       "      <td>300.0</td>\n",
       "      <td>9.0</td>\n",
       "      <td>29.0</td>\n",
       "      <td>...</td>\n",
       "      <td>68.11</td>\n",
       "      <td>143.0</td>\n",
       "      <td>8.0</td>\n",
       "      <td>38.0</td>\n",
       "      <td>2.0</td>\n",
       "      <td>Shoaib Malik</td>\n",
       "      <td>Win</td>\n",
       "      <td>1</td>\n",
       "      <td>0</td>\n",
       "      <td>1</td>\n",
       "    </tr>\n",
       "    <tr>\n",
       "      <th>45</th>\n",
       "      <td>Pakistan</td>\n",
       "      <td>Bangladesh</td>\n",
       "      <td>ODI</td>\n",
       "      <td>Colombo(RPS)</td>\n",
       "      <td>2004</td>\n",
       "      <td>Lose</td>\n",
       "      <td>Bowling</td>\n",
       "      <td>167.0</td>\n",
       "      <td>4.0</td>\n",
       "      <td>22.0</td>\n",
       "      <td>...</td>\n",
       "      <td>62.75</td>\n",
       "      <td>48.0</td>\n",
       "      <td>10.0</td>\n",
       "      <td>37.0</td>\n",
       "      <td>3.0</td>\n",
       "      <td>Shoaib Malik</td>\n",
       "      <td>Win</td>\n",
       "      <td>0</td>\n",
       "      <td>1</td>\n",
       "      <td>0</td>\n",
       "    </tr>\n",
       "    <tr>\n",
       "      <th>49</th>\n",
       "      <td>Pakistan</td>\n",
       "      <td>Sri Lanka</td>\n",
       "      <td>ODI</td>\n",
       "      <td>Dambulla</td>\n",
       "      <td>2010</td>\n",
       "      <td>Lose</td>\n",
       "      <td>Bowling</td>\n",
       "      <td>226.0</td>\n",
       "      <td>10.0</td>\n",
       "      <td>12.0</td>\n",
       "      <td>...</td>\n",
       "      <td>48.35</td>\n",
       "      <td>109.0</td>\n",
       "      <td>9.0</td>\n",
       "      <td>11.0</td>\n",
       "      <td>3.0</td>\n",
       "      <td>Shahid Afridi</td>\n",
       "      <td>Lose</td>\n",
       "      <td>0</td>\n",
       "      <td>0</td>\n",
       "      <td>0</td>\n",
       "    </tr>\n",
       "    <tr>\n",
       "      <th>55</th>\n",
       "      <td>Pakistan</td>\n",
       "      <td>India</td>\n",
       "      <td>ODI</td>\n",
       "      <td>Dambulla</td>\n",
       "      <td>2010</td>\n",
       "      <td>Win</td>\n",
       "      <td>Batting</td>\n",
       "      <td>267.0</td>\n",
       "      <td>10.0</td>\n",
       "      <td>20.0</td>\n",
       "      <td>...</td>\n",
       "      <td>70.70</td>\n",
       "      <td>74.0</td>\n",
       "      <td>7.0</td>\n",
       "      <td>24.0</td>\n",
       "      <td>3.0</td>\n",
       "      <td>Gautam Gambhir</td>\n",
       "      <td>Lose</td>\n",
       "      <td>0</td>\n",
       "      <td>0</td>\n",
       "      <td>1</td>\n",
       "    </tr>\n",
       "    <tr>\n",
       "      <th>57</th>\n",
       "      <td>Pakistan</td>\n",
       "      <td>Bangladesh</td>\n",
       "      <td>ODI</td>\n",
       "      <td>Dambulla</td>\n",
       "      <td>2010</td>\n",
       "      <td>Win</td>\n",
       "      <td>Batting</td>\n",
       "      <td>385.0</td>\n",
       "      <td>7.0</td>\n",
       "      <td>41.0</td>\n",
       "      <td>...</td>\n",
       "      <td>129.98</td>\n",
       "      <td>124.0</td>\n",
       "      <td>5.0</td>\n",
       "      <td>12.0</td>\n",
       "      <td>1.0</td>\n",
       "      <td>Shahid Afridi</td>\n",
       "      <td>Win</td>\n",
       "      <td>1</td>\n",
       "      <td>0</td>\n",
       "      <td>1</td>\n",
       "    </tr>\n",
       "  </tbody>\n",
       "</table>\n",
       "<p>13 rows × 23 columns</p>\n",
       "</div>"
      ],
      "text/plain": [
       "        Team    Opponent Format        Ground  Year  Toss Selection  \\\n",
       "1   Pakistan   Sri Lanka    ODI  Colombo(PSS)  1986  Lose   Batting   \n",
       "3   Pakistan  Bangladesh    ODI      Moratuwa  1986   Win   Bowling   \n",
       "7   Pakistan   Sri Lanka    ODI  Colombo(SSC)  1986  Lose   Batting   \n",
       "9   Pakistan   Sri Lanka    ODI  Colombo(RPS)  1997   Win   Bowling   \n",
       "11  Pakistan  Bangladesh    ODI  Colombo(RPS)  1997   Win   Batting   \n",
       "27  Pakistan  Bangladesh    ODI  Colombo(SSC)  2004   Win   Batting   \n",
       "31  Pakistan   Hong Kong    ODI  Colombo(SSC)  2004   Win   Batting   \n",
       "37  Pakistan   Sri Lanka    ODI  Colombo(RPS)  2004   Win   Batting   \n",
       "41  Pakistan       India    ODI  Colombo(RPS)  2004   Win   Batting   \n",
       "45  Pakistan  Bangladesh    ODI  Colombo(RPS)  2004  Lose   Bowling   \n",
       "49  Pakistan   Sri Lanka    ODI      Dambulla  2010  Lose   Bowling   \n",
       "55  Pakistan       India    ODI      Dambulla  2010   Win   Batting   \n",
       "57  Pakistan  Bangladesh    ODI      Dambulla  2010   Win   Batting   \n",
       "\n",
       "    Run Scored  Wicket Lost  Fours  ...  Avg Bat Strike Rate  Highest Score  \\\n",
       "1        197.0         10.0   14.0  ...                65.14           39.0   \n",
       "3         98.0          3.0    4.0  ...                36.79           47.0   \n",
       "7        191.0          9.0   11.0  ...                70.13           67.0   \n",
       "9        224.0          9.0   11.0  ...                68.02           57.0   \n",
       "11       319.0          5.0   28.0  ...               129.10           90.0   \n",
       "27       257.0          6.0   19.0  ...                83.96          102.0   \n",
       "31       343.0          5.0   24.0  ...               136.56          144.0   \n",
       "37       122.0         10.0    7.0  ...                33.51           43.0   \n",
       "41       300.0          9.0   29.0  ...                68.11          143.0   \n",
       "45       167.0          4.0   22.0  ...                62.75           48.0   \n",
       "49       226.0         10.0   12.0  ...                48.35          109.0   \n",
       "55       267.0         10.0   20.0  ...                70.70           74.0   \n",
       "57       385.0          7.0   41.0  ...               129.98          124.0   \n",
       "\n",
       "    Wicket Taken  Given Extras  Highest Individual wicket  \\\n",
       "1           10.0          14.0                        3.0   \n",
       "3           10.0           9.0                        4.0   \n",
       "7            5.0           9.0                        3.0   \n",
       "9           10.0          12.0                        2.0   \n",
       "11          10.0          18.0                        5.0   \n",
       "27          10.0          20.0                        3.0   \n",
       "31          10.0          29.0                        4.0   \n",
       "37           3.0          25.0                        2.0   \n",
       "41           8.0          38.0                        2.0   \n",
       "45          10.0          37.0                        3.0   \n",
       "49           9.0          11.0                        3.0   \n",
       "55           7.0          24.0                        3.0   \n",
       "57           5.0          12.0                        1.0   \n",
       "\n",
       "    Player Of The Match  Result  won_while_defending won_while_chasing  \\\n",
       "1           Mohsin Khan     Win                    1                 0   \n",
       "3           Wasim Akram     Win                    0                 1   \n",
       "7         Javed Miandad    Lose                    0                 0   \n",
       "9       Marvan Atapattu    Lose                    0                 0   \n",
       "11          Saeed Anwar     Win                    1                 0   \n",
       "27         Yasir Hameed     Win                    1                 0   \n",
       "31         Shoaib Malik     Win                    1                 0   \n",
       "37          Nuwan Zoysa    Lose                    0                 0   \n",
       "41         Shoaib Malik     Win                    1                 0   \n",
       "45         Shoaib Malik     Win                    0                 1   \n",
       "49        Shahid Afridi    Lose                    0                 0   \n",
       "55       Gautam Gambhir    Lose                    0                 0   \n",
       "57        Shahid Afridi     Win                    1                 0   \n",
       "\n",
       "   first_innings  \n",
       "1              1  \n",
       "3              0  \n",
       "7              1  \n",
       "9              0  \n",
       "11             1  \n",
       "27             1  \n",
       "31             1  \n",
       "37             1  \n",
       "41             1  \n",
       "45             0  \n",
       "49             0  \n",
       "55             1  \n",
       "57             1  \n",
       "\n",
       "[13 rows x 23 columns]"
      ]
     },
     "execution_count": 211,
     "metadata": {},
     "output_type": "execute_result"
    }
   ],
   "source": [
    "pakistan_in_SL.head(13)"
   ]
  },
  {
   "cell_type": "code",
   "execution_count": 224,
   "id": "aef99857",
   "metadata": {},
   "outputs": [
    {
     "name": "stdout",
     "output_type": "stream",
     "text": [
      "average first innings total of Pakistan in SL in Asia Cup :  264.55555555555554\n"
     ]
    }
   ],
   "source": [
    "avg_total_while_batting_first=pakistan_in_SL[pakistan_in_SL['first_innings'] == 1]['Run Scored'].mean()\n",
    "print('average first innings total of Pakistan in SL in Asia Cup : ',avg_total_while_batting_first)"
   ]
  },
  {
   "cell_type": "code",
   "execution_count": 225,
   "id": "e4386818",
   "metadata": {},
   "outputs": [
    {
     "name": "stdout",
     "output_type": "stream",
     "text": [
      "average second innings total of Pakistan in SL in Asia Cup :  178.75\n"
     ]
    }
   ],
   "source": [
    "avg_total_while_batting_second=pakistan_in_SL[pakistan_in_SL['first_innings'] == 0]['Run Scored'].mean()\n",
    "print('average second innings total of Pakistan in SL in Asia Cup : ',avg_total_while_batting_second)"
   ]
  },
  {
   "cell_type": "code",
   "execution_count": 228,
   "id": "1455d214",
   "metadata": {},
   "outputs": [
    {
     "data": {
      "text/plain": [
       "<BarContainer object of 2 artists>"
      ]
     },
     "execution_count": 228,
     "metadata": {},
     "output_type": "execute_result"
    },
    {
     "data": {
      "image/png": "[encoded data removed]",
      "text/plain": [
       "<Figure size 432x288 with 1 Axes>"
      ]
     },
     "metadata": {
      "needs_background": "light"
     },
     "output_type": "display_data"
    }
   ],
   "source": [
    "categories=('avg_total_while_batting_first','avg_total_while_batting_second')\n",
    "values=(avg_total_while_batting_first,avg_total_while_batting_second)\n",
    "plt.bar(categories,values)"
   ]
  },
  {
   "cell_type": "code",
   "execution_count": 212,
   "id": "c69e5e08",
   "metadata": {},
   "outputs": [
    {
     "name": "stdout",
     "output_type": "stream",
     "text": [
      "win percentage of pakistan while chasing :  50.0\n"
     ]
    }
   ],
   "source": [
    "pakistan_chases=len(pakistan_in_SL[pakistan_in_SL['first_innings']==0])\n",
    "pakistan_win_in_chases=len(pakistan_in_SL[pakistan_in_SL['won_while_chasing']==1])\n",
    "print(\"win percentage of pakistan while chasing : \",pakistan_win_in_chases/pakistan_chases*100)"
   ]
  },
  {
   "cell_type": "code",
   "execution_count": 213,
   "id": "13d0caa0",
   "metadata": {},
   "outputs": [
    {
     "name": "stdout",
     "output_type": "stream",
     "text": [
      "win percentage of pakistan while defending :  66.66666666666666\n"
     ]
    }
   ],
   "source": [
    "pakistan_defenses=len(pakistan_in_SL[pakistan_in_SL['first_innings']==1])\n",
    "pakistan_win_in_defenses=len(pakistan_in_SL[pakistan_in_SL['won_while_defending']==1])\n",
    "print(\"win percentage of pakistan while defending : \",pakistan_win_in_defenses/pakistan_defenses*100)"
   ]
  },
  {
   "cell_type": "markdown",
   "id": "07864391",
   "metadata": {},
   "source": [
    "Pakistan's average first innings total is approx. 265 which drops to 179 while batting second. We can conclude that the they don not have a good record while batting second. Also their win % while batting first is 66.67% which drops to 50 % while batting second.\n",
    "Thus, winning a toss and electing to bat first against Pakistan can be a safe bet."
   ]
  },
  {
   "cell_type": "markdown",
   "id": "f600a90a",
   "metadata": {},
   "source": [
    "## Pakistan overall in Asia Cup"
   ]
  },
  {
   "cell_type": "code",
   "execution_count": 219,
   "id": "907b40a0",
   "metadata": {},
   "outputs": [],
   "source": [
    "pakistan_in_AC=asia_cup_odi[asia_cup_odi['Team']=='Pakistan']"
   ]
  },
  {
   "cell_type": "code",
   "execution_count": 220,
   "id": "b8283d1f",
   "metadata": {},
   "outputs": [
    {
     "data": {
      "text/html": [
       "<div>\n",
       "<style scoped>\n",
       "    .dataframe tbody tr th:only-of-type {\n",
       "        vertical-align: middle;\n",
       "    }\n",
       "\n",
       "    .dataframe tbody tr th {\n",
       "        vertical-align: top;\n",
       "    }\n",
       "\n",
       "    .dataframe thead th {\n",
       "        text-align: right;\n",
       "    }\n",
       "</style>\n",
       "<table border=\"1\" class=\"dataframe\">\n",
       "  <thead>\n",
       "    <tr style=\"text-align: right;\">\n",
       "      <th></th>\n",
       "      <th>Team</th>\n",
       "      <th>Opponent</th>\n",
       "      <th>Format</th>\n",
       "      <th>Ground</th>\n",
       "      <th>Year</th>\n",
       "      <th>Toss</th>\n",
       "      <th>Selection</th>\n",
       "      <th>Run Scored</th>\n",
       "      <th>Wicket Lost</th>\n",
       "      <th>Fours</th>\n",
       "      <th>...</th>\n",
       "      <th>Avg Bat Strike Rate</th>\n",
       "      <th>Highest Score</th>\n",
       "      <th>Wicket Taken</th>\n",
       "      <th>Given Extras</th>\n",
       "      <th>Highest Individual wicket</th>\n",
       "      <th>Player Of The Match</th>\n",
       "      <th>Result</th>\n",
       "      <th>won_while_defending</th>\n",
       "      <th>won_while_chasing</th>\n",
       "      <th>first_innings</th>\n",
       "    </tr>\n",
       "  </thead>\n",
       "  <tbody>\n",
       "    <tr>\n",
       "      <th>0</th>\n",
       "      <td>Pakistan</td>\n",
       "      <td>Sri Lanka</td>\n",
       "      <td>ODI</td>\n",
       "      <td>Sharjah</td>\n",
       "      <td>1984</td>\n",
       "      <td>Lose</td>\n",
       "      <td>Batting</td>\n",
       "      <td>187.0</td>\n",
       "      <td>9.0</td>\n",
       "      <td>9.0</td>\n",
       "      <td>...</td>\n",
       "      <td>52.04</td>\n",
       "      <td>47.0</td>\n",
       "      <td>5.0</td>\n",
       "      <td>26.0</td>\n",
       "      <td>2.0</td>\n",
       "      <td>Roy Dias</td>\n",
       "      <td>Lose</td>\n",
       "      <td>0</td>\n",
       "      <td>0</td>\n",
       "      <td>1</td>\n",
       "    </tr>\n",
       "    <tr>\n",
       "      <th>5</th>\n",
       "      <td>Pakistan</td>\n",
       "      <td>India</td>\n",
       "      <td>ODI</td>\n",
       "      <td>Sharjah</td>\n",
       "      <td>1984</td>\n",
       "      <td>Lose</td>\n",
       "      <td>Bowling</td>\n",
       "      <td>134.0</td>\n",
       "      <td>10.0</td>\n",
       "      <td>5.0</td>\n",
       "      <td>...</td>\n",
       "      <td>39.46</td>\n",
       "      <td>35.0</td>\n",
       "      <td>4.0</td>\n",
       "      <td>17.0</td>\n",
       "      <td>1.0</td>\n",
       "      <td>Surinder Khanna</td>\n",
       "      <td>Lose</td>\n",
       "      <td>0</td>\n",
       "      <td>0</td>\n",
       "      <td>0</td>\n",
       "    </tr>\n",
       "    <tr>\n",
       "      <th>7</th>\n",
       "      <td>Pakistan</td>\n",
       "      <td>Sri Lanka</td>\n",
       "      <td>ODI</td>\n",
       "      <td>Colombo(PSS)</td>\n",
       "      <td>1986</td>\n",
       "      <td>Lose</td>\n",
       "      <td>Batting</td>\n",
       "      <td>197.0</td>\n",
       "      <td>10.0</td>\n",
       "      <td>14.0</td>\n",
       "      <td>...</td>\n",
       "      <td>65.14</td>\n",
       "      <td>39.0</td>\n",
       "      <td>10.0</td>\n",
       "      <td>14.0</td>\n",
       "      <td>3.0</td>\n",
       "      <td>Mohsin Khan</td>\n",
       "      <td>Win</td>\n",
       "      <td>1</td>\n",
       "      <td>0</td>\n",
       "      <td>1</td>\n",
       "    </tr>\n",
       "    <tr>\n",
       "      <th>9</th>\n",
       "      <td>Pakistan</td>\n",
       "      <td>Bangladesh</td>\n",
       "      <td>ODI</td>\n",
       "      <td>Moratuwa</td>\n",
       "      <td>1986</td>\n",
       "      <td>Win</td>\n",
       "      <td>Bowling</td>\n",
       "      <td>98.0</td>\n",
       "      <td>3.0</td>\n",
       "      <td>4.0</td>\n",
       "      <td>...</td>\n",
       "      <td>36.79</td>\n",
       "      <td>47.0</td>\n",
       "      <td>10.0</td>\n",
       "      <td>9.0</td>\n",
       "      <td>4.0</td>\n",
       "      <td>Wasim Akram</td>\n",
       "      <td>Win</td>\n",
       "      <td>0</td>\n",
       "      <td>1</td>\n",
       "      <td>0</td>\n",
       "    </tr>\n",
       "    <tr>\n",
       "      <th>13</th>\n",
       "      <td>Pakistan</td>\n",
       "      <td>Sri Lanka</td>\n",
       "      <td>ODI</td>\n",
       "      <td>Colombo(SSC)</td>\n",
       "      <td>1986</td>\n",
       "      <td>Lose</td>\n",
       "      <td>Batting</td>\n",
       "      <td>191.0</td>\n",
       "      <td>9.0</td>\n",
       "      <td>11.0</td>\n",
       "      <td>...</td>\n",
       "      <td>70.13</td>\n",
       "      <td>67.0</td>\n",
       "      <td>5.0</td>\n",
       "      <td>9.0</td>\n",
       "      <td>3.0</td>\n",
       "      <td>Javed Miandad</td>\n",
       "      <td>Lose</td>\n",
       "      <td>0</td>\n",
       "      <td>0</td>\n",
       "      <td>1</td>\n",
       "    </tr>\n",
       "  </tbody>\n",
       "</table>\n",
       "<p>5 rows × 23 columns</p>\n",
       "</div>"
      ],
      "text/plain": [
       "        Team    Opponent Format        Ground  Year  Toss Selection  \\\n",
       "0   Pakistan   Sri Lanka    ODI       Sharjah  1984  Lose   Batting   \n",
       "5   Pakistan       India    ODI       Sharjah  1984  Lose   Bowling   \n",
       "7   Pakistan   Sri Lanka    ODI  Colombo(PSS)  1986  Lose   Batting   \n",
       "9   Pakistan  Bangladesh    ODI      Moratuwa  1986   Win   Bowling   \n",
       "13  Pakistan   Sri Lanka    ODI  Colombo(SSC)  1986  Lose   Batting   \n",
       "\n",
       "    Run Scored  Wicket Lost  Fours  ...  Avg Bat Strike Rate  Highest Score  \\\n",
       "0        187.0          9.0    9.0  ...                52.04           47.0   \n",
       "5        134.0         10.0    5.0  ...                39.46           35.0   \n",
       "7        197.0         10.0   14.0  ...                65.14           39.0   \n",
       "9         98.0          3.0    4.0  ...                36.79           47.0   \n",
       "13       191.0          9.0   11.0  ...                70.13           67.0   \n",
       "\n",
       "    Wicket Taken  Given Extras  Highest Individual wicket  \\\n",
       "0            5.0          26.0                        2.0   \n",
       "5            4.0          17.0                        1.0   \n",
       "7           10.0          14.0                        3.0   \n",
       "9           10.0           9.0                        4.0   \n",
       "13           5.0           9.0                        3.0   \n",
       "\n",
       "    Player Of The Match  Result  won_while_defending won_while_chasing  \\\n",
       "0              Roy Dias    Lose                    0                 0   \n",
       "5       Surinder Khanna    Lose                    0                 0   \n",
       "7           Mohsin Khan     Win                    1                 0   \n",
       "9           Wasim Akram     Win                    0                 1   \n",
       "13        Javed Miandad    Lose                    0                 0   \n",
       "\n",
       "   first_innings  \n",
       "0              1  \n",
       "5              0  \n",
       "7              1  \n",
       "9              0  \n",
       "13             1  \n",
       "\n",
       "[5 rows x 23 columns]"
      ]
     },
     "execution_count": 220,
     "metadata": {},
     "output_type": "execute_result"
    }
   ],
   "source": [
    "pakistan_in_AC.head()"
   ]
  },
  {
   "cell_type": "code",
   "execution_count": 226,
   "id": "8fdc9a20",
   "metadata": {},
   "outputs": [
    {
     "name": "stdout",
     "output_type": "stream",
     "text": [
      "average first innings total of Pakistan in Asia Cup :  253.5185185185185\n"
     ]
    }
   ],
   "source": [
    "avg_total_while_batting_first_overall=pakistan_in_AC[pakistan_in_AC['first_innings'] == 1]['Run Scored'].mean()\n",
    "print('average first innings total of Pakistan in Asia Cup : ',avg_total_while_batting_first_overall)"
   ]
  },
  {
   "cell_type": "code",
   "execution_count": 227,
   "id": "82fed7d2",
   "metadata": {},
   "outputs": [
    {
     "name": "stdout",
     "output_type": "stream",
     "text": [
      "average second innings total of Pakistan in Asia Cup :  205.1764705882353\n"
     ]
    }
   ],
   "source": [
    "avg_total_while_batting_second_overall=pakistan_in_AC[pakistan_in_AC['first_innings'] == 0]['Run Scored'].mean()\n",
    "print('average second innings total of Pakistan in Asia Cup : ',avg_total_while_batting_second_overall)"
   ]
  },
  {
   "cell_type": "code",
   "execution_count": 229,
   "id": "87efca32",
   "metadata": {},
   "outputs": [
    {
     "data": {
      "text/plain": [
       "<BarContainer object of 2 artists>"
      ]
     },
     "execution_count": 229,
     "metadata": {},
     "output_type": "execute_result"
    },
    {
     "data": {
      "image/png": "[encoded data removed]",
      "text/plain": [
       "<Figure size 432x288 with 1 Axes>"
      ]
     },
     "metadata": {
      "needs_background": "light"
     },
     "output_type": "display_data"
    }
   ],
   "source": [
    "categories=('avg_total_while_batting_first_overall','avg_total_while_batting_second_overall')\n",
    "values=(avg_total_while_batting_first_overall,avg_total_while_batting_second_overall)\n",
    "plt.bar(categories,values)"
   ]
  },
  {
   "cell_type": "code",
   "execution_count": 221,
   "id": "b1446c63",
   "metadata": {},
   "outputs": [
    {
     "data": {
      "text/plain": [
       "(45, 23)"
      ]
     },
     "execution_count": 221,
     "metadata": {},
     "output_type": "execute_result"
    }
   ],
   "source": [
    "pakistan_in_AC.shape"
   ]
  },
  {
   "cell_type": "code",
   "execution_count": 222,
   "id": "4f4bf3bd",
   "metadata": {},
   "outputs": [
    {
     "name": "stdout",
     "output_type": "stream",
     "text": [
      "win percentage of pakistan while chasing overall :  64.70588235294117\n"
     ]
    }
   ],
   "source": [
    "pakistan_chases_overall=len(pakistan_in_AC[pakistan_in_AC['first_innings']==0])\n",
    "pakistan_win_in_chases_overall=len(pakistan_in_AC[pakistan_in_AC['won_while_chasing']==1])\n",
    "print(\"win percentage of pakistan while chasing overall : \",pakistan_win_in_chases_overall/pakistan_chases_overall*100)"
   ]
  },
  {
   "cell_type": "code",
   "execution_count": 223,
   "id": "8e6a6766",
   "metadata": {},
   "outputs": [
    {
     "name": "stdout",
     "output_type": "stream",
     "text": [
      "win percentage of pakistan while defending overall :  53.57142857142857\n"
     ]
    }
   ],
   "source": [
    "pakistan_defenses_overall=len(pakistan_in_AC[pakistan_in_AC['first_innings']==1])\n",
    "pakistan_win_in_defenses_overall=len(pakistan_in_AC[pakistan_in_AC['won_while_defending']==1])\n",
    "print(\"win percentage of pakistan while defending overall : \",pakistan_win_in_defenses_overall/pakistan_defenses_overall*100)"
   ]
  },
  {
   "cell_type": "markdown",
   "id": "6712cdb9",
   "metadata": {},
   "source": [
    "Paksitan' s overall record is also quite similar."
   ]
  },
  {
   "cell_type": "markdown",
   "id": "dffe1f39",
   "metadata": {},
   "source": [
    "# India --->"
   ]
  },
  {
   "cell_type": "markdown",
   "id": "451600dc",
   "metadata": {},
   "source": [
    "## India in SL"
   ]
  },
  {
   "cell_type": "code",
   "execution_count": 230,
   "id": "1c6fb7c8",
   "metadata": {},
   "outputs": [],
   "source": [
    "India_in_SL=asia_cup_ODI_SL[asia_cup_ODI_SL['Team']=='India']"
   ]
  },
  {
   "cell_type": "code",
   "execution_count": 231,
   "id": "5a2200cc",
   "metadata": {},
   "outputs": [
    {
     "name": "stdout",
     "output_type": "stream",
     "text": [
      "average first innings total of India in SL in Asia Cup :  245.66666666666666\n"
     ]
    }
   ],
   "source": [
    "avg_total_while_batting_first=India_in_SL[India_in_SL['first_innings'] == 1]['Run Scored'].mean()\n",
    "print('average first innings total of India in SL in Asia Cup : ',avg_total_while_batting_first)"
   ]
  },
  {
   "cell_type": "code",
   "execution_count": 232,
   "id": "25289940",
   "metadata": {},
   "outputs": [
    {
     "name": "stdout",
     "output_type": "stream",
     "text": [
      "average second innings total of India in SL in Asia Cup :  209.0\n"
     ]
    }
   ],
   "source": [
    "avg_total_while_batting_second=India_in_SL[India_in_SL['first_innings'] == 0]['Run Scored'].mean()\n",
    "print('average second innings total of India in SL in Asia Cup : ',avg_total_while_batting_second)"
   ]
  },
  {
   "cell_type": "code",
   "execution_count": 233,
   "id": "51319f6f",
   "metadata": {},
   "outputs": [
    {
     "data": {
      "text/plain": [
       "<BarContainer object of 2 artists>"
      ]
     },
     "execution_count": 233,
     "metadata": {},
     "output_type": "execute_result"
    },
    {
     "data": {
      "image/png": "[encoded data removed]",
      "text/plain": [
       "<Figure size 432x288 with 1 Axes>"
      ]
     },
     "metadata": {
      "needs_background": "light"
     },
     "output_type": "display_data"
    }
   ],
   "source": [
    "categories=('avg_total_while_batting_first','avg_total_while_batting_second')\n",
    "values=(avg_total_while_batting_first,avg_total_while_batting_second)\n",
    "plt.bar(categories,values)"
   ]
  },
  {
   "cell_type": "code",
   "execution_count": 234,
   "id": "77075236",
   "metadata": {},
   "outputs": [
    {
     "name": "stdout",
     "output_type": "stream",
     "text": [
      "win percentage of India while chasing :  57.14285714285714\n"
     ]
    }
   ],
   "source": [
    "India_chases=len(India_in_SL[India_in_SL['first_innings']==0])\n",
    "India_win_in_chases=len(India_in_SL[India_in_SL['won_while_chasing']==1])\n",
    "print(\"win percentage of India while chasing : \",India_win_in_chases/India_chases*100)"
   ]
  },
  {
   "cell_type": "code",
   "execution_count": 235,
   "id": "33465917",
   "metadata": {},
   "outputs": [
    {
     "name": "stdout",
     "output_type": "stream",
     "text": [
      "win percentage of India while defending :  50.0\n"
     ]
    }
   ],
   "source": [
    "India_defenses=len(India_in_SL[India_in_SL['first_innings']==1])\n",
    "India_win_in_defenses=len(India_in_SL[India_in_SL['won_while_defending']==1])\n",
    "print(\"win percentage of India while defending : \",India_win_in_defenses/India_defenses*100)"
   ]
  },
  {
   "cell_type": "markdown",
   "id": "a5b9f2e3",
   "metadata": {},
   "source": [
    "India's win % while batting second is 57% which drops to 50% while defending totals.Moreover win % of 57% and 50% suggest that India have a poor record while playing Asia Cup games in Sri Lanka."
   ]
  },
  {
   "cell_type": "markdown",
   "id": "43d43ad8",
   "metadata": {},
   "source": [
    "## India overall in Asia Cup"
   ]
  },
  {
   "cell_type": "code",
   "execution_count": 236,
   "id": "f79f3a5a",
   "metadata": {},
   "outputs": [],
   "source": [
    "india_in_AC=asia_cup_odi[asia_cup_odi['Team']=='India']"
   ]
  },
  {
   "cell_type": "code",
   "execution_count": 237,
   "id": "639f9cba",
   "metadata": {},
   "outputs": [
    {
     "name": "stdout",
     "output_type": "stream",
     "text": [
      "average first innings total of India in Asia Cup :  266.5\n"
     ]
    }
   ],
   "source": [
    "avg_total_while_batting_first_overall=india_in_AC[india_in_AC['first_innings'] == 1]['Run Scored'].mean()\n",
    "print('average first innings total of India in Asia Cup : ',avg_total_while_batting_first_overall)"
   ]
  },
  {
   "cell_type": "code",
   "execution_count": 238,
   "id": "64835677",
   "metadata": {},
   "outputs": [
    {
     "name": "stdout",
     "output_type": "stream",
     "text": [
      "average second innings total of India in Asia Cup :  210.58823529411765\n"
     ]
    }
   ],
   "source": [
    "avg_total_while_batting_second_overall=india_in_AC[india_in_AC['first_innings'] == 0]['Run Scored'].mean()\n",
    "print('average second innings total of India in Asia Cup : ',avg_total_while_batting_second_overall)"
   ]
  },
  {
   "cell_type": "code",
   "execution_count": 239,
   "id": "747d1fd9",
   "metadata": {},
   "outputs": [
    {
     "name": "stdout",
     "output_type": "stream",
     "text": [
      "win percentage of India while chasing overall :  68.57142857142857\n"
     ]
    }
   ],
   "source": [
    "india_chases_overall=len(india_in_AC[india_in_AC['first_innings']==0])\n",
    "india_win_in_chases_overall=len(india_in_AC[india_in_AC['won_while_chasing']==1])\n",
    "print(\"win percentage of India while chasing overall : \",india_win_in_chases_overall/india_chases_overall*100)"
   ]
  },
  {
   "cell_type": "code",
   "execution_count": 240,
   "id": "74172e60",
   "metadata": {},
   "outputs": [
    {
     "name": "stdout",
     "output_type": "stream",
     "text": [
      "win percentage of India while defending overall :  50.0\n"
     ]
    }
   ],
   "source": [
    "india_defenses_overall=len(india_in_AC[india_in_AC['first_innings']==1])\n",
    "india_win_in_defenses_overall=len(india_in_AC[india_in_AC['won_while_defending']==1])\n",
    "print(\"win percentage of India while defending overall : \",india_win_in_defenses_overall/india_defenses_overall*100)"
   ]
  },
  {
   "cell_type": "markdown",
   "id": "b97032bc",
   "metadata": {},
   "source": [
    "Similar trends are seen in India's overall records as well. win % of 68.57% while batting second suggests that India are good while chasing totals. This drops to 50% while defending totals. "
   ]
  },
  {
   "cell_type": "markdown",
   "id": "f67e7c1f",
   "metadata": {},
   "source": [
    "# Sri Lanka --->"
   ]
  },
  {
   "cell_type": "markdown",
   "id": "ae1e4d2c",
   "metadata": {},
   "source": [
    "## Sri Lanka in SL"
   ]
  },
  {
   "cell_type": "code",
   "execution_count": 242,
   "id": "9669cd8f",
   "metadata": {},
   "outputs": [],
   "source": [
    "SL_in_SL=asia_cup_ODI_SL[asia_cup_ODI_SL['Team']=='Sri Lanka']"
   ]
  },
  {
   "cell_type": "code",
   "execution_count": 243,
   "id": "658d949d",
   "metadata": {},
   "outputs": [
    {
     "name": "stdout",
     "output_type": "stream",
     "text": [
      "average first innings total of Sri Lanka in SL in Asia Cup :  246.25\n"
     ]
    }
   ],
   "source": [
    "avg_total_while_batting_first=SL_in_SL[SL_in_SL['first_innings'] == 1]['Run Scored'].mean()\n",
    "print('average first innings total of Sri Lanka in SL in Asia Cup : ',avg_total_while_batting_first)"
   ]
  },
  {
   "cell_type": "code",
   "execution_count": 244,
   "id": "523ad469",
   "metadata": {},
   "outputs": [
    {
     "name": "stdout",
     "output_type": "stream",
     "text": [
      "average second innings total of Sri Lanka in SL in Asia Cup :  195.66666666666666\n"
     ]
    }
   ],
   "source": [
    "avg_total_while_batting_second=SL_in_SL[SL_in_SL['first_innings'] == 0]['Run Scored'].mean()\n",
    "print('average second innings total of Sri Lanka in SL in Asia Cup : ',avg_total_while_batting_second)"
   ]
  },
  {
   "cell_type": "code",
   "execution_count": 245,
   "id": "e8197ef9",
   "metadata": {},
   "outputs": [
    {
     "name": "stdout",
     "output_type": "stream",
     "text": [
      "win percentage of Sri Lanka while chasing :  66.66666666666666\n"
     ]
    }
   ],
   "source": [
    "SL_chases=len(SL_in_SL[SL_in_SL['first_innings']==0])\n",
    "SL_win_in_chases=len(SL_in_SL[SL_in_SL['won_while_chasing']==1])\n",
    "print(\"win percentage of Sri Lanka while chasing : \",SL_win_in_chases/SL_chases*100)"
   ]
  },
  {
   "cell_type": "code",
   "execution_count": 246,
   "id": "277d256b",
   "metadata": {},
   "outputs": [
    {
     "name": "stdout",
     "output_type": "stream",
     "text": [
      "win percentage of Sri Lanka while defending :  87.5\n"
     ]
    }
   ],
   "source": [
    "SL_defenses=len(SL_in_SL[SL_in_SL['first_innings']==1])\n",
    "SL_win_in_defenses=len(SL_in_SL[SL_in_SL['won_while_defending']==1])\n",
    "print(\"win percentage of Sri Lanka while defending : \",SL_win_in_defenses/SL_defenses*100)"
   ]
  },
  {
   "cell_type": "code",
   "execution_count": null,
   "id": "0297defc",
   "metadata": {},
   "outputs": [],
   "source": [
    "Sri Lanka have a strong record while playing in their backyard. win% of 66.67 while chasing which swells to 87.5% while defending totals."
   ]
  },
  {
   "cell_type": "markdown",
   "id": "214f65a8",
   "metadata": {},
   "source": [
    "## Sri Lanka overall in Asia Cup"
   ]
  },
  {
   "cell_type": "code",
   "execution_count": 247,
   "id": "2fd5ee30",
   "metadata": {},
   "outputs": [],
   "source": [
    "SL_in_AC=asia_cup_odi[asia_cup_odi['Team']=='Sri Lanka']"
   ]
  },
  {
   "cell_type": "code",
   "execution_count": 248,
   "id": "b381a7a7",
   "metadata": {},
   "outputs": [
    {
     "name": "stdout",
     "output_type": "stream",
     "text": [
      "average first innings total of Sri Lanka in Asia Cup :  246.3448275862069\n"
     ]
    }
   ],
   "source": [
    "avg_total_while_batting_first_overall=SL_in_AC[SL_in_AC['first_innings'] == 1]['Run Scored'].mean()\n",
    "print('average first innings total of Sri Lanka in Asia Cup : ',avg_total_while_batting_first_overall)"
   ]
  },
  {
   "cell_type": "code",
   "execution_count": 249,
   "id": "b9970c7d",
   "metadata": {},
   "outputs": [
    {
     "name": "stdout",
     "output_type": "stream",
     "text": [
      "average second innings total of Sri Lanka in Asia Cup :  196.76190476190476\n"
     ]
    }
   ],
   "source": [
    "avg_total_while_batting_second_overall=SL_in_AC[SL_in_AC['first_innings'] == 0]['Run Scored'].mean()\n",
    "print('average second innings total of Sri Lanka in Asia Cup : ',avg_total_while_batting_second_overall)"
   ]
  },
  {
   "cell_type": "code",
   "execution_count": 251,
   "id": "26244f51",
   "metadata": {},
   "outputs": [
    {
     "name": "stdout",
     "output_type": "stream",
     "text": [
      "win percentage of Sri Lanka while chasing overall :  66.66666666666666\n"
     ]
    }
   ],
   "source": [
    "SL_chases_overall=len(SL_in_AC[SL_in_AC['first_innings']==0])\n",
    "SL_win_in_chases_overall=len(SL_in_AC[SL_in_AC['won_while_chasing']==1])\n",
    "print(\"win percentage of Sri Lanka while chasing overall : \",SL_win_in_chases_overall/SL_chases_overall*100)"
   ]
  },
  {
   "cell_type": "code",
   "execution_count": 253,
   "id": "515193c1",
   "metadata": {},
   "outputs": [
    {
     "name": "stdout",
     "output_type": "stream",
     "text": [
      "win percentage of Sri Lanka while defending overall :  65.51724137931035\n"
     ]
    }
   ],
   "source": [
    "SL_defenses_overall=len(SL_in_AC[SL_in_AC['first_innings']==1])\n",
    "SL_win_in_defenses_overall=len(SL_in_AC[SL_in_AC['won_while_defending']==1])\n",
    "print(\"win percentage of Sri Lanka while defending overall : \",SL_win_in_defenses_overall/SL_defenses_overall*100)"
   ]
  },
  {
   "cell_type": "markdown",
   "id": "ec583482",
   "metadata": {},
   "source": [
    "Overall as  well Sri Lanka have a strong record in Asia Cup. Unlike their record in Sri Lanka , they have a better record while chasing in Asia Cup. Win % while defending is 65.5 % which increases to 66.67% while batting second."
   ]
  },
  {
   "cell_type": "markdown",
   "id": "7dfaae43",
   "metadata": {},
   "source": [
    "# Bangladesh --->"
   ]
  },
  {
   "cell_type": "markdown",
   "id": "56c5b681",
   "metadata": {},
   "source": [
    "## Bangladesh in SL"
   ]
  },
  {
   "cell_type": "code",
   "execution_count": 254,
   "id": "f2f95f1e",
   "metadata": {},
   "outputs": [],
   "source": [
    "Ban_in_SL=asia_cup_ODI_SL[asia_cup_ODI_SL['Team']=='Bangladesh']"
   ]
  },
  {
   "cell_type": "code",
   "execution_count": 255,
   "id": "d887d721",
   "metadata": {},
   "outputs": [
    {
     "name": "stdout",
     "output_type": "stream",
     "text": [
      "average first innings total of Bangladesh in SL in Asia Cup :  159.5\n"
     ]
    }
   ],
   "source": [
    "avg_total_while_batting_first=Ban_in_SL[Ban_in_SL['first_innings'] == 1]['Run Scored'].mean()\n",
    "print('average first innings total of Bangladesh in SL in Asia Cup : ',avg_total_while_batting_first)"
   ]
  },
  {
   "cell_type": "code",
   "execution_count": 256,
   "id": "06063164",
   "metadata": {},
   "outputs": [
    {
     "name": "stdout",
     "output_type": "stream",
     "text": [
      "average second innings total of Bangladesh in SL in Asia Cup :  203.2\n"
     ]
    }
   ],
   "source": [
    "avg_total_while_batting_second=Ban_in_SL[Ban_in_SL['first_innings'] == 0]['Run Scored'].mean()\n",
    "print('average second innings total of Bangladesh in SL in Asia Cup : ',avg_total_while_batting_second)"
   ]
  },
  {
   "cell_type": "code",
   "execution_count": 257,
   "id": "6d6eed83",
   "metadata": {},
   "outputs": [
    {
     "name": "stdout",
     "output_type": "stream",
     "text": [
      "win percentage of Bangladesh while chasing :  0.0\n"
     ]
    }
   ],
   "source": [
    "Ban_chases=len(Ban_in_SL[Ban_in_SL['first_innings']==0])\n",
    "Ban_win_in_chases=len(Ban_in_SL[Ban_in_SL['won_while_chasing']==1])\n",
    "print(\"win percentage of Bangladesh while chasing : \",Ban_win_in_chases/Ban_chases*100)"
   ]
  },
  {
   "cell_type": "code",
   "execution_count": 258,
   "id": "75049c2b",
   "metadata": {},
   "outputs": [
    {
     "name": "stdout",
     "output_type": "stream",
     "text": [
      "win percentage of Bangladesh while defending :  12.5\n"
     ]
    }
   ],
   "source": [
    "Ban_defenses=len(Ban_in_SL[Ban_in_SL['first_innings']==1])\n",
    "Ban_win_in_defenses=len(Ban_in_SL[Ban_in_SL['won_while_defending']==1])\n",
    "print(\"win percentage of Bangladesh while defending : \",Ban_win_in_defenses/Ban_defenses*100)"
   ]
  },
  {
   "cell_type": "markdown",
   "id": "1a8c7bd0",
   "metadata": {},
   "source": [
    "Bangladesh have never won a game while chasing thus, batting first against Bangladesh can be the safest of the bets for any team. Moreover, they have a win % of 12.5 while batting first which suggests that they don't have a good record while defending totals as well."
   ]
  },
  {
   "cell_type": "markdown",
   "id": "cd5d3339",
   "metadata": {},
   "source": [
    "## Bangladesh overall in Asia Cup"
   ]
  },
  {
   "cell_type": "code",
   "execution_count": 259,
   "id": "473ab8e4",
   "metadata": {},
   "outputs": [],
   "source": [
    "Ban_in_AC=asia_cup_odi[asia_cup_odi['Team']=='Bangladesh']"
   ]
  },
  {
   "cell_type": "code",
   "execution_count": 260,
   "id": "d9852c2c",
   "metadata": {},
   "outputs": [
    {
     "name": "stdout",
     "output_type": "stream",
     "text": [
      "average first innings total of Bangladesh in Asia Cup :  194.30769230769232\n"
     ]
    }
   ],
   "source": [
    "avg_total_while_batting_first_overall=Ban_in_AC[Ban_in_AC['first_innings'] == 1]['Run Scored'].mean()\n",
    "print('average first innings total of Bangladesh in Asia Cup : ',avg_total_while_batting_first_overall)"
   ]
  },
  {
   "cell_type": "code",
   "execution_count": 261,
   "id": "b2cad027",
   "metadata": {},
   "outputs": [
    {
     "name": "stdout",
     "output_type": "stream",
     "text": [
      "average second innings total of Bangladesh in Asia Cup :  190.52941176470588\n"
     ]
    }
   ],
   "source": [
    "avg_total_while_batting_second_overall=Ban_in_AC[Ban_in_AC['first_innings'] == 0]['Run Scored'].mean()\n",
    "print('average second innings total of Bangladesh in Asia Cup : ',avg_total_while_batting_second_overall)"
   ]
  },
  {
   "cell_type": "code",
   "execution_count": 262,
   "id": "81dcde5b",
   "metadata": {},
   "outputs": [
    {
     "name": "stdout",
     "output_type": "stream",
     "text": [
      "win percentage of Bangladesh while chasing overall :  5.88235294117647\n"
     ]
    }
   ],
   "source": [
    "Ban_chases_overall=len(Ban_in_AC[Ban_in_AC['first_innings']==0])\n",
    "Ban_win_in_chases_overall=len(Ban_in_AC[Ban_in_AC['won_while_chasing']==1])\n",
    "print(\"win percentage of Bangladesh while chasing overall : \",Ban_win_in_chases_overall/Ban_chases_overall*100)"
   ]
  },
  {
   "cell_type": "code",
   "execution_count": 263,
   "id": "8e8c5984",
   "metadata": {},
   "outputs": [
    {
     "name": "stdout",
     "output_type": "stream",
     "text": [
      "win percentage of Bangladesh while defending overall :  19.230769230769234\n"
     ]
    }
   ],
   "source": [
    "Ban_defenses_overall=len(Ban_in_AC[Ban_in_AC['first_innings']==1])\n",
    "Ban_win_in_defenses_overall=len(Ban_in_AC[Ban_in_AC['won_while_defending']==1])\n",
    "print(\"win percentage of Bangladesh while defending overall : \",Ban_win_in_defenses_overall/Ban_defenses_overall*100)"
   ]
  },
  {
   "cell_type": "markdown",
   "id": "651aeaca",
   "metadata": {},
   "source": [
    "Here also the same trends are visible. They have a win % of just 5.88 % while chasing."
   ]
  },
  {
   "cell_type": "markdown",
   "id": "78a0f66f",
   "metadata": {},
   "source": [
    "# India's records against individual teams"
   ]
  },
  {
   "cell_type": "code",
   "execution_count": 264,
   "id": "d97a24e3",
   "metadata": {},
   "outputs": [],
   "source": [
    "india=asia_cup_odi[asia_cup_odi['Team']=='India']"
   ]
  },
  {
   "cell_type": "code",
   "execution_count": 265,
   "id": "1537ec35",
   "metadata": {},
   "outputs": [
    {
     "data": {
      "text/html": [
       "<div>\n",
       "<style scoped>\n",
       "    .dataframe tbody tr th:only-of-type {\n",
       "        vertical-align: middle;\n",
       "    }\n",
       "\n",
       "    .dataframe tbody tr th {\n",
       "        vertical-align: top;\n",
       "    }\n",
       "\n",
       "    .dataframe thead th {\n",
       "        text-align: right;\n",
       "    }\n",
       "</style>\n",
       "<table border=\"1\" class=\"dataframe\">\n",
       "  <thead>\n",
       "    <tr style=\"text-align: right;\">\n",
       "      <th></th>\n",
       "      <th>Team</th>\n",
       "      <th>Opponent</th>\n",
       "      <th>Format</th>\n",
       "      <th>Ground</th>\n",
       "      <th>Year</th>\n",
       "      <th>Toss</th>\n",
       "      <th>Selection</th>\n",
       "      <th>Run Scored</th>\n",
       "      <th>Wicket Lost</th>\n",
       "      <th>Fours</th>\n",
       "      <th>...</th>\n",
       "      <th>Avg Bat Strike Rate</th>\n",
       "      <th>Highest Score</th>\n",
       "      <th>Wicket Taken</th>\n",
       "      <th>Given Extras</th>\n",
       "      <th>Highest Individual wicket</th>\n",
       "      <th>Player Of The Match</th>\n",
       "      <th>Result</th>\n",
       "      <th>won_while_defending</th>\n",
       "      <th>won_while_chasing</th>\n",
       "      <th>first_innings</th>\n",
       "    </tr>\n",
       "  </thead>\n",
       "  <tbody>\n",
       "    <tr>\n",
       "      <th>2</th>\n",
       "      <td>India</td>\n",
       "      <td>Sri Lanka</td>\n",
       "      <td>ODI</td>\n",
       "      <td>Sharjah</td>\n",
       "      <td>1984</td>\n",
       "      <td>Win</td>\n",
       "      <td>Bowling</td>\n",
       "      <td>97.0</td>\n",
       "      <td>0.0</td>\n",
       "      <td>9.0</td>\n",
       "      <td>...</td>\n",
       "      <td>60.48</td>\n",
       "      <td>51.0</td>\n",
       "      <td>10.0</td>\n",
       "      <td>8.0</td>\n",
       "      <td>3.0</td>\n",
       "      <td>Surinder Khanna</td>\n",
       "      <td>Win</td>\n",
       "      <td>0</td>\n",
       "      <td>1</td>\n",
       "      <td>0</td>\n",
       "    </tr>\n",
       "    <tr>\n",
       "      <th>4</th>\n",
       "      <td>India</td>\n",
       "      <td>Pakistan</td>\n",
       "      <td>ODI</td>\n",
       "      <td>Sharjah</td>\n",
       "      <td>1984</td>\n",
       "      <td>Win</td>\n",
       "      <td>Batting</td>\n",
       "      <td>188.0</td>\n",
       "      <td>4.0</td>\n",
       "      <td>13.0</td>\n",
       "      <td>...</td>\n",
       "      <td>60.21</td>\n",
       "      <td>56.0</td>\n",
       "      <td>10.0</td>\n",
       "      <td>5.0</td>\n",
       "      <td>3.0</td>\n",
       "      <td>Surinder Khanna</td>\n",
       "      <td>Win</td>\n",
       "      <td>1</td>\n",
       "      <td>0</td>\n",
       "      <td>1</td>\n",
       "    </tr>\n",
       "    <tr>\n",
       "      <th>17</th>\n",
       "      <td>India</td>\n",
       "      <td>Bangladesh</td>\n",
       "      <td>ODI</td>\n",
       "      <td>Chattogram</td>\n",
       "      <td>1988</td>\n",
       "      <td>Win</td>\n",
       "      <td>Bowling</td>\n",
       "      <td>100.0</td>\n",
       "      <td>1.0</td>\n",
       "      <td>7.0</td>\n",
       "      <td>...</td>\n",
       "      <td>56.70</td>\n",
       "      <td>50.0</td>\n",
       "      <td>8.0</td>\n",
       "      <td>13.0</td>\n",
       "      <td>3.0</td>\n",
       "      <td>Navjot Sidhu</td>\n",
       "      <td>Win</td>\n",
       "      <td>0</td>\n",
       "      <td>1</td>\n",
       "      <td>0</td>\n",
       "    </tr>\n",
       "    <tr>\n",
       "      <th>18</th>\n",
       "      <td>India</td>\n",
       "      <td>Sri Lanka</td>\n",
       "      <td>ODI</td>\n",
       "      <td>Dhaka</td>\n",
       "      <td>1988</td>\n",
       "      <td>Win</td>\n",
       "      <td>Bowling</td>\n",
       "      <td>254.0</td>\n",
       "      <td>10.0</td>\n",
       "      <td>14.0</td>\n",
       "      <td>...</td>\n",
       "      <td>97.52</td>\n",
       "      <td>50.0</td>\n",
       "      <td>6.0</td>\n",
       "      <td>13.0</td>\n",
       "      <td>2.0</td>\n",
       "      <td>Aravinda de Silva</td>\n",
       "      <td>Lose</td>\n",
       "      <td>0</td>\n",
       "      <td>0</td>\n",
       "      <td>0</td>\n",
       "    </tr>\n",
       "    <tr>\n",
       "      <th>22</th>\n",
       "      <td>India</td>\n",
       "      <td>Pakistan</td>\n",
       "      <td>ODI</td>\n",
       "      <td>Dhaka</td>\n",
       "      <td>1988</td>\n",
       "      <td>Win</td>\n",
       "      <td>Bowling</td>\n",
       "      <td>143.0</td>\n",
       "      <td>6.0</td>\n",
       "      <td>8.0</td>\n",
       "      <td>...</td>\n",
       "      <td>38.29</td>\n",
       "      <td>74.0</td>\n",
       "      <td>10.0</td>\n",
       "      <td>17.0</td>\n",
       "      <td>5.0</td>\n",
       "      <td>Arshad Ayub</td>\n",
       "      <td>Win</td>\n",
       "      <td>0</td>\n",
       "      <td>1</td>\n",
       "      <td>0</td>\n",
       "    </tr>\n",
       "  </tbody>\n",
       "</table>\n",
       "<p>5 rows × 23 columns</p>\n",
       "</div>"
      ],
      "text/plain": [
       "     Team    Opponent Format      Ground  Year Toss Selection  Run Scored  \\\n",
       "2   India   Sri Lanka    ODI     Sharjah  1984  Win   Bowling        97.0   \n",
       "4   India    Pakistan    ODI     Sharjah  1984  Win   Batting       188.0   \n",
       "17  India  Bangladesh    ODI  Chattogram  1988  Win   Bowling       100.0   \n",
       "18  India   Sri Lanka    ODI       Dhaka  1988  Win   Bowling       254.0   \n",
       "22  India    Pakistan    ODI       Dhaka  1988  Win   Bowling       143.0   \n",
       "\n",
       "    Wicket Lost  Fours  ...  Avg Bat Strike Rate  Highest Score  Wicket Taken  \\\n",
       "2           0.0    9.0  ...                60.48           51.0          10.0   \n",
       "4           4.0   13.0  ...                60.21           56.0          10.0   \n",
       "17          1.0    7.0  ...                56.70           50.0           8.0   \n",
       "18         10.0   14.0  ...                97.52           50.0           6.0   \n",
       "22          6.0    8.0  ...                38.29           74.0          10.0   \n",
       "\n",
       "    Given Extras  Highest Individual wicket  Player Of The Match  Result  \\\n",
       "2            8.0                        3.0      Surinder Khanna     Win   \n",
       "4            5.0                        3.0      Surinder Khanna     Win   \n",
       "17          13.0                        3.0         Navjot Sidhu     Win   \n",
       "18          13.0                        2.0    Aravinda de Silva    Lose   \n",
       "22          17.0                        5.0          Arshad Ayub     Win   \n",
       "\n",
       "    won_while_defending won_while_chasing first_innings  \n",
       "2                     0                 1             0  \n",
       "4                     1                 0             1  \n",
       "17                    0                 1             0  \n",
       "18                    0                 0             0  \n",
       "22                    0                 1             0  \n",
       "\n",
       "[5 rows x 23 columns]"
      ]
     },
     "execution_count": 265,
     "metadata": {},
     "output_type": "execute_result"
    }
   ],
   "source": [
    "india.head()"
   ]
  },
  {
   "cell_type": "code",
   "execution_count": 266,
   "id": "d4b27ebc",
   "metadata": {},
   "outputs": [
    {
     "data": {
      "text/plain": [
       "(49, 23)"
      ]
     },
     "execution_count": 266,
     "metadata": {},
     "output_type": "execute_result"
    }
   ],
   "source": [
    "india.shape"
   ]
  },
  {
   "cell_type": "markdown",
   "id": "e75dbc1f",
   "metadata": {},
   "source": [
    "## against Pakistan"
   ]
  },
  {
   "cell_type": "code",
   "execution_count": 267,
   "id": "7fb1aa77",
   "metadata": {},
   "outputs": [],
   "source": [
    "india_vs_pakistan=india[india['Opponent']=='Pakistan']"
   ]
  },
  {
   "cell_type": "code",
   "execution_count": 269,
   "id": "af2891f8",
   "metadata": {},
   "outputs": [
    {
     "data": {
      "text/plain": [
       "(13, 23)"
      ]
     },
     "execution_count": 269,
     "metadata": {},
     "output_type": "execute_result"
    }
   ],
   "source": [
    "india_vs_pakistan.shape"
   ]
  },
  {
   "cell_type": "code",
   "execution_count": 347,
   "id": "2b100278",
   "metadata": {},
   "outputs": [
    {
     "name": "stdout",
     "output_type": "stream",
     "text": [
      "win % against pakistan :  53.84615384615385\n",
      "win % while chasing a total :  60.0\n",
      "win % while defending a total :  33.33333333333333\n"
     ]
    },
    {
     "data": {
      "text/plain": [
       "Text(0.5, 1.0, 'Win % against Pakistan')"
      ]
     },
     "execution_count": 347,
     "metadata": {},
     "output_type": "execute_result"
    },
    {
     "data": {
      "image/png": "[encoded data removed]",
      "text/plain": [
       "<Figure size 432x288 with 1 Axes>"
      ]
     },
     "metadata": {
      "needs_background": "light"
     },
     "output_type": "display_data"
    }
   ],
   "source": [
    "win_percent_pak=len(india_vs_pakistan[india_vs_pakistan['Result']=='Win'])/13*100\n",
    "win_percent_while_batting_first_pak=len(india_vs_pakistan[india_vs_pakistan['won_while_defending']==1])/len(india_vs_pakistan[india_vs_pakistan['first_innings']==1])*100\n",
    "win_percent_while_batting_second_pak=len(india_vs_pakistan[india_vs_pakistan['won_while_chasing']==1])/len(india_vs_pakistan[india_vs_pakistan['first_innings']==0])*100\n",
    "print(\"win % against pakistan : \",win_percent_pak)\n",
    "print(\"win % while chasing a total : \",win_percent_while_batting_second_pak)\n",
    "print(\"win % while defending a total : \",win_percent_while_batting_first_pak)\n",
    "categories=('overall win %','win % while chasing','win % while defending')\n",
    "values=(win_percent_pak,win_percent_while_batting_second_pak,win_percent_while_batting_first_pak)\n",
    "plt.barh(categories,values)\n",
    "plt.xlabel('Percent')\n",
    "plt.title('Win % against Pakistan')"
   ]
  },
  {
   "cell_type": "code",
   "execution_count": 278,
   "id": "44036514",
   "metadata": {},
   "outputs": [
    {
     "name": "stdout",
     "output_type": "stream",
     "text": [
      "Maximum total that Pakistan has chased successfully against India :  308.0\n"
     ]
    }
   ],
   "source": [
    "successful_chases_by_pakistan=india_vs_pakistan[(india_vs_pakistan['Result']=='Lose') & (india_vs_pakistan['first_innings']==1)]['Run Scored'].values\n",
    "successful_chases_by_pakistan\n",
    "print(\"Maximum total that Pakistan has chased successfully against India : \",successful_chases_by_pakistan.max())"
   ]
  },
  {
   "cell_type": "code",
   "execution_count": 279,
   "id": "91f8897e",
   "metadata": {},
   "outputs": [
    {
     "name": "stdout",
     "output_type": "stream",
     "text": [
      "Maximum total that India has chased successfully against Pakistan :  330.0\n"
     ]
    }
   ],
   "source": [
    "successful_chases_by_india=india_vs_pakistan[(india_vs_pakistan['Result']=='Win') & (india_vs_pakistan['first_innings']==0)]['Run Scored'].values\n",
    "successful_chases_by_india\n",
    "print(\"Maximum total that India has chased successfully against Pakistan : \",successful_chases_by_india.max())"
   ]
  },
  {
   "cell_type": "markdown",
   "id": "79398def",
   "metadata": {},
   "source": [
    "## Against Sri Lanka"
   ]
  },
  {
   "cell_type": "code",
   "execution_count": 280,
   "id": "dfefaa3f",
   "metadata": {},
   "outputs": [],
   "source": [
    "india_vs_SL=india[india['Opponent']=='Sri Lanka']"
   ]
  },
  {
   "cell_type": "code",
   "execution_count": 281,
   "id": "69b4bf95",
   "metadata": {},
   "outputs": [
    {
     "data": {
      "text/plain": [
       "(19, 23)"
      ]
     },
     "execution_count": 281,
     "metadata": {},
     "output_type": "execute_result"
    }
   ],
   "source": [
    "india_vs_SL.shape"
   ]
  },
  {
   "cell_type": "code",
   "execution_count": 348,
   "id": "d95bef07",
   "metadata": {},
   "outputs": [
    {
     "name": "stdout",
     "output_type": "stream",
     "text": [
      "win % against Sri Lanka :  47.368421052631575\n",
      "win % while chasing a total :  50.0\n",
      "win % while defending a total :  42.857142857142854\n"
     ]
    },
    {
     "data": {
      "text/plain": [
       "Text(0.5, 1.0, 'Win % against Sri Lanka')"
      ]
     },
     "execution_count": 348,
     "metadata": {},
     "output_type": "execute_result"
    },
    {
     "data": {
      "image/png": "[encoded data removed]",
      "text/plain": [
       "<Figure size 432x288 with 1 Axes>"
      ]
     },
     "metadata": {
      "needs_background": "light"
     },
     "output_type": "display_data"
    }
   ],
   "source": [
    "win_percent_SL=len(india_vs_SL[india_vs_SL['Result']=='Win'])/19*100\n",
    "win_percent_while_batting_first_SL=len(india_vs_SL[india_vs_SL['won_while_defending']==1])/len(india_vs_SL[india_vs_SL['first_innings']==1])*100\n",
    "win_percent_while_batting_second_SL=len(india_vs_SL[india_vs_SL['won_while_chasing']==1])/len(india_vs_SL[india_vs_SL['first_innings']==0])*100\n",
    "print(\"win % against Sri Lanka : \",win_percent_SL)\n",
    "print(\"win % while chasing a total : \",win_percent_while_batting_second_SL)\n",
    "print(\"win % while defending a total : \",win_percent_while_batting_first_SL)\n",
    "categories=('overall win %','win % while chasing','win % while defending')\n",
    "values=(win_percent_SL,win_percent_while_batting_second_SL,win_percent_while_batting_first_SL)\n",
    "plt.barh(categories,values)\n",
    "plt.xlabel('Percent')\n",
    "plt.title('Win % against Sri Lanka')"
   ]
  },
  {
   "cell_type": "code",
   "execution_count": 283,
   "id": "ad37ecd0",
   "metadata": {},
   "outputs": [
    {
     "name": "stdout",
     "output_type": "stream",
     "text": [
      "Maximum total that Sri Lanka has chased successfully against India :  264.0\n"
     ]
    }
   ],
   "source": [
    "successful_chases_by_SL=india_vs_SL[(india_vs_SL['Result']=='Lose') & (india_vs_SL['first_innings']==1)]['Run Scored'].values\n",
    "successful_chases_by_SL\n",
    "print(\"Maximum total that Sri Lanka has chased successfully against India : \",successful_chases_by_SL.max())"
   ]
  },
  {
   "cell_type": "code",
   "execution_count": 285,
   "id": "d6bdfb85",
   "metadata": {},
   "outputs": [
    {
     "name": "stdout",
     "output_type": "stream",
     "text": [
      "Maximum total that India has chased successfully against Sri Lanka :  310.0\n"
     ]
    }
   ],
   "source": [
    "successful_chases_by_india=india_vs_SL[(india_vs_SL['Result']=='Win') & (india_vs_SL['first_innings']==0)]['Run Scored'].values\n",
    "successful_chases_by_SL\n",
    "print(\"Maximum total that India has chased successfully against Sri Lanka : \",successful_chases_by_india.max())"
   ]
  },
  {
   "cell_type": "markdown",
   "id": "9a0e42a7",
   "metadata": {},
   "source": [
    "## Against Bangladesh"
   ]
  },
  {
   "cell_type": "code",
   "execution_count": 286,
   "id": "2c9c34b5",
   "metadata": {},
   "outputs": [],
   "source": [
    "india_vs_Ban=india[india['Opponent']=='Bangladesh']"
   ]
  },
  {
   "cell_type": "code",
   "execution_count": 287,
   "id": "00d0fad5",
   "metadata": {},
   "outputs": [
    {
     "data": {
      "text/plain": [
       "(12, 23)"
      ]
     },
     "execution_count": 287,
     "metadata": {},
     "output_type": "execute_result"
    }
   ],
   "source": [
    "india_vs_Ban.shape"
   ]
  },
  {
   "cell_type": "code",
   "execution_count": 349,
   "id": "7fe46488",
   "metadata": {},
   "outputs": [
    {
     "name": "stdout",
     "output_type": "stream",
     "text": [
      "win % against Bangladesh :  57.89473684210527\n",
      "win % while chasing a total :  100.0\n",
      "win % while defending a total :  0.0\n"
     ]
    },
    {
     "data": {
      "text/plain": [
       "Text(0.5, 1.0, 'Win % against Bangladesh')"
      ]
     },
     "execution_count": 349,
     "metadata": {},
     "output_type": "execute_result"
    },
    {
     "data": {
      "image/png": "[encoded data removed]",
      "text/plain": [
       "<Figure size 432x288 with 1 Axes>"
      ]
     },
     "metadata": {
      "needs_background": "light"
     },
     "output_type": "display_data"
    }
   ],
   "source": [
    "win_percent_Ban=len(india_vs_Ban[india_vs_Ban['Result']=='Win'])/19*100\n",
    "win_percent_while_batting_first_Ban=len(india_vs_Ban[india_vs_Ban['won_while_defending']==1])/len(india_vs_Ban[india_vs_Ban['first_innings']==1])*100\n",
    "win_percent_while_batting_second_Ban=len(india_vs_Ban[india_vs_Ban['won_while_chasing']==1])/len(india_vs_Ban[india_vs_Ban['first_innings']==0])*100\n",
    "print(\"win % against Bangladesh : \",win_percent_Ban)\n",
    "print(\"win % while chasing a total : \",win_percent_while_batting_second_Ban)\n",
    "print(\"win % while defending a total : \",win_percent_while_batting_first_Ban)\n",
    "categories=('overall win %','win % while chasing','win % while defending')\n",
    "values=(win_percent_Ban,win_percent_while_batting_second_Ban,win_percent_while_batting_first_Ban)\n",
    "plt.barh(categories,values)\n",
    "plt.xlabel('Percent')\n",
    "plt.title('Win % against Bangladesh')"
   ]
  },
  {
   "cell_type": "code",
   "execution_count": 289,
   "id": "eb62b3a8",
   "metadata": {},
   "outputs": [
    {
     "name": "stdout",
     "output_type": "stream",
     "text": [
      "Maximum total that Bangladesh has chased successfully against India :  289.0\n"
     ]
    }
   ],
   "source": [
    "successful_chases_by_Ban=india_vs_Ban[(india_vs_Ban['Result']=='Lose') & (india_vs_Ban['first_innings']==1)]['Run Scored'].values\n",
    "successful_chases_by_Ban\n",
    "print(\"Maximum total that Bangladesh has chased successfully against India : \",successful_chases_by_Ban.max())"
   ]
  },
  {
   "cell_type": "code",
   "execution_count": 290,
   "id": "aeaf88c5",
   "metadata": {},
   "outputs": [
    {
     "name": "stdout",
     "output_type": "stream",
     "text": [
      "Maximum total that India has chased successfully against Bangladesh :  284.0\n"
     ]
    }
   ],
   "source": [
    "successful_chases_by_india=india_vs_Ban[(india_vs_Ban['Result']=='Win') & (india_vs_Ban['first_innings']==0)]['Run Scored'].values\n",
    "successful_chases_by_Ban\n",
    "print(\"Maximum total that India has chased successfully against Bangladesh : \",successful_chases_by_india.max())"
   ]
  },
  {
   "cell_type": "markdown",
   "id": "5150d9ac",
   "metadata": {},
   "source": [
    "# Strategical insights drawn from this report"
   ]
  },
  {
   "cell_type": "markdown",
   "id": "18260602",
   "metadata": {},
   "source": [
    "1.<font color='red'>Fact : </font> Win % while batting first in Sri Lanka in Asia Cup(ODI) is 56% while batting second is 40%.<br>  <font color='green'>Insight : </font> It is easier to defend a total than chasing one.<br><br>\n",
    "2.<font color='red'>Fact : </font> Highest total that has ever been chased successfully in Sri Lanka in Asia Cup(ODI) is 239.<BR>  <font color='green'>Insight : </font> 240+ can be considered a safe total. <br><br>\n",
    "3.<font color='red'>Fact : </font> Win % of Bangladesh while chasing in Sri Lanka in Asia Cup(ODI) is 0.00.<br>\n",
    "  <font color='green'>Insight : </font> Bangladesh have never won an Asia Cup(ODI) game in Sri Lanka while chasing.<br><br>\n",
    "4.<font color='red'>Fact : </font> Against Pakistan, India's win % while  chasing is 60% while win % while defending is just 33.33%. Also win % of Pakistan in Asia Cup(ODI) while defending(53.57) is quite low as compared to its win % while chasing(64.71).<br>\n",
    "  <font color='green'>Insight : </font> Against Pakistan, batting second is a safer bet.<br><br>\n"
   ]
  },
  {
   "cell_type": "markdown",
   "id": "aecf7f2a",
   "metadata": {},
   "source": [
    "# General insights drawn from this report"
   ]
  },
  {
   "cell_type": "markdown",
   "id": "3fcbde38",
   "metadata": {},
   "source": [
    "### ODI version--->"
   ]
  },
  {
   "cell_type": "markdown",
   "id": "600a42e4",
   "metadata": {},
   "source": [
    "1. Most runs : S Jayasuriya(1220)<br>\n",
    "2. Most sixes : Shahid Afrifi(26)<br>\n",
    "3. Highest individual score in an innings : Virat Kohli(183)<br>\n",
    "4. Most 100s : S Jayasuriya(6)<br>\n",
    "5. Most 50+ scores : Kumar Sanggakara(4 100s and 8 50s)<br>\n",
    "6. Most wickets : M Murlidharan(30)<br>\n",
    "7. Best Economy Rate : W Akram(3.22)<br>\n",
    "8. Best Strike Rate : A Mendis(15.6)<br>\n",
    "9. Best bowling Average : A Mendis(10.42)<br>\n",
    "10. Most overs bowled : M Murlidharan(230.2)<br>\n",
    "11. Most maiden overs bowled : C Vaas(20)<br>\n",
    "12. Most dismissals by a wk : MSD and Sanggakara(36)<br>\n",
    "13. Most stumpings by a wk : MSD(11)<br>\n",
    "14. Most catches by a wk : Sanggakara(27)<br>\n",
    "15. Most dismissals by a wk in a single innings : MSD(5)<br>"
   ]
  },
  {
   "cell_type": "markdown",
   "id": "a74c190c",
   "metadata": {},
   "source": [
    "### T20I version--->"
   ]
  },
  {
   "cell_type": "markdown",
   "id": "40282516",
   "metadata": {},
   "source": [
    "1. Most Runs : V Kohli(429)<br>\n",
    "2. Best average : V Kphli(85.80)<br>\n",
    "3. Highest individual score in an innings : V Kohli and B Hayat(122)<br>\n",
    "4. Most 50+ scores : V Kohli(1 100 and 3 50s)<br>\n",
    "5. Most 6s : Najibullah Zadran(13)<br>\n",
    "6. Best Strike Rate : Mosaddek Hossain(180)<br>\n",
    "7. Most wickets : B Kumar(13)<br>\n",
    "8. Best economy rate : Mahmudullah(4.66)<br>\n",
    "9. Best Strike rate : Malinga(6)<br>\n",
    "10. Best bowling average : Malinga(6.5)<br>\n",
    "11. Most dismissals by a wk : MSD(7) and SP Patil<br>"
   ]
  },
  {
   "cell_type": "markdown",
   "id": "c1389583",
   "metadata": {},
   "source": [
    "# Fun facts--->"
   ]
  },
  {
   "cell_type": "markdown",
   "id": "5e889f2c",
   "metadata": {},
   "source": [
    "1. Only 2 batsmen have scored 1000+ runs in Asia Cup(ODI) - Jayasuriya and k Sanggakara.<br>\n",
    "2. Only 2 batsmen have hit more than 20 sixes in Asia Cup(ODI) - Jayasuriya and Afridi<br>\n",
    "3. Only Virat Kohli has an individual socre of 150+ in Asia Cup(ODI)<br>\n",
    "4. Only 2 batsmen have scored more than 3 100s in Asia Cup(ODI) - Jayasuriya and k Sanggakara.<br>\n",
    "5. Sachin, a batting legend, has the 5th best bowling average among the Indians in Asia Cup(ODI)<br>\n",
    "6. Only 2 batsmen have scored a hundred in Asia Cup(T20I), Virat Kohli and Babar Hayat. Coincidentally,both of them scored 122.<br>\n",
    "7. Virat Kohli holds the unique distinction of holding the record for highest individual scores in both the versions ODI(183) and T20I(122) in Asia Cup.<br>\n",
    "8. Virat Kohli is the only player to score a 100 in the ODI as well as the T20I versions of Asia Cup.<br>"
   ]
  }
 ],
 "metadata": {
  "kernelspec": {
   "display_name": "Python 3 (ipykernel)",
   "language": "python",
   "name": "python3"
  },
  "language_info": {
   "codemirror_mode": {
    "name": "ipython",
    "version": 3
   },
   "file_extension": ".py",
   "mimetype": "text/x-python",
   "name": "python",
   "nbconvert_exporter": "python",
   "pygments_lexer": "ipython3",
   "version": "3.9.12"
  }
 },
 "nbformat": 4,
 "nbformat_minor": 5
}
